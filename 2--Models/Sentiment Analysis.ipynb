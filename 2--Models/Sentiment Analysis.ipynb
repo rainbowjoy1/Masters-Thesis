{
 "cells": [
  {
   "cell_type": "code",
   "execution_count": 1,
   "metadata": {},
   "outputs": [
    {
     "name": "stderr",
     "output_type": "stream",
     "text": [
      "2023-04-24 11:21:05.836251: I tensorflow/core/platform/cpu_feature_guard.cc:193] This TensorFlow binary is optimized with oneAPI Deep Neural Network Library (oneDNN) to use the following CPU instructions in performance-critical operations:  SSE4.1 SSE4.2\n",
      "To enable them in other operations, rebuild TensorFlow with the appropriate compiler flags.\n"
     ]
    }
   ],
   "source": [
    "#import packages\n",
    "#pip install textblob\n",
    "#pip install keras\n",
    "#pip install tensorflow\n",
    "from textblob import TextBlob\n",
    "import pandas as pd\n",
    "import seaborn as sns \n",
    "import matplotlib.pyplot as plt"
   ]
  },
  {
   "cell_type": "code",
   "execution_count": 354,
   "metadata": {},
   "outputs": [],
   "source": [
    "year = \"2022\"\n",
    "file_path = \"/Users/yolandaferreirofranchi/Desktop/ThesisDatasets/\"\n",
    "file_path_2 = \"_final_rnn.pickle\"\n",
    "\n",
    "df = pd.read_pickle(file_path + year + file_path_2)"
   ]
  },
  {
   "cell_type": "code",
   "execution_count": 355,
   "metadata": {},
   "outputs": [],
   "source": [
    "def absolute_count(male_col, female_col):\n",
    "    if female_col > male_col and male_col == 0:\n",
    "        return 1\n",
    "    elif male_col> female_col and female_col ==0: \n",
    "        return 0\n",
    "    else: \n",
    "        return None\n",
    "\n",
    "#PP Data\n",
    "df['col_type'] = df.apply(lambda row: absolute_count(row['male_count'], row['female_count']),axis=1)\n",
    "df = df[df[\"col_type\"].notnull()]"
   ]
  },
  {
   "cell_type": "code",
   "execution_count": 356,
   "metadata": {},
   "outputs": [],
   "source": [
    "def subjectivity(sentence):\n",
    "    subjectivity = \"\"\n",
    "\n",
    "    subjectivity = TextBlob(sentence).sentiment.subjectivity\n",
    "\n",
    "    return subjectivity\n",
    "\n",
    "def polarity(sentence):\n",
    "    polarity = \"\"\n",
    "    polarity = TextBlob(sentence).sentiment.polarity\n",
    "    return polarity"
   ]
  },
  {
   "cell_type": "code",
   "execution_count": 357,
   "metadata": {},
   "outputs": [],
   "source": [
    "df['subjectivity'] = df['string_rnn'].apply(subjectivity)\n",
    "df['polarity'] = df['string_rnn'].apply(polarity)"
   ]
  },
  {
   "cell_type": "code",
   "execution_count": 358,
   "metadata": {},
   "outputs": [],
   "source": [
    "#apply function to only get rows with an absolute count \n",
    "df['col_type'] = df.apply(lambda row: absolute_count(row['male_count'], row['female_count']),axis=1)\n",
    "df = df[df[\"col_type\"].notnull()]\n"
   ]
  },
  {
   "cell_type": "code",
   "execution_count": 359,
   "metadata": {},
   "outputs": [],
   "source": [
    "val_count_m = df[\"col_type\"].value_counts()[0]\n",
    "val_count_f = df[\"col_type\"].value_counts()[1]"
   ]
  },
  {
   "cell_type": "code",
   "execution_count": 360,
   "metadata": {},
   "outputs": [],
   "source": [
    "def scores(df):\n",
    "    sub_m = []\n",
    "    pol_m = []\n",
    "    sub_f = []\n",
    "    pol_f = []\n",
    "    for index, row in df.iterrows():\n",
    "        if row[\"col_type\"] == 0:\n",
    "            sub_m.append(row[\"subjectivity\"])\n",
    "            pol_m.append(row[\"polarity\"])\n",
    "        elif row[\"col_type\"] == 1: \n",
    "            sub_f.append(row[\"subjectivity\"])\n",
    "            pol_f.append(row[\"polarity\"])\n",
    "    \n",
    "    return round((sum(sub_m))/val_count_m, 3), round((sum(pol_m))/val_count_m, 3), round((sum(sub_f))/val_count_f, 3), round((sum(pol_f))/val_count_f, 3)"
   ]
  },
  {
   "attachments": {},
   "cell_type": "markdown",
   "metadata": {},
   "source": [
    "**Results** \n",
    "\n",
    "*Subjectivity* - how subjective or objective a piece of text is. 0.0 is most objective and 1.0 is more subjective. 0.5 is a neutral score. \n",
    "\n",
    "*Polarity* - how positive or negative a piece of text is. -1 is most negative and 1 most positive. \n"
   ]
  },
  {
   "cell_type": "code",
   "execution_count": 361,
   "metadata": {},
   "outputs": [
    {
     "data": {
      "text/plain": [
       "(0.293, 0.046, 0.31, 0.062)"
      ]
     },
     "execution_count": 361,
     "metadata": {},
     "output_type": "execute_result"
    }
   ],
   "source": [
    "scores(df)"
   ]
  },
  {
   "cell_type": "code",
   "execution_count": 362,
   "metadata": {},
   "outputs": [
    {
     "data": {
      "text/html": [
       "<div>\n",
       "<style scoped>\n",
       "    .dataframe tbody tr th:only-of-type {\n",
       "        vertical-align: middle;\n",
       "    }\n",
       "\n",
       "    .dataframe tbody tr th {\n",
       "        vertical-align: top;\n",
       "    }\n",
       "\n",
       "    .dataframe thead th {\n",
       "        text-align: right;\n",
       "    }\n",
       "</style>\n",
       "<table border=\"1\" class=\"dataframe\">\n",
       "  <thead>\n",
       "    <tr style=\"text-align: right;\">\n",
       "      <th></th>\n",
       "      <th>Year</th>\n",
       "      <th>Subjectivity (M)</th>\n",
       "      <th>Polarity (M)</th>\n",
       "      <th>Subjectivity (F)</th>\n",
       "      <th>Polarity (F)</th>\n",
       "    </tr>\n",
       "  </thead>\n",
       "  <tbody>\n",
       "    <tr>\n",
       "      <th>0</th>\n",
       "      <td>2010</td>\n",
       "      <td>0.286</td>\n",
       "      <td>0.044</td>\n",
       "      <td>0.290</td>\n",
       "      <td>0.053</td>\n",
       "    </tr>\n",
       "    <tr>\n",
       "      <th>1</th>\n",
       "      <td>2011</td>\n",
       "      <td>0.283</td>\n",
       "      <td>0.046</td>\n",
       "      <td>0.289</td>\n",
       "      <td>0.055</td>\n",
       "    </tr>\n",
       "    <tr>\n",
       "      <th>2</th>\n",
       "      <td>2012</td>\n",
       "      <td>0.286</td>\n",
       "      <td>0.049</td>\n",
       "      <td>0.292</td>\n",
       "      <td>0.059</td>\n",
       "    </tr>\n",
       "    <tr>\n",
       "      <th>3</th>\n",
       "      <td>2013</td>\n",
       "      <td>0.285</td>\n",
       "      <td>0.046</td>\n",
       "      <td>0.291</td>\n",
       "      <td>0.055</td>\n",
       "    </tr>\n",
       "    <tr>\n",
       "      <th>4</th>\n",
       "      <td>2014</td>\n",
       "      <td>0.286</td>\n",
       "      <td>0.049</td>\n",
       "      <td>0.292</td>\n",
       "      <td>0.053</td>\n",
       "    </tr>\n",
       "    <tr>\n",
       "      <th>5</th>\n",
       "      <td>2015</td>\n",
       "      <td>0.286</td>\n",
       "      <td>0.047</td>\n",
       "      <td>0.295</td>\n",
       "      <td>0.057</td>\n",
       "    </tr>\n",
       "    <tr>\n",
       "      <th>6</th>\n",
       "      <td>2016</td>\n",
       "      <td>0.292</td>\n",
       "      <td>0.050</td>\n",
       "      <td>0.299</td>\n",
       "      <td>0.060</td>\n",
       "    </tr>\n",
       "    <tr>\n",
       "      <th>7</th>\n",
       "      <td>2017</td>\n",
       "      <td>0.287</td>\n",
       "      <td>0.045</td>\n",
       "      <td>0.298</td>\n",
       "      <td>0.057</td>\n",
       "    </tr>\n",
       "    <tr>\n",
       "      <th>8</th>\n",
       "      <td>2018</td>\n",
       "      <td>0.286</td>\n",
       "      <td>0.043</td>\n",
       "      <td>0.302</td>\n",
       "      <td>0.056</td>\n",
       "    </tr>\n",
       "    <tr>\n",
       "      <th>9</th>\n",
       "      <td>2019</td>\n",
       "      <td>0.286</td>\n",
       "      <td>0.040</td>\n",
       "      <td>0.299</td>\n",
       "      <td>0.053</td>\n",
       "    </tr>\n",
       "    <tr>\n",
       "      <th>10</th>\n",
       "      <td>2020</td>\n",
       "      <td>0.298</td>\n",
       "      <td>0.048</td>\n",
       "      <td>0.313</td>\n",
       "      <td>0.058</td>\n",
       "    </tr>\n",
       "    <tr>\n",
       "      <th>11</th>\n",
       "      <td>2021</td>\n",
       "      <td>0.300</td>\n",
       "      <td>0.050</td>\n",
       "      <td>0.316</td>\n",
       "      <td>0.058</td>\n",
       "    </tr>\n",
       "    <tr>\n",
       "      <th>12</th>\n",
       "      <td>2022</td>\n",
       "      <td>0.293</td>\n",
       "      <td>0.046</td>\n",
       "      <td>0.310</td>\n",
       "      <td>0.062</td>\n",
       "    </tr>\n",
       "  </tbody>\n",
       "</table>\n",
       "</div>"
      ],
      "text/plain": [
       "    Year  Subjectivity (M)  Polarity (M)  Subjectivity (F)  Polarity (F)\n",
       "0   2010             0.286         0.044             0.290         0.053\n",
       "1   2011             0.283         0.046             0.289         0.055\n",
       "2   2012             0.286         0.049             0.292         0.059\n",
       "3   2013             0.285         0.046             0.291         0.055\n",
       "4   2014             0.286         0.049             0.292         0.053\n",
       "5   2015             0.286         0.047             0.295         0.057\n",
       "6   2016             0.292         0.050             0.299         0.060\n",
       "7   2017             0.287         0.045             0.298         0.057\n",
       "8   2018             0.286         0.043             0.302         0.056\n",
       "9   2019             0.286         0.040             0.299         0.053\n",
       "10  2020             0.298         0.048             0.313         0.058\n",
       "11  2021             0.300         0.050             0.316         0.058\n",
       "12  2022             0.293         0.046             0.310         0.062"
      ]
     },
     "execution_count": 362,
     "metadata": {},
     "output_type": "execute_result"
    }
   ],
   "source": [
    "#polarity and sentiment scores for F and M by year\n",
    "years = [2010, 2011, 2012, 2013, 2014, 2015, 2016, 2017, 2018, 2019, 2020, 2021, 2022]\n",
    "sub_male = [0.286, 0.283, 0.286, 0.285, 0.286, 0.286, 0.292, 0.287, 0.286, 0.286, 0.298, 0.3, 0.293]\n",
    "pol_male = [0.044, 0.046, 0.049, 0.046, 0.049, 0.047, 0.05, 0.045, 0.043, 0.04, 0.048, 0.05, 0.046]\n",
    "sub_female = [0.29, 0.289, 0.292, 0.291, 0.292, 0.295, 0.299, 0.298, 0.302, 0.299, 0.313, 0.316, 0.31]\n",
    "pol_female = [0.053, 0.055, 0.059, 0.055, 0.053, 0.057, 0.06, 0.057, 0.056, 0.053, 0.058, 0.058, 0.062]\n",
    "\n",
    "sent_data = {'Year': years, \n",
    "             'Subjectivity (M)': sub_male,\n",
    "             'Polarity (M)': pol_male, \n",
    "             'Subjectivity (F)': sub_female, \n",
    "             'Polarity (F)': pol_female}\n",
    "\n",
    "sent_data = pd.DataFrame(sent_data)\n",
    "sent_data"
   ]
  },
  {
   "attachments": {},
   "cell_type": "markdown",
   "metadata": {},
   "source": [
    "**EDA Yearly Sentiment**"
   ]
  },
  {
   "cell_type": "code",
   "execution_count": 375,
   "metadata": {},
   "outputs": [
    {
     "data": {
      "image/png": "[encoded data removed]",
      "text/plain": [
       "<Figure size 800x500 with 2 Axes>"
      ]
     },
     "metadata": {},
     "output_type": "display_data"
    }
   ],
   "source": [
    "sub = sent_data[['Year', 'Subjectivity (M)', 'Subjectivity (F)']]\n",
    "pola = sent_data[['Year','Polarity (M)', 'Polarity (F)']]\n",
    "\n",
    "sns.set_theme(style='ticks')\n",
    "fig, axis = plt.subplots(nrows =2, figsize = (8,5))\n",
    "ax = sns.lineplot(x='Year', y='value', hue='variable', \n",
    "             data=pd.melt(sub, ['Year']),\n",
    "             palette=['royalblue', 'palevioletred'],  \n",
    "             ax = axis[0])\n",
    "ax.legend(bbox_to_anchor=(1.05, 1), loc='upper left')\n",
    "ax.set(xlabel = \"Year\", ylabel = \"Subjectivity\")\n",
    "\n",
    "ax = sns.lineplot(x='Year', y='value', hue='variable', \n",
    "             data=pd.melt(pola, ['Year']),\n",
    "             palette=['royalblue', 'palevioletred'], ax = axis[1])\n",
    "\n",
    "ax.set(xlabel = \"Year\", ylabel = \"Polarity\")\n",
    "ax.legend(bbox_to_anchor=(1.05, 1), loc='upper left')\n",
    "plt.show()"
   ]
  },
  {
   "attachments": {},
   "cell_type": "markdown",
   "metadata": {},
   "source": [
    "**Decade Model**"
   ]
  },
  {
   "cell_type": "code",
   "execution_count": null,
   "metadata": {},
   "outputs": [],
   "source": [
    "file_path = \"/Users/yolandaferreirofranchi/Desktop/ThesisDatasets/\"\n",
    "file_path_2 = \"_final_rnn.pickle\"\n",
    "\n",
    "df_10= pd.read_pickle(file_path + \"2010\" + file_path_2)\n",
    "df_11= pd.read_pickle(file_path + \"2011\" + file_path_2)\n",
    "df_12= pd.read_pickle(file_path + \"2012\" + file_path_2)\n",
    "df_13= pd.read_pickle(file_path + \"2013\" + file_path_2)\n",
    "df_14= pd.read_pickle(file_path + \"2014\" + file_path_2)\n",
    "df_15= pd.read_pickle(file_path + \"2015\" + file_path_2)\n",
    "df_16= pd.read_pickle(file_path + \"2016\" + file_path_2)\n",
    "df_17= pd.read_pickle(file_path + \"2017\" + file_path_2)\n",
    "df_18= pd.read_pickle(file_path + \"2018\" + file_path_2)\n",
    "df_19= pd.read_pickle(file_path + \"2019\" + file_path_2)\n",
    "df_20= pd.read_pickle(file_path + \"2020\" + file_path_2)\n",
    "df_21= pd.read_pickle(file_path + \"2021\" + file_path_2)\n",
    "df_22= pd.read_pickle(file_path + \"2022\" + file_path_2)"
   ]
  }
 ],
 "metadata": {
  "kernelspec": {
   "display_name": "base",
   "language": "python",
   "name": "python3"
  },
  "language_info": {
   "codemirror_mode": {
    "name": "ipython",
    "version": 3
   },
   "file_extension": ".py",
   "mimetype": "text/x-python",
   "name": "python",
   "nbconvert_exporter": "python",
   "pygments_lexer": "ipython3",
   "version": "3.9.12"
  },
  "orig_nbformat": 4
 },
 "nbformat": 4,
 "nbformat_minor": 2
}
