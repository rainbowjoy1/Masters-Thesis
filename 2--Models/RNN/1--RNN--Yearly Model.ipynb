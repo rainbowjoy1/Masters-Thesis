{
 "cells": [
  {
   "cell_type": "code",
   "execution_count": null,
   "metadata": {},
   "outputs": [],
   "source": [
    "#general \n",
    "import pandas as pd\n",
    "import numpy as np\n",
    "import os\n",
    "from sklearn import __version__ as sklearn_version\n",
    "from sklearn.model_selection import train_test_split\n",
    "\n",
    "#warnings \n",
    "import warnings \n",
    "warnings.filterwarnings(\"ignore\")\n",
    "\n",
    "#for RNN\n",
    "import tensorflow as tf\n",
    "from tensorflow.keras.callbacks import EarlyStopping\n",
    "from keras.models import load_model\n",
    "\n",
    "\n",
    "#for performance evaluation \n",
    "from sklearn.metrics import confusion_matrix\n",
    "from pretty_confusion_matrix import pp_matrix\n",
    "from sklearn.metrics import precision_recall_fscore_support\n",
    "\n",
    "#for visualization \n",
    "import matplotlib.pyplot as plt\n",
    "from wordcloud import WordCloud\n",
    "\n",
    "import pickle"
   ]
  },
  {
   "attachments": {},
   "cell_type": "markdown",
   "metadata": {},
   "source": [
    "**Versions of Packages**"
   ]
  },
  {
   "cell_type": "code",
   "execution_count": null,
   "metadata": {},
   "outputs": [],
   "source": [
    "#year_list = ['2009', '2010', '2012', '2013', '2014', '2015']\n",
    "year_list = ['2016', '2017', '2018', '2019', '2020', '2021', '2022']\n",
    "open_path = \"C:/Users/danie/Desktop/Masters Thesis/New Clean Data for Log Reg/\"\n",
    "save_path = \"C:/Users/danie/Desktop/Masters Thesis/RNN Models 2/\""
   ]
  },
  {
   "cell_type": "code",
   "execution_count": null,
   "metadata": {},
   "outputs": [],
   "source": [
    "def absolute_count(male_col, female_col):\n",
    "    if female_col > male_col and male_col == 0:\n",
    "        return 1\n",
    "    elif male_col> female_col and female_col ==0: \n",
    "        return 0\n",
    "    else: \n",
    "        return None"
   ]
  },
  {
   "cell_type": "code",
   "execution_count": null,
   "metadata": {},
   "outputs": [],
   "source": []
  },
  {
   "cell_type": "code",
   "execution_count": null,
   "metadata": {},
   "outputs": [],
   "source": []
  },
  {
   "cell_type": "code",
   "execution_count": null,
   "metadata": {},
   "outputs": [],
   "source": [
    "#newmodel - BEST ONE SO FAR!!\n",
    "rnn2 = tf.keras.Sequential([\n",
    "    encoder,\n",
    "    tf.keras.layers.Embedding(len(encoder.get_vocabulary()), 256, mask_zero=True),\n",
    "    tf.keras.layers.Bidirectional(tf.keras.layers.LSTM(128, return_sequences=True)),\n",
    "    tf.keras.layers.Bidirectional(tf.keras.layers.LSTM(64)),\n",
    "    tf.keras.layers.Dense(128, activation='relu'),\n",
    "    tf.keras.layers.Dropout(0.2),\n",
    "    tf.keras.layers.Dense(2)\n",
    "])"
   ]
  },
  {
   "cell_type": "code",
   "execution_count": null,
   "metadata": {},
   "outputs": [],
   "source": [
    "for year in year_list:\n",
    "\n",
    "    df = pd.read_pickle(open_path + year + \"_final_RNN.pickle\")\n",
    "\n",
    "    #apply function to only get rows with an absolute count \n",
    "    df['col_type'] = df.apply(lambda row: absolute_count(row['male_count'], row['female_count']),axis=1)\n",
    "\n",
    "    #remove nulls \n",
    "    df = df[df[\"col_type\"].notnull()]\n",
    "\n",
    "    # Split the df by the preprocessed \n",
    "    x_train, x_test, y_train, y_test = train_test_split(df[\"pre_processed_sent\"], \n",
    "                                                        df[\"col_type\"], \n",
    "                                                        stratify = df[\"col_type\"])\n",
    "\n",
    "    xTrain, xTest, yTrain, yTest = train_test_split(df[\"string_rnn\"],\n",
    "                                                    df[\"col_type\"], \n",
    "                                                    stratify = df[\"col_type\"])\n",
    "\n",
    "    train_dataset = tf.data.Dataset.from_tensor_slices((xTrain, yTrain)) #string_rnn here \n",
    "    test_dataset = tf.data.Dataset.from_tensor_slices((xTest, yTest)) #clean text \n",
    "\n",
    "    buffer_size = 50000 \n",
    "    batch_size = 64 # best practice\n",
    "    \n",
    "    train_dataset = train_dataset.shuffle(buffer_size).batch(batch_size).prefetch(tf.data.AUTOTUNE)\n",
    "    test_dataset = test_dataset.batch(batch_size).prefetch(tf.data.AUTOTUNE)\n",
    "\n",
    "\n",
    "    vocab_size = 60000 #this is 1/12 of all the words in the english language \n",
    "    encoder = tf.keras.layers.TextVectorization(max_tokens=vocab_size)\n",
    "    encoder.adapt(train_dataset.map(lambda text, label: text))\n",
    "\n",
    "    encoded_vocab = np.array(encoder.get_vocabulary())\n",
    "    vocab_dict = dict(enumerate(encoded_vocab))\n",
    "\n",
    "    rnn2.compile(loss=tf.keras.losses.SparseCategoricalCrossentropy(from_logits=True), \n",
    "                optimizer=tf.keras.optimizers.Adam(1e-4),\n",
    "                metrics=['accuracy'])\n",
    "\n",
    "    early_stop = EarlyStopping(monitor='val_loss', patience=5, verbose=1)\n",
    "\n",
    "    fitted_model = rnn2.fit(train_dataset, epochs=8,\n",
    "                        validation_data=test_dataset, \n",
    "                        callbacks = [early_stop])\n",
    "\n",
    "    rnn2.save(save_path + year + \"_RNN\")"
   ]
  }
 ],
 "metadata": {
  "kernelspec": {
   "display_name": "base",
   "language": "python",
   "name": "python3"
  },
  "language_info": {
   "codemirror_mode": {
    "name": "ipython",
    "version": 3
   },
   "file_extension": ".py",
   "mimetype": "text/x-python",
   "name": "python",
   "nbconvert_exporter": "python",
   "pygments_lexer": "ipython3",
   "version": "3.8.8"
  },
  "orig_nbformat": 4
 },
 "nbformat": 4,
 "nbformat_minor": 2
}
