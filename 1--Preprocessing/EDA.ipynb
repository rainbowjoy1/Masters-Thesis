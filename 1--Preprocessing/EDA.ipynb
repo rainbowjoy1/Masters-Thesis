{
 "cells": [
  {
   "cell_type": "code",
   "execution_count": null,
   "metadata": {},
   "outputs": [],
   "source": [
    "import pandas as pd\n",
    "import seaborn as sns \n",
    "import matplotlib.pyplot as plt\n",
    "import matplotlib.patches as mpatches"
   ]
  },
  {
   "cell_type": "code",
   "execution_count": null,
   "metadata": {},
   "outputs": [],
   "source": [
    "file_path = \"/Users/yolandaferreirofranchi/Desktop/ThesisDatasets/\"\n",
    "file_path_2 = \"_final_rnn.pickle\"\n",
    "\n",
    "df_10= pd.read_pickle(file_path + \"2010\" + file_path_2)\n",
    "df_11= pd.read_pickle(file_path + \"2011\" + file_path_2)\n",
    "df_12= pd.read_pickle(file_path + \"2012\" + file_path_2)\n",
    "df_13= pd.read_pickle(file_path + \"2013\" + file_path_2)\n",
    "df_14= pd.read_pickle(file_path + \"2014\" + file_path_2)\n",
    "df_15= pd.read_pickle(file_path + \"2015\" + file_path_2)\n",
    "df_16= pd.read_pickle(file_path + \"2016\" + file_path_2)\n",
    "df_17= pd.read_pickle(file_path + \"2017\" + file_path_2)\n",
    "df_18= pd.read_pickle(file_path + \"2018\" + file_path_2)\n",
    "df_19= pd.read_pickle(file_path + \"2019\" + file_path_2)\n",
    "df_20= pd.read_pickle(file_path + \"2020\" + file_path_2)\n",
    "df_21= pd.read_pickle(file_path + \"2021\" + file_path_2)\n",
    "df_22= pd.read_pickle(file_path + \"2022\" + file_path_2)"
   ]
  },
  {
   "cell_type": "code",
   "execution_count": null,
   "metadata": {},
   "outputs": [],
   "source": [
    "df_all = pd.concat([df_10, df_11, df_12, df_13, df_14, df_15, df_16, df_17, df_18, df_19, df_20, df_21, df_22])"
   ]
  },
  {
   "attachments": {},
   "cell_type": "markdown",
   "metadata": {},
   "source": [
    "**Stacked Bar Chart of Sentence Count By Gender By Year**"
   ]
  },
  {
   "cell_type": "code",
   "execution_count": null,
   "metadata": {},
   "outputs": [],
   "source": [
    "selected = df_all[[\"year\", \"col_type\"]]"
   ]
  },
  {
   "cell_type": "code",
   "execution_count": null,
   "metadata": {},
   "outputs": [],
   "source": [
    "selected #10,141,265 sentences in total "
   ]
  },
  {
   "cell_type": "code",
   "execution_count": null,
   "metadata": {},
   "outputs": [],
   "source": [
    "df10_m = selected[selected[\"year\"] == \"2010\"].value_counts()[0]\n",
    "df10_f = selected[selected[\"year\"] == \"2010\"].value_counts()[1]\n",
    "df11_m = selected[selected[\"year\"] == \"2011\"].value_counts()[0]\n",
    "df11_f = selected[selected[\"year\"] == \"2011\"].value_counts()[1]\n",
    "df12_m = selected[selected[\"year\"] == \"2012\"].value_counts()[0]\n",
    "df12_f = selected[selected[\"year\"] == \"2012\"].value_counts()[1]\n",
    "df13_m = selected[selected[\"year\"] == \"2013\"].value_counts()[0]\n",
    "df13_f = selected[selected[\"year\"] == \"2013\"].value_counts()[1]\n",
    "df14_m = selected[selected[\"year\"] == \"2014\"].value_counts()[0]\n",
    "df14_f = selected[selected[\"year\"] == \"2014\"].value_counts()[1]\n",
    "df15_m = selected[selected[\"year\"] == \"2015\"].value_counts()[0]\n",
    "df15_f = selected[selected[\"year\"] == \"2015\"].value_counts()[1]\n",
    "df16_m = selected[selected[\"year\"] == \"2016\"].value_counts()[0]\n",
    "df16_f = selected[selected[\"year\"] == \"2016\"].value_counts()[1]\n",
    "df17_m = selected[selected[\"year\"] == \"2017\"].value_counts()[0]\n",
    "df17_f = selected[selected[\"year\"] == \"2017\"].value_counts()[1]\n",
    "df18_m = selected[selected[\"year\"] == \"2018\"].value_counts()[0]\n",
    "df18_f = selected[selected[\"year\"] == \"2018\"].value_counts()[1]\n",
    "df19_m = selected[selected[\"year\"] == \"2019\"].value_counts()[0]\n",
    "df19_f = selected[selected[\"year\"] == \"2019\"].value_counts()[1]\n",
    "df20_m = selected[selected[\"year\"] == \"2020\"].value_counts()[0]\n",
    "df20_f = selected[selected[\"year\"] == \"2020\"].value_counts()[1]\n",
    "df21_m = selected[selected[\"year\"] == \"2021\"].value_counts()[0]\n",
    "df21_f = selected[selected[\"year\"] == \"2021\"].value_counts()[1]\n",
    "df22_m = selected[selected[\"year\"] == \"2022\"].value_counts()[0]\n",
    "df22_f = selected[selected[\"year\"] == \"2022\"].value_counts()[1]"
   ]
  },
  {
   "cell_type": "code",
   "execution_count": null,
   "metadata": {},
   "outputs": [],
   "source": [
    "data_inputs = pd.DataFrame({ \"year\": [2010, 2010, 2011, 2011, 2012, 2012, 2013, 2013, 2014, 2014, 2015, 2015, 2016, 2016, 2017, 2017, 2018, 2018, 2019, 2019, 2020, 2020, 2021, 2021, 2022, 2022],\n",
    "                            \"gender\": [\"male\", \"female\", \"male\", \"female\", \"male\", \"female\", \"male\", \"female\", \"male\", \"female\", \"male\", \"female\", \"male\", \"female\", \"male\", \"female\", \"male\", \"female\", \"male\", \"female\", \"male\", \"female\", \"male\", \"female\", \"male\", \"female\"], \n",
    "                           \"count_gen\": [df10_m, df10_f, df11_m, df11_f, df12_m, df12_f, df13_m, df13_f, df14_m, df14_f, df15_m, df15_f, df16_m, df16_f, df17_m, df17_f, df18_m, df18_f, df19_m, df19_f, df20_m, df20_f, df21_m, df21_f, df22_m, df22_f]})"
   ]
  },
  {
   "cell_type": "code",
   "execution_count": null,
   "metadata": {},
   "outputs": [],
   "source": [
    "# set the figure size\n",
    "plt.figure(figsize=(7, 5))\n",
    "\n",
    "# top bar female\n",
    "total = data_inputs.groupby('year')['count_gen'].sum().reset_index()\n",
    "bar1 = sns.barplot(x=\"year\",  y=\"count_gen\", data=total, color='palevioletred')\n",
    "\n",
    "# bottom bar male\n",
    "a1 = data_inputs[data_inputs.gender=='male']\n",
    "bar2 = sns.barplot(x=\"year\", y=\"count_gen\", data=a1, estimator=sum, ci=None,  color='royalblue')\n",
    "bar2.set_xticklabels(bar2.get_xticklabels(), rotation=45, ha='right')\n",
    "bar2.set_xlabel(\"Year\")\n",
    "bar2.set_ylabel(\"Count of Sentences\")\n",
    "bar2.ticklabel_format(style='plain', axis='y')\n",
    "bar2.yaxis.set_major_formatter('{x:,.0f}')\n",
    "\n",
    "# add legend\n",
    "top_bar = mpatches.Patch(color='palevioletred', label='female')\n",
    "bottom_bar = mpatches.Patch(color='royalblue', label='male')\n",
    "plt.legend(handles=[top_bar, bottom_bar])\n",
    "plt.title('Count of Sentences by Year & Gender')\n",
    "\n",
    "# show the graph\n",
    "plt.show()"
   ]
  },
  {
   "attachments": {},
   "cell_type": "markdown",
   "metadata": {},
   "source": [
    "**Doughnut Plots for Gender Representation**"
   ]
  },
  {
   "cell_type": "code",
   "execution_count": null,
   "metadata": {},
   "outputs": [],
   "source": [
    "#2010\n",
    "df10_m = selected[selected[\"year\"] == \"2010\"].value_counts()[0]\n",
    "df10_f = selected[selected[\"year\"] == \"2010\"].value_counts()[1]\n",
    "\n",
    "#2022 \n",
    "df22_m = selected[selected[\"year\"] == \"2022\"].value_counts()[0]\n",
    "df22_f = selected[selected[\"year\"] == \"2022\"].value_counts()[1]\n",
    "\n",
    "gender_dist=[df22_m, df22_f]\n",
    "labels = [\"male\", \"female\"]\n",
    "\n",
    "# Create a pieplot\n",
    "#plt.pie(gender_dist, colors=[\"royalblue\", \"palevioletred\"])\n",
    "plt.pie(gender_dist, labels=labels, colors=[\"royalblue\", \"palevioletred\"], autopct='%1.1f%%', startangle=180, counterclock=False, wedgeprops={'width': 1})\n",
    "\n",
    "# add a circle at the center to transform it in a donut chart\n",
    "my_circle=plt.Circle((0,0), 0.7, color='white')\n",
    "p=plt.gcf()\n",
    "p.gca().add_artist(my_circle)\n",
    "plt.title('Breakdown of Gender Representation in Sentences in 2022')\n",
    "\n",
    "plt.show()"
   ]
  },
  {
   "cell_type": "code",
   "execution_count": null,
   "metadata": {},
   "outputs": [],
   "source": [
    "#2010 doughnut plot\n",
    "df10_m = selected[selected[\"year\"] == \"2010\"].value_counts()[0]\n",
    "df10_f = selected[selected[\"year\"] == \"2010\"].value_counts()[1]\n",
    "\n",
    "gender_dist=[df10_m, df10_f]\n",
    "labels = [\"male\", \"female\"]\n",
    "\n",
    "plt.pie(gender_dist, labels=labels, colors=[\"royalblue\", \"palevioletred\"], autopct='%1.1f%%', startangle=180, counterclock=False, wedgeprops={'width': 1})\n",
    "\n",
    "# add a circle at the center to transform it in a donut chart\n",
    "my_circle=plt.Circle((0,0), 0.7, color='white')\n",
    "p=plt.gcf()\n",
    "p.gca().add_artist(my_circle)\n",
    "plt.title('Breakdown of Gender Representation in Sentences in 2010')\n",
    "\n",
    "plt.show()"
   ]
  },
  {
   "attachments": {},
   "cell_type": "markdown",
   "metadata": {},
   "source": [
    "**Lollipop Plot for Female Representation in News Articles**"
   ]
  },
  {
   "cell_type": "code",
   "execution_count": null,
   "metadata": {},
   "outputs": [],
   "source": [
    "fem_data = data_inputs[data_inputs[\"gender\"] == \"female\"]\n",
    "male_data = data_inputs[data_inputs[\"gender\"] == \"male\"]"
   ]
  },
  {
   "cell_type": "code",
   "execution_count": null,
   "metadata": {},
   "outputs": [],
   "source": [
    "#transformations\n",
    "col_f = fem_data[\"count_gen\"]\n",
    "col_m = male_data[\"count_gen\"]\n",
    "total = col_f + col_m\n",
    "fem_data_copy = fem_data.copy()\n",
    "fem_data_copy[\"total_counts\"] = total"
   ]
  },
  {
   "cell_type": "code",
   "execution_count": null,
   "metadata": {},
   "outputs": [],
   "source": [
    "#reset index to prevent NaNs\n",
    "dff_reset = fem_data.reset_index(drop=True)\n",
    "dfm_reset = male_data.reset_index(drop=True)\n",
    "\n",
    "# add the columns together\n",
    "result = dff_reset['count_gen'] + dfm_reset['count_gen']\n",
    "dff_reset[\"result\"] = result\n",
    "dfm_reset[\"result\"] = result\n",
    "\n",
    "#divide them \n",
    "proportion = dff_reset[\"count_gen\"].div(dff_reset[\"result\"])\n",
    "dff_reset[\"proportion\"] = proportion"
   ]
  },
  {
   "cell_type": "code",
   "execution_count": null,
   "metadata": {},
   "outputs": [],
   "source": [
    "dff_reset"
   ]
  },
  {
   "cell_type": "code",
   "execution_count": null,
   "metadata": {},
   "outputs": [],
   "source": [
    "# Reorder it following the values:\n",
    "ordered_df = dff_reset.sort_values(by='proportion')\n",
    "my_range=range(1,len(dff_reset.index)+1)\n",
    "\n",
    "# Make the plot\n",
    "plt.stem(dff_reset['proportion'], markerfmt = 'D', linefmt ='palevioletred', use_line_collection = True)\n",
    "plt.xticks(my_range, dff_reset['year'], rotation = 45)\n",
    "plt.title(\"Proportion of Female Sentences\")\n",
    "plt.xlabel('Year')\n",
    "plt.ylabel('Proportion')\n",
    "#plt.yaxis.set_major_formatter('{x:,.0f}')"
   ]
  },
  {
   "attachments": {},
   "cell_type": "markdown",
   "metadata": {},
   "source": [
    "to add for EDA: \n",
    "- most featured words\n",
    "- vocab size decade wide "
   ]
  },
  {
   "attachments": {},
   "cell_type": "markdown",
   "metadata": {},
   "source": [
    "**Vocab Size**"
   ]
  },
  {
   "cell_type": "code",
   "execution_count": null,
   "metadata": {},
   "outputs": [],
   "source": [
    "#needs to be done in OG data\n",
    "df_10= pd.read_pickle(file_path + \"2010\" + file_path_2)\n",
    "df_11= pd.read_pickle(file_path + \"2011\" + file_path_2)\n",
    "df_12= pd.read_pickle(file_path + \"2012\" + file_path_2)\n",
    "df_13= pd.read_pickle(file_path + \"2013\" + file_path_2)\n",
    "df_14= pd.read_pickle(file_path + \"2014\" + file_path_2)\n",
    "df_15= pd.read_pickle(file_path + \"2015\" + file_path_2)\n",
    "df_16= pd.read_pickle(file_path + \"2016\" + file_path_2)\n",
    "df_17= pd.read_pickle(file_path + \"2017\" + file_path_2)\n",
    "df_18= pd.read_pickle(file_path + \"2018\" + file_path_2)\n",
    "df_19= pd.read_pickle(file_path + \"2019\" + file_path_2)\n",
    "df_20= pd.read_pickle(file_path + \"2020\" + file_path_2)\n",
    "df_21= pd.read_pickle(file_path + \"2021\" + file_path_2)\n",
    "df_22= pd.read_pickle(file_path + \"2022\" + file_path_2)\n",
    "\n",
    "data_inputs = pd.DataFrame({ \"year\": [2010, 2010, 2011, 2011, 2012, 2012, 2013, 2013, 2014, 2014, 2015, 2015, 2016, 2016, 2017, 2017, 2018, 2018, 2019, 2019, 2020, 2020, 2021, 2021, 2022, 2022],\n",
    "                            \"gender\": [\"male\", \"female\", \"male\", \"female\", \"male\", \"female\", \"male\", \"female\", \"male\", \"female\", \"male\", \"female\", \"male\", \"female\", \"male\", \"female\", \"male\", \"female\", \"male\", \"female\", \"male\", \"female\", \"male\", \"female\", \"male\", \"female\"], \n",
    "                           \"count_gen\": [df10_m, df10_f, df11_m, df11_f, df12_m, df12_f, df13_m, df13_f, df14_m, df14_f, df15_m, df15_f, df16_m, df16_f, df17_m, df17_f, df18_m, df18_f, df19_m, df19_f, df20_m, df20_f, df21_m, df21_f, df22_m, df22_f]})\n",
    "\n",
    "\n",
    "list_all_words = [word for sent in df_all[\"pre_processed_sent\"] for word in sent]\n",
    "total_vocab = len(set(list_all_words))\n",
    "print(total_vocab)"
   ]
  },
  {
   "attachments": {},
   "cell_type": "markdown",
   "metadata": {},
   "source": [
    "**Most Featured Words in Corpus**"
   ]
  },
  {
   "cell_type": "code",
   "execution_count": null,
   "metadata": {},
   "outputs": [],
   "source": [
    "from collections import Counter"
   ]
  },
  {
   "cell_type": "code",
   "execution_count": null,
   "metadata": {},
   "outputs": [],
   "source": [
    "#needs to be done in OG data\n",
    "word_count = {}\n",
    "\n",
    "for list in df[\"article\"]:\n",
    "    words = list.split()\n",
    "    word_freq = Counter(words)\n",
    "    for word, freq in word_freq.items():\n",
    "        if word in count_word:\n",
    "            count_word[word] += freq\n",
    "        else:\n",
    "            count_word[word] = freq\n"
   ]
  }
 ],
 "metadata": {
  "kernelspec": {
   "display_name": "base",
   "language": "python",
   "name": "python3"
  },
  "language_info": {
   "codemirror_mode": {
    "name": "ipython",
    "version": 3
   },
   "file_extension": ".py",
   "mimetype": "text/x-python",
   "name": "python",
   "nbconvert_exporter": "python",
   "pygments_lexer": "ipython3",
   "version": "3.9.12"
  },
  "orig_nbformat": 4
 },
 "nbformat": 4,
 "nbformat_minor": 2
}
