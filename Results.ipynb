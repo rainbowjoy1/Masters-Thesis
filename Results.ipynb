{
 "cells": [
  {
   "cell_type": "code",
   "execution_count": 12,
   "metadata": {},
   "outputs": [],
   "source": [
    "import pandas as pd\n",
    "from functools import reduce\n",
    "import pickle\n",
    "#pandas 1.4.4\n",
    "#python version\n",
    "#"
   ]
  },
  {
   "cell_type": "code",
   "execution_count": 13,
   "metadata": {},
   "outputs": [],
   "source": [
    "power_agency = \"Sap et al. -Connotation Frames of Agency and Power.csv\"\n",
    "\n",
    "power_agency = pd.read_csv(power_agency)\n",
    "power_agency[[\"agency_1\",\"agency_classifier\"]]= power_agency[\"agency\"].str.split(\"_\",expand=True)\n",
    "power_agency[[\"power_1\",\"power_classifier\"]]= power_agency[\"power\"].str.split(\"_\",expand=True)\n",
    "power_agency = power_agency.drop(power_agency[[\"agency\",\"power\", \"agency_1\", \"power_1\"]], axis= 1)\n",
    "power_agency=power_agency.drop(columns='power_classifier')\n",
    "power_agency =power_agency.rename(columns={'verb':'feature'})\n",
    "power_agency = power_agency.rename(columns={'agency_classifier':'weight'})\n",
    "power_agency['source']='power_agency'"
   ]
  },
  {
   "cell_type": "code",
   "execution_count": 3,
   "metadata": {},
   "outputs": [
    {
     "data": {
      "text/html": [
       "<div>\n",
       "<style scoped>\n",
       "    .dataframe tbody tr th:only-of-type {\n",
       "        vertical-align: middle;\n",
       "    }\n",
       "\n",
       "    .dataframe tbody tr th {\n",
       "        vertical-align: top;\n",
       "    }\n",
       "\n",
       "    .dataframe thead th {\n",
       "        text-align: right;\n",
       "    }\n",
       "</style>\n",
       "<table border=\"1\" class=\"dataframe\">\n",
       "  <thead>\n",
       "    <tr style=\"text-align: right;\">\n",
       "      <th></th>\n",
       "      <th>feature</th>\n",
       "      <th>weight</th>\n",
       "      <th>source</th>\n",
       "    </tr>\n",
       "  </thead>\n",
       "  <tbody>\n",
       "    <tr>\n",
       "      <th>0</th>\n",
       "      <td>abandons</td>\n",
       "      <td>pos</td>\n",
       "      <td>power_agency</td>\n",
       "    </tr>\n",
       "    <tr>\n",
       "      <th>1</th>\n",
       "      <td>abolishes</td>\n",
       "      <td>pos</td>\n",
       "      <td>power_agency</td>\n",
       "    </tr>\n",
       "    <tr>\n",
       "      <th>2</th>\n",
       "      <td>absorbs</td>\n",
       "      <td>pos</td>\n",
       "      <td>power_agency</td>\n",
       "    </tr>\n",
       "    <tr>\n",
       "      <th>3</th>\n",
       "      <td>abuses</td>\n",
       "      <td>pos</td>\n",
       "      <td>power_agency</td>\n",
       "    </tr>\n",
       "    <tr>\n",
       "      <th>4</th>\n",
       "      <td>accelerates</td>\n",
       "      <td>pos</td>\n",
       "      <td>power_agency</td>\n",
       "    </tr>\n",
       "    <tr>\n",
       "      <th>...</th>\n",
       "      <td>...</td>\n",
       "      <td>...</td>\n",
       "      <td>...</td>\n",
       "    </tr>\n",
       "    <tr>\n",
       "      <th>2150</th>\n",
       "      <td>yelps</td>\n",
       "      <td>pos</td>\n",
       "      <td>power_agency</td>\n",
       "    </tr>\n",
       "    <tr>\n",
       "      <th>2151</th>\n",
       "      <td>yields</td>\n",
       "      <td>equal</td>\n",
       "      <td>power_agency</td>\n",
       "    </tr>\n",
       "    <tr>\n",
       "      <th>2152</th>\n",
       "      <td>zaps</td>\n",
       "      <td>pos</td>\n",
       "      <td>power_agency</td>\n",
       "    </tr>\n",
       "    <tr>\n",
       "      <th>2153</th>\n",
       "      <td>zips</td>\n",
       "      <td>pos</td>\n",
       "      <td>power_agency</td>\n",
       "    </tr>\n",
       "    <tr>\n",
       "      <th>2154</th>\n",
       "      <td>zooms</td>\n",
       "      <td>pos</td>\n",
       "      <td>power_agency</td>\n",
       "    </tr>\n",
       "  </tbody>\n",
       "</table>\n",
       "<p>2155 rows × 3 columns</p>\n",
       "</div>"
      ],
      "text/plain": [
       "          feature weight        source\n",
       "0        abandons    pos  power_agency\n",
       "1       abolishes    pos  power_agency\n",
       "2         absorbs    pos  power_agency\n",
       "3          abuses    pos  power_agency\n",
       "4     accelerates    pos  power_agency\n",
       "...           ...    ...           ...\n",
       "2150        yelps    pos  power_agency\n",
       "2151       yields  equal  power_agency\n",
       "2152         zaps    pos  power_agency\n",
       "2153         zips    pos  power_agency\n",
       "2154        zooms    pos  power_agency\n",
       "\n",
       "[2155 rows x 3 columns]"
      ]
     },
     "execution_count": 3,
     "metadata": {},
     "output_type": "execute_result"
    }
   ],
   "source": [
    "power_agency"
   ]
  },
  {
   "cell_type": "code",
   "execution_count": 14,
   "metadata": {},
   "outputs": [],
   "source": [
    "communality = \"Lawson et al. - Communality.csv\"\n",
    "communality = pd.read_csv(communality)\n",
    "communality = communality.drop(columns=['Valence Mean', 'Valence SD','Communality SD'])\n",
    "communality['source']='communality'\n",
    "communality.set_axis(['feature', 'weight', 'source'], axis='columns', inplace=True)\n",
    "\n",
    "\n",
    "\n",
    "agency = \"Lawson et al. - Agency Words.csv\"\n",
    "agency = pd.read_csv(agency)\n",
    "agency = agency.drop(agency.columns[[2,3,4]], axis=1)\n",
    "agency = agency.rename(columns={'Word':'feature','Agency Mean':'weight'})\n",
    "agency['source']='agency'\n",
    "\n"
   ]
  },
  {
   "cell_type": "code",
   "execution_count": 15,
   "metadata": {},
   "outputs": [],
   "source": [
    "apperance = \"Garg_apperance_words.csv\"\n",
    "\n",
    "apperance = pd.read_csv(apperance)\n",
    "\n",
    "violence = \"Violence_Grievence_Dicitonary.csv\"\n",
    "violence = pd.read_csv(violence)\n",
    "violence = violence.rename(columns={'weights':'weight'})\n"
   ]
  },
  {
   "cell_type": "code",
   "execution_count": 8,
   "metadata": {},
   "outputs": [],
   "source": [
    "#2010\n",
    "df_10 = pd.read_pickle(\"RESULTS10_coef_high.pickle\")\n",
    "df_10.rename(columns = {'coef':'2010_c'}, inplace = True)\n",
    "#df_10 = df_10.drop(columns=['coef_type'])\n",
    "#2011\n",
    "df_11 = pd.read_pickle(\"RESULTS11_coef_high.pickle\")\n",
    "df_11.rename(columns = {'coef':'2011_c'}, inplace = True)\n",
    "#2012\n",
    "df_12 = pd.read_pickle(\"RESULTS12_coef_high.pickle\")\n",
    "df_12.rename(columns = {'coef':'2012_c'}, inplace = True)\n",
    "#2013\n",
    "df_13 = pd.read_pickle(\"RESULTS13_coef_high.pickle\")\n",
    "df_13.rename(columns = {'coef':'2013_c'}, inplace = True)\n",
    "#2014\n",
    "#df_14 = pd.read_pickle(\"RESULTS14_coef_high.pickle\")\n",
    "#df_14.rename(columns = {'coef':'2014_c'}, inplace = True)\n",
    "#2015\n",
    "df_15 = pd.read_pickle(\"RESULTS15_coef_high.pickle\")\n",
    "df_15.rename(columns = {'coef':'2015_c'}, inplace = True)\n",
    "#2016\n",
    "df_16 = pd.read_pickle(\"RESULTS16_coef_high.pickle\")\n",
    "df_16.rename(columns = {'coef':'2016_c'}, inplace = True)\n",
    "#2017\n",
    "df_17 = pd.read_pickle(\"RESULTS17_coef_high.pickle\")\n",
    "df_17.rename(columns = {'coef':'2017_c'}, inplace = True)\n",
    "#2018\n",
    "df_18 = pd.read_pickle(\"RESULTS18_coef_high.pickle\")\n",
    "df_18.rename(columns = {'coef':'2018_c'}, inplace = True)\n",
    "df_18 = df_18.drop(columns= 'coef_type')\n",
    "#2019\n",
    "df_19 = pd.read_pickle(\"RESULTS19_coef_high.pickle\")\n",
    "df_19.rename(columns = {'coef':'2019_c'}, inplace = True)\n",
    "df_19 = df_19.drop(columns= 'coef_type')\n",
    "#2020\n",
    "df_20 = pd.read_pickle(\"RESULTS20_coef_high.pickle\")\n",
    "df_20.rename(columns = {'coef':'2020_c'}, inplace = True)\n",
    "df_20 = df_20.drop(columns= 'coef_type')\n",
    "#2021\n",
    "df_21 = pd.read_pickle(\"RESULTS21_coef_high.pickle\")\n",
    "df_21.rename(columns = {'coef':'2021_c'}, inplace = True)\n",
    "df_21 = df_21.drop(columns= 'coef_type')\n",
    "#2022\n",
    "df_22 = pd.read_pickle(\"RESULTS22_coef_high.pickle\")\n",
    "df_22.rename(columns = {'coef':'2022_c'}, inplace = True)\n",
    "df_22 = df_22.drop(columns= 'coef_type')"
   ]
  },
  {
   "cell_type": "code",
   "execution_count": 9,
   "metadata": {},
   "outputs": [],
   "source": [
    "df_list = [df_10, df_11, df_12, df_13, df_15, df_16, df_17, df_18, df_19, df_20, df_21, df_22]\n",
    "#df = pd.merge(df_list, right on='feature', how='outer')\n",
    "\n",
    "df_merged = reduce(lambda  left,right: pd.merge(left,right,on=['feature'],how='outer'), df_list)"
   ]
  },
  {
   "cell_type": "code",
   "execution_count": 16,
   "metadata": {},
   "outputs": [
    {
     "name": "stderr",
     "output_type": "stream",
     "text": [
      "<ipython-input-16-8552c58f12ac>:2: FutureWarning: Passing 'suffixes' which cause duplicate columns {'source_x', 'weight_x'} in the result is deprecated and will raise a MergeError in a future version.\n",
      "  df_attempt = reduce(lambda  left,right: pd.merge(left,right,on=['feature'],how='outer'), PAC_words)\n"
     ]
    }
   ],
   "source": [
    "PAC_words = [power_agency, communality, agency, violence, apperance]\n",
    "df_attempt = reduce(lambda  left,right: pd.merge(left,right,on=['feature'],how='outer'), PAC_words)"
   ]
  },
  {
   "cell_type": "code",
   "execution_count": 18,
   "metadata": {},
   "outputs": [],
   "source": [
    "PAC_words = [power_agency, communality, agency, violence, apperance]\n",
    "result = pd.concat(PAC_words)"
   ]
  },
  {
   "cell_type": "code",
   "execution_count": 21,
   "metadata": {},
   "outputs": [],
   "source": [
    "result.to_csv(\"full_word_list\")"
   ]
  },
  {
   "cell_type": "code",
   "execution_count": 19,
   "metadata": {},
   "outputs": [],
   "source": [
    "new_file_name = \"list_of_words\"\n",
    "\n",
    "with open(new_file_name, 'wb') as handle:\n",
    "    pickle.dump(result, handle, protocol=pickle.HIGHEST_PROTOCOL)"
   ]
  },
  {
   "cell_type": "code",
   "execution_count": 10,
   "metadata": {},
   "outputs": [],
   "source": [
    "PAC_words = [df_merged, power_agency, communality, agency]\n",
    "\n",
    "df_attempt = reduce(lambda  left,right: pd.merge(left,right,on=['feature'],how='outer'), PAC_words)"
   ]
  },
  {
   "cell_type": "code",
   "execution_count": 13,
   "metadata": {},
   "outputs": [],
   "source": [
    "new_file_name = \"log_reg_full_results\"\n",
    "\n",
    "with open(new_file_name, 'wb') as handle:\n",
    "    pickle.dump(df_attempt, handle, protocol=pickle.HIGHEST_PROTOCOL)"
   ]
  }
 ],
 "metadata": {
  "kernelspec": {
   "display_name": "base",
   "language": "python",
   "name": "python3"
  },
  "language_info": {
   "codemirror_mode": {
    "name": "ipython",
    "version": 3
   },
   "file_extension": ".py",
   "mimetype": "text/x-python",
   "name": "python",
   "nbconvert_exporter": "python",
   "pygments_lexer": "ipython3",
   "version": "3.8.8"
  },
  "orig_nbformat": 4
 },
 "nbformat": 4,
 "nbformat_minor": 2
}
