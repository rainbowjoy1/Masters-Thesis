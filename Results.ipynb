{
 "cells": [
  {
   "cell_type": "code",
   "execution_count": 51,
   "metadata": {},
   "outputs": [],
   "source": [
    "import pandas as pd\n",
    "from functools import reduce\n",
    "#pandas 1.4.4\n",
    "#python version\n",
    "#"
   ]
  },
  {
   "cell_type": "code",
   "execution_count": 52,
   "metadata": {},
   "outputs": [],
   "source": [
    "power_agency = r\"C:\\Users\\danie\\Documents\\GitHub\\Masters-Thesis\\Sap et al. -Connotation Frames of Agency and Power.csv\"\n",
    "#power_agency = r\"/Users/yolandaferreirofranchi/Documents/GitHub/Masters-Thesis/Sap et al. -Connotation Frames of Agency and Power.csv\"\n",
    "\n",
    "power_agency = pd.read_csv(power_agency)\n",
    "power_agency[[\"agency_1\",\"agency_classifier\"]]= power_agency[\"agency\"].str.split(\"_\",expand=True)\n",
    "power_agency[[\"power_1\",\"power_classifier\"]]= power_agency[\"power\"].str.split(\"_\",expand=True)\n",
    "power_agency = power_agency.drop(power_agency[[\"agency\",\"power\", \"agency_1\", \"power_1\"]], axis= 1)\n",
    "power_agency=power_agency.drop(columns='power_classifier')\n",
    "power_agency =power_agency.rename(columns={'verb':'feature'})"
   ]
  },
  {
   "cell_type": "code",
   "execution_count": 53,
   "metadata": {},
   "outputs": [],
   "source": [
    "communality = \"Lawson et al. - Communality.csv\"\n",
    "communality = pd.read_csv(communality)\n",
    "communality = communality.drop(columns=['Valence Mean', 'Valence SD'])\n",
    "communality = communality.rename(columns={'Word':'feature'})\n",
    "\n",
    "\n",
    "\n",
    "agency = \"Lawson et al. - Agency Words.csv\"\n",
    "agency = pd.read_csv(agency)\n",
    "agency = agency.drop(agency.columns[[3,4]], axis=1)\n",
    "agency = agency.rename(columns={'Word':'feature'})\n",
    "\n"
   ]
  },
  {
   "cell_type": "code",
   "execution_count": 54,
   "metadata": {},
   "outputs": [],
   "source": [
    "#2010\n",
    "df_10 = pd.read_pickle(\"RESULTS10_coef_high.pickle\")\n",
    "df_10.rename(columns = {'coef':'2010_c'}, inplace = True)\n",
    "#df_10 = df_10.drop(columns=['coef_type'])\n",
    "#2011\n",
    "df_11 = pd.read_pickle(\"RESULTS11_coef_high.pickle\")\n",
    "df_11.rename(columns = {'coef':'2011_c'}, inplace = True)\n",
    "#2012\n",
    "df_12 = pd.read_pickle(\"RESULTS12_coef_high.pickle\")\n",
    "df_12.rename(columns = {'coef':'2012_c'}, inplace = True)\n",
    "#2013\n",
    "df_13 = pd.read_pickle(\"RESULTS13_coef_high.pickle\")\n",
    "df_13.rename(columns = {'coef':'2013_c'}, inplace = True)\n",
    "#2014\n",
    "#df_14 = pd.read_pickle(\"RESULTS14_coef_high.pickle\")\n",
    "#df_14.rename(columns = {'coef':'2014_c'}, inplace = True)\n",
    "#2015\n",
    "df_15 = pd.read_pickle(\"RESULTS15_coef_high.pickle\")\n",
    "df_15.rename(columns = {'coef':'2015_c'}, inplace = True)\n",
    "#2016\n",
    "df_16 = pd.read_pickle(\"RESULTS16_coef_high.pickle\")\n",
    "df_16.rename(columns = {'coef':'2016_c'}, inplace = True)\n",
    "#2017\n",
    "df_17 = pd.read_pickle(\"RESULTS17_coef_high.pickle\")\n",
    "df_17.rename(columns = {'coef':'2017_c'}, inplace = True)\n",
    "#2018\n",
    "df_18 = pd.read_pickle(\"RESULTS18_coef_high.pickle\")\n",
    "df_18.rename(columns = {'coef':'2018_c'}, inplace = True)\n",
    "df_18 = df_18.drop(columns= 'coef_type')\n",
    "#2019\n",
    "df_19 = pd.read_pickle(\"RESULTS19_coef_high.pickle\")\n",
    "df_19.rename(columns = {'coef':'2019_c'}, inplace = True)\n",
    "df_19 = df_19.drop(columns= 'coef_type')\n",
    "#2020\n",
    "df_20 = pd.read_pickle(\"RESULTS20_coef_high.pickle\")\n",
    "df_20.rename(columns = {'coef':'2020_c'}, inplace = True)\n",
    "df_20 = df_20.drop(columns= 'coef_type')\n",
    "#2021\n",
    "df_21 = pd.read_pickle(\"RESULTS21_coef_high.pickle\")\n",
    "df_21.rename(columns = {'coef':'2021_c'}, inplace = True)\n",
    "df_21 = df_21.drop(columns= 'coef_type')\n",
    "#2022\n",
    "df_22 = pd.read_pickle(\"RESULTS22_coef_high.pickle\")\n",
    "df_22.rename(columns = {'coef':'2022_c'}, inplace = True)\n",
    "df_22 = df_22.drop(columns= 'coef_type')"
   ]
  },
  {
   "cell_type": "code",
   "execution_count": 56,
   "metadata": {},
   "outputs": [],
   "source": [
    "df_list = [df_10, df_11, df_12, df_13, df_15, df_16, df_17, df_18, df_19, df_20, df_21, df_22]\n",
    "#df = pd.merge(df_list, right on='feature', how='outer')\n",
    "\n",
    "df_merged = reduce(lambda  left,right: pd.merge(left,right,on=['feature'],how='outer'), df_list)"
   ]
  },
  {
   "cell_type": "code",
   "execution_count": 57,
   "metadata": {},
   "outputs": [],
   "source": [
    "PAC_words = [df_merged, power_agency, communality, agency]\n",
    "\n",
    "df_attempt = reduce(lambda  left,right: pd.merge(left,right,on=['feature'],how='outer'), PAC_words)"
   ]
  }
 ],
 "metadata": {
  "kernelspec": {
   "display_name": "base",
   "language": "python",
   "name": "python3"
  },
  "language_info": {
   "codemirror_mode": {
    "name": "ipython",
    "version": 3
   },
   "file_extension": ".py",
   "mimetype": "text/x-python",
   "name": "python",
   "nbconvert_exporter": "python",
   "pygments_lexer": "ipython3",
   "version": "3.8.8"
  },
  "orig_nbformat": 4
 },
 "nbformat": 4,
 "nbformat_minor": 2
}
