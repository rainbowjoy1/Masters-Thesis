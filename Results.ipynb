{
 "cells": [
  {
   "cell_type": "code",
   "execution_count": null,
   "metadata": {},
   "outputs": [],
   "source": [
    "import pandas as pd"
   ]
  },
  {
   "cell_type": "code",
   "execution_count": null,
   "metadata": {},
   "outputs": [],
   "source": [
    "power_agency = r\"C:\\Users\\danie\\Documents\\GitHub\\Masters-Thesis\\Sap et al. -Connotation Frames of Agency and Power.csv\"\n",
    "#power_agency = r\"/Users/yolandaferreirofranchi/Documents/GitHub/Masters-Thesis/Sap et al. -Connotation Frames of Agency and Power.csv\"\n",
    "\n",
    "power_agency = pd.read_csv(power_agency)\n",
    "power_agency[[\"agency_1\",\"agency_classifier\"]]= power_agency[\"agency\"].str.split(\"_\",expand=True)\n",
    "power_agency[[\"power_1\",\"power_classifier\"]]= power_agency[\"power\"].str.split(\"_\",expand=True)\n",
    "power_agency = power_agency.drop(power_agency[[\"agency\",\"power\", \"agency_1\", \"power_1\"]], axis= 1)"
   ]
  },
  {
   "cell_type": "code",
   "execution_count": null,
   "metadata": {},
   "outputs": [],
   "source": [
    "communality = r\"C:\\Users\\danie\\Documents\\GitHub\\Masters-Thesis\\Lawson et al. - Communality.csv\"\n",
    "#communality = r\"/Users/yolandaferreirofranchi/Documents/GitHub/Masters-Thesis/Lason et al. - Communality.csv\"\n",
    "communality = pd.read_csv(communality)\n",
    "\n",
    "agency = r\"C:\\Users\\danie\\Documents\\GitHub\\Masters-Thesis\\Lawson et al. - Agency Words.csv\"\n",
    "#agency = r\"/Users/yolandaferreirofranchi/Documents/GitHub/Masters-Thesis/Lawson et al. - Agency.csv\"\n",
    "agency = pd.read_csv(agency)"
   ]
  },
  {
   "attachments": {},
   "cell_type": "markdown",
   "metadata": {},
   "source": [
    "sent, list of words, sentiment, scores, avg for not null of P, A, C\n",
    "\n",
    "word, count, coeff, P, A, C \n",
    "\n",
    "male count total weighted scores\n",
    "female count total weighted "
   ]
  },
  {
   "cell_type": "code",
   "execution_count": null,
   "metadata": {},
   "outputs": [],
   "source": [
    "hc_2009= pd.read_pickle(r\"/Users/yolandaferreirofranchi/Documents/GitHub/Masters-Thesis/RESULTS09_coef_high.pickle\")\n",
    "lc_2009= pd.read_pickle(r\"/Users/yolandaferreirofranchi/Documents/GitHub/Masters-Thesis/RESULTS09_coef_low.pickle\")\n",
    "hc_2009"
   ]
  },
  {
   "cell_type": "code",
   "execution_count": null,
   "metadata": {},
   "outputs": [],
   "source": [
    "#2009\n",
    "df_09 = pd.read_pickle(r\"/Users/yolandaferreirofranchi/Desktop/ThesisDatasets/RESULTS09_coef_high.pickle\")\n",
    "df_09.rename(columns = {'coef':'2009_c'}, inplace = True)\n",
    "df_09 = df_09.drop(columns=['coef_type'])"
   ]
  },
  {
   "cell_type": "code",
   "execution_count": null,
   "metadata": {},
   "outputs": [],
   "source": [
    "#2010\n",
    "df_10 = pd.read_pickle(r\"/Users/yolandaferreirofranchi/Desktop/ThesisDatasets/RESULTS10_coef_high.pickle\")\n",
    "df_10.rename(columns = {'coef':'2010_c'}, inplace = True)\n",
    "df_10 = df_10.drop(columns=['coef_type'])"
   ]
  },
  {
   "cell_type": "code",
   "execution_count": null,
   "metadata": {},
   "outputs": [],
   "source": [
    "#2011\n",
    "df_11 = pd.read_pickle(r\"/Users/yolandaferreirofranchi/Desktop/ThesisDatasets/RESULTS11_coef_high.pickle\")\n",
    "df_11.rename(columns = {'coef':'2011_c'}, inplace = True)\n",
    "df_11 = df_11.drop(columns=['coef_type'])"
   ]
  },
  {
   "cell_type": "code",
   "execution_count": null,
   "metadata": {},
   "outputs": [],
   "source": [
    "#2012\n",
    "df_12 = pd.read_pickle(r\"/Users/yolandaferreirofranchi/Desktop/ThesisDatasets/RESULTS12_coef_high.pickle\")\n",
    "df_12.rename(columns = {'coef':'2012_c'}, inplace = True)\n",
    "df_12 = df_12.drop(columns=['coef_type'])"
   ]
  },
  {
   "cell_type": "code",
   "execution_count": null,
   "metadata": {},
   "outputs": [],
   "source": [
    "#2013\n",
    "df_13 = pd.read_pickle(r\"/Users/yolandaferreirofranchi/Desktop/ThesisDatasets/RESULTS13_coef_high.pickle\")\n",
    "df_13.rename(columns = {'coef':'2013_c'}, inplace = True)\n",
    "df_13 = df_13.drop(columns=['coef_type'])"
   ]
  },
  {
   "cell_type": "code",
   "execution_count": null,
   "metadata": {},
   "outputs": [],
   "source": [
    "#2014\n",
    "df_14 = pd.read_pickle(r\"/Users/yolandaferreirofranchi/Desktop/ThesisDatasets/RESULTS14_coef_high.pickle\")\n",
    "df_14.rename(columns = {'coef':'2014_c'}, inplace = True)\n",
    "df_14 = df_14.drop(columns=['coef_type'])"
   ]
  },
  {
   "cell_type": "code",
   "execution_count": null,
   "metadata": {},
   "outputs": [],
   "source": [
    "#2015\n",
    "df_15 = pd.read_pickle(r\"/Users/yolandaferreirofranchi/Desktop/ThesisDatasets/RESULTS15_coef_high.pickle\")\n",
    "df_15.rename(columns = {'coef':'2015_c'}, inplace = True)\n",
    "df_15 = df_15.drop(columns=['coef_type'])"
   ]
  },
  {
   "cell_type": "code",
   "execution_count": null,
   "metadata": {},
   "outputs": [],
   "source": [
    "#2016\n",
    "df_16 = pd.read_pickle(r\"/Users/yolandaferreirofranchi/Desktop/ThesisDatasets/RESULTS16_coef_high.pickle\")\n",
    "df_16.rename(columns = {'coef':'2016_c'}, inplace = True)\n",
    "df_16 = df_16.drop(columns=['coef_type'])"
   ]
  },
  {
   "cell_type": "code",
   "execution_count": null,
   "metadata": {},
   "outputs": [],
   "source": [
    "#2017\n",
    "df_17 = pd.read_pickle(r\"/Users/yolandaferreirofranchi/Desktop/ThesisDatasets/RESULTS17_coef_high.pickle\")\n",
    "df_17.rename(columns = {'coef':'2017_c'}, inplace = True)\n",
    "df_17 = df_17.drop(columns=['coef_type'])"
   ]
  },
  {
   "cell_type": "code",
   "execution_count": null,
   "metadata": {},
   "outputs": [],
   "source": [
    "#2018\n",
    "df_18 = pd.read_pickle(r\"/Users/yolandaferreirofranchi/Desktop/ThesisDatasets/RESULTS18_coef_high.pickle\")\n",
    "df_18.rename(columns = {'coef':'2018_c'}, inplace = True)\n",
    "df_18 = df_18.drop(columns=['coef_type'])"
   ]
  },
  {
   "cell_type": "code",
   "execution_count": null,
   "metadata": {},
   "outputs": [],
   "source": [
    "#2019\n",
    "df_19 = pd.read_pickle(r\"/Users/yolandaferreirofranchi/Desktop/ThesisDatasets/RESULTS19_coef_high.pickle\")\n",
    "df_19.rename(columns = {'coef':'2019_c'}, inplace = True)\n",
    "df_19 = df_19.drop(columns=['coef_type'])"
   ]
  },
  {
   "cell_type": "code",
   "execution_count": null,
   "metadata": {},
   "outputs": [],
   "source": [
    "#2020\n",
    "df_20 = pd.read_pickle(r\"/Users/yolandaferreirofranchi/Desktop/ThesisDatasets/RESULTS20_coef_high.pickle\")\n",
    "df_20.rename(columns = {'coef':'2020_c'}, inplace = True)\n",
    "df_20 = df_20.drop(columns=['coef_type'])"
   ]
  },
  {
   "cell_type": "code",
   "execution_count": null,
   "metadata": {},
   "outputs": [],
   "source": [
    "#2021\n",
    "df_21 = pd.read_pickle(r\"/Users/yolandaferreirofranchi/Desktop/ThesisDatasets/RESULTS21_coef_high.pickle\")\n",
    "df_21.rename(columns = {'coef':'2021_c'}, inplace = True)\n",
    "df_21 = df_21.drop(columns=['coef_type'])"
   ]
  },
  {
   "cell_type": "code",
   "execution_count": null,
   "metadata": {},
   "outputs": [],
   "source": [
    "#2022\n",
    "df_22 = pd.read_pickle(r\"/Users/yolandaferreirofranchi/Desktop/ThesisDatasets/RESULTS22_coef_high.pickle\")\n",
    "df_22.rename(columns = {'coef':'2022_c'}, inplace = True)\n",
    "df_22 = df_22.drop(columns=['coef_type'])"
   ]
  },
  {
   "cell_type": "code",
   "execution_count": null,
   "metadata": {},
   "outputs": [],
   "source": [
    "df = pd.merge(df_09, df_10, df_11, df_12, df_13, df_14, df_15, df_16, df_17, df_18, df_19, df_20, df_21, df_22 on='feature', how='outer')"
   ]
  },
  {
   "cell_type": "code",
   "execution_count": null,
   "metadata": {},
   "outputs": [],
   "source": [
    "df"
   ]
  },
  {
   "attachments": {},
   "cell_type": "markdown",
   "metadata": {},
   "source": [
    "Something is seriouly messed up in my code. We need to compare pickle and pandas versions. Mine is incompatible\n",
    "\n",
    "Here are my ideas:"
   ]
  },
  {
   "attachments": {},
   "cell_type": "markdown",
   "metadata": {},
   "source": [
    "- See if we can save ALL coefficients. the scanning of the results section isn't very useful. there are a lot of nouns and very few verbs. not so great\n",
    "- If we cannot save the whole list my next idea is to create a new list with the PAC words and then save the coefficiants for those. \n",
    "- More importantly I think we need to do like top and bottom 500 and then hand fucking sort. I'm thinking append each file, export to excel, remove duplicates, and mark each one. a lot of womens names are showing up. ugh\n",
    "\n",
    "open all the files, rename the coefficents as the year_c, full outer join (i think) on each one into a new DF. \n",
    "I think that will make the data we need \n"
   ]
  }
 ],
 "metadata": {
  "kernelspec": {
   "display_name": "base",
   "language": "python",
   "name": "python3"
  },
  "language_info": {
   "codemirror_mode": {
    "name": "ipython",
    "version": 3
   },
   "file_extension": ".py",
   "mimetype": "text/x-python",
   "name": "python",
   "nbconvert_exporter": "python",
   "pygments_lexer": "ipython3",
   "version": "3.8.8"
  },
  "orig_nbformat": 4
 },
 "nbformat": 4,
 "nbformat_minor": 2
}
