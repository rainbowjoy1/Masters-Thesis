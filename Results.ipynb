{
 "cells": [
  {
   "cell_type": "code",
   "execution_count": 2,
   "metadata": {},
   "outputs": [],
   "source": [
    "import pandas as pd"
   ]
  },
  {
   "cell_type": "code",
   "execution_count": 5,
   "metadata": {},
   "outputs": [],
   "source": [
    "#power_agency = r\"C:\\Users\\DanielleDuncan\\Documents\\Masters-Thesis\\Sap et al. -Connotation Frames of Agency and Power.csv\"\n",
    "power_agency = r\"/Users/yolandaferreirofranchi/Documents/GitHub/Masters-Thesis/Sap et al. -Connotation Frames of Agency and Power.csv\"\n",
    "\n",
    "power_agency = pd.read_csv(power_agency)\n",
    "power_agency[[\"agency_1\",\"agency_classifier\"]]= power_agency[\"agency\"].str.split(\"_\",expand=True)\n",
    "power_agency[[\"power_1\",\"power_classifier\"]]= power_agency[\"power\"].str.split(\"_\",expand=True)\n",
    "power_agency = power_agency.drop(power_agency[[\"agency\",\"power\", \"agency_1\", \"power_1\"]], axis= 1)"
   ]
  },
  {
   "cell_type": "code",
   "execution_count": 8,
   "metadata": {},
   "outputs": [],
   "source": [
    "#communality = r\"C:\\Users\\DanielleDuncan\\Documents\\Masters-Thesis\\Lason et al. - Communality.csv\"\n",
    "communality = r\"/Users/yolandaferreirofranchi/Documents/GitHub/Masters-Thesis/Lason et al. - Communality.csv\"\n",
    "communality = pd.read_csv(communality)\n",
    "\n",
    "#agency = r\"C:\\Users\\DanielleDuncan\\Documents\\Masters-Thesis\\Lawson et al. - Agency.csv\"\n",
    "agency = r\"/Users/yolandaferreirofranchi/Documents/GitHub/Masters-Thesis/Lawson et al. - Agency.csv\"\n",
    "agency = pd.read_csv(agency)"
   ]
  },
  {
   "attachments": {},
   "cell_type": "markdown",
   "metadata": {},
   "source": [
    "sent, list of words, sentiment, scores, avg for not null of P, A, C\n",
    "\n",
    "word, count, coeff, P, A, C \n",
    "\n",
    "male count total weighted scores\n",
    "female count total weighted "
   ]
  },
  {
   "cell_type": "code",
   "execution_count": 9,
   "metadata": {},
   "outputs": [
    {
     "data": {
      "text/html": [
       "<div>\n",
       "<style scoped>\n",
       "    .dataframe tbody tr th:only-of-type {\n",
       "        vertical-align: middle;\n",
       "    }\n",
       "\n",
       "    .dataframe tbody tr th {\n",
       "        vertical-align: top;\n",
       "    }\n",
       "\n",
       "    .dataframe thead th {\n",
       "        text-align: right;\n",
       "    }\n",
       "</style>\n",
       "<table border=\"1\" class=\"dataframe\">\n",
       "  <thead>\n",
       "    <tr style=\"text-align: right;\">\n",
       "      <th></th>\n",
       "      <th>feature</th>\n",
       "      <th>coef</th>\n",
       "    </tr>\n",
       "  </thead>\n",
       "  <tbody>\n",
       "    <tr>\n",
       "      <th>0</th>\n",
       "      <td>goulding</td>\n",
       "      <td>47.991392</td>\n",
       "    </tr>\n",
       "    <tr>\n",
       "      <th>1</th>\n",
       "      <td>firearm</td>\n",
       "      <td>43.471260</td>\n",
       "    </tr>\n",
       "    <tr>\n",
       "      <th>2</th>\n",
       "      <td>cv</td>\n",
       "      <td>42.131377</td>\n",
       "    </tr>\n",
       "    <tr>\n",
       "      <th>3</th>\n",
       "      <td>lewis</td>\n",
       "      <td>41.393826</td>\n",
       "    </tr>\n",
       "    <tr>\n",
       "      <th>4</th>\n",
       "      <td>elbow</td>\n",
       "      <td>38.898314</td>\n",
       "    </tr>\n",
       "    <tr>\n",
       "      <th>...</th>\n",
       "      <td>...</td>\n",
       "      <td>...</td>\n",
       "    </tr>\n",
       "    <tr>\n",
       "      <th>95</th>\n",
       "      <td>agent</td>\n",
       "      <td>23.222024</td>\n",
       "    </tr>\n",
       "    <tr>\n",
       "      <th>96</th>\n",
       "      <td>investor</td>\n",
       "      <td>22.839873</td>\n",
       "    </tr>\n",
       "    <tr>\n",
       "      <th>97</th>\n",
       "      <td>fair</td>\n",
       "      <td>22.833241</td>\n",
       "    </tr>\n",
       "    <tr>\n",
       "      <th>98</th>\n",
       "      <td>entitle</td>\n",
       "      <td>22.807738</td>\n",
       "    </tr>\n",
       "    <tr>\n",
       "      <th>99</th>\n",
       "      <td>giant</td>\n",
       "      <td>22.783218</td>\n",
       "    </tr>\n",
       "  </tbody>\n",
       "</table>\n",
       "<p>100 rows × 2 columns</p>\n",
       "</div>"
      ],
      "text/plain": [
       "     feature       coef\n",
       "0   goulding  47.991392\n",
       "1    firearm  43.471260\n",
       "2         cv  42.131377\n",
       "3      lewis  41.393826\n",
       "4      elbow  38.898314\n",
       "..       ...        ...\n",
       "95     agent  23.222024\n",
       "96  investor  22.839873\n",
       "97      fair  22.833241\n",
       "98   entitle  22.807738\n",
       "99     giant  22.783218\n",
       "\n",
       "[100 rows x 2 columns]"
      ]
     },
     "execution_count": 9,
     "metadata": {},
     "output_type": "execute_result"
    }
   ],
   "source": [
    "hc_2009= pd.read_pickle(r\"/Users/yolandaferreirofranchi/Documents/GitHub/Masters-Thesis/RESULTS09_coef_high.pickle\")\n",
    "lc_2009= pd.read_pickle(r\"/Users/yolandaferreirofranchi/Documents/GitHub/Masters-Thesis/RESULTS09_coef_low.pickle\")\n",
    "hc_2009"
   ]
  }
 ],
 "metadata": {
  "kernelspec": {
   "display_name": "base",
   "language": "python",
   "name": "python3"
  },
  "language_info": {
   "codemirror_mode": {
    "name": "ipython",
    "version": 3
   },
   "file_extension": ".py",
   "mimetype": "text/x-python",
   "name": "python",
   "nbconvert_exporter": "python",
   "pygments_lexer": "ipython3",
   "version": "3.9.12"
  },
  "orig_nbformat": 4
 },
 "nbformat": 4,
 "nbformat_minor": 2
}
