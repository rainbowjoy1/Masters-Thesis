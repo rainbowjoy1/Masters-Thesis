{
 "cells": [
  {
   "cell_type": "code",
   "execution_count": 1,
   "metadata": {},
   "outputs": [],
   "source": [
    "import pandas as pd\n",
    "from functools import reduce\n",
    "import pickle\n",
    "import numpy as np\n",
    "#pandas 1.4.4\n",
    "#python version\n",
    "#"
   ]
  },
  {
   "cell_type": "code",
   "execution_count": 2,
   "metadata": {},
   "outputs": [],
   "source": [
    "path = \"C:/Users/DanielleDuncan/Pictures/Camera Roll/Masters-Thesis/Word Databases/\""
   ]
  },
  {
   "cell_type": "code",
   "execution_count": 3,
   "metadata": {},
   "outputs": [],
   "source": [
    "power_agency = r\"C:\\Users\\danie\\Documents\\GitHub\\Masters-Thesis\\Word Databases\\Sap et al. -Connotation Frames of Agency and Power.csv\"\n",
    "\n",
    "power_agency = pd.read_csv(power_agency)\n",
    "power_agency[[\"agency_1\",\"agency_classifier\"]]= power_agency[\"agency\"].str.split(\"_\",expand=True)\n",
    "power_agency[[\"power_1\",\"power_classifier\"]]= power_agency[\"power\"].str.split(\"_\",expand=True)\n",
    "power_agency = power_agency.drop(power_agency[[\"agency\",\"power\", \"agency_1\", \"power_1\"]], axis= 1)\n",
    "power_agency=power_agency.drop(columns='agency_classifier')\n",
    "power_agency = power_agency[power_agency['power_classifier'].isin(['agent','equal']) != True]\n",
    "power_agency = power_agency.dropna()\n",
    "power_agency['source']='power'\n",
    "power_agency.set_axis(['feature', 'weight', 'source'], axis='columns',\n",
    " inplace=True)\n",
    "\n"
   ]
  },
  {
   "cell_type": "code",
   "execution_count": 4,
   "metadata": {},
   "outputs": [],
   "source": [
    "communality = r\"C:\\Users\\danie\\Documents\\GitHub\\Masters-Thesis\\Word Databases\\Lawson et al. - Communality.csv\"\n",
    "communality = pd.read_csv(communality)\n",
    "communality = communality.drop(columns=['Valence Mean', 'Valence SD','Communality SD'])\n",
    "communality['source']='communality'\n",
    "communality.set_axis(['feature', 'weight', 'source'], axis='columns', inplace=True)\n",
    "\n",
    "\n",
    "\n",
    "agency = r\"C:\\Users\\danie\\Documents\\GitHub\\Masters-Thesis\\Word Databases\\Lawson et al. - Agency Words.csv\"\n",
    "agency = pd.read_csv(agency)\n",
    "agency = agency.drop(agency.columns[[2,3,4]], axis=1)\n",
    "agency = agency.rename(columns={'Word':'feature','Agency Mean':'weight'})\n",
    "agency['source']='agency'\n",
    "\n"
   ]
  },
  {
   "cell_type": "code",
   "execution_count": 5,
   "metadata": {},
   "outputs": [],
   "source": [
    "occupation = r\"C:\\Users\\danie\\Documents\\GitHub\\Masters-Thesis\\Word Databases\\Occupational Pairs.csv\"\n",
    "\n",
    "occupation = pd.read_csv(occupation)"
   ]
  },
  {
   "cell_type": "code",
   "execution_count": 6,
   "metadata": {},
   "outputs": [],
   "source": [
    "apperance = r\"C:\\Users\\danie\\Documents\\GitHub\\Masters-Thesis\\Word Databases\\Garg_apperance_words.csv\"\n",
    "\n",
    "apperance = pd.read_csv(apperance)\n",
    "\n",
    "violence = r\"C:\\Users\\danie\\Documents\\GitHub\\Masters-Thesis\\Word Databases\\Violence_Grievence_Dicitonary.csv\"\n",
    "violence = pd.read_csv(violence)\n",
    "violence = violence.rename(columns={'weights':'weight'})\n"
   ]
  },
  {
   "cell_type": "code",
   "execution_count": 7,
   "metadata": {},
   "outputs": [
    {
     "name": "stderr",
     "output_type": "stream",
     "text": [
      "<ipython-input-7-12cc1b1ae561>:2: FutureWarning: Passing 'suffixes' which cause duplicate columns {'weight_x', 'source_x'} in the result is deprecated and will raise a MergeError in a future version.\n",
      "  df_attempt = reduce(lambda  left,right: pd.merge(left,right,on=['feature'],how='outer'), PAC_words)\n",
      "<ipython-input-7-12cc1b1ae561>:2: FutureWarning: Passing 'suffixes' which cause duplicate columns {'source_x'} in the result is deprecated and will raise a MergeError in a future version.\n",
      "  df_attempt = reduce(lambda  left,right: pd.merge(left,right,on=['feature'],how='outer'), PAC_words)\n"
     ]
    }
   ],
   "source": [
    "PAC_words = [power_agency, communality, agency, violence, apperance, occupation]\n",
    "df_attempt = reduce(lambda  left,right: pd.merge(left,right,on=['feature'],how='outer'), PAC_words)"
   ]
  },
  {
   "cell_type": "code",
   "execution_count": 8,
   "metadata": {},
   "outputs": [],
   "source": [
    "PAC_words = [power_agency, communality, agency, violence, apperance, occupation]\n",
    "result = pd.concat(PAC_words)\n",
    "result = result.drop(columns='weight')\n",
    "result = result.drop(columns='weights')"
   ]
  },
  {
   "cell_type": "code",
   "execution_count": 10,
   "metadata": {},
   "outputs": [],
   "source": [
    "with open(\"C:/Users/danie/Documents/GitHub/Masters-Thesis/Word Databases/1--Complete Word List\", 'wb') as handle:\n",
    "            pickle.dump(result, handle, protocol=pickle.HIGHEST_PROTOCOL)"
   ]
  },
  {
   "cell_type": "code",
   "execution_count": 11,
   "metadata": {},
   "outputs": [],
   "source": [
    "result.to_csv(\"CSV Complete Word List.csv\")"
   ]
  }
 ],
 "metadata": {
  "kernelspec": {
   "display_name": "base",
   "language": "python",
   "name": "python3"
  },
  "language_info": {
   "codemirror_mode": {
    "name": "ipython",
    "version": 3
   },
   "file_extension": ".py",
   "mimetype": "text/x-python",
   "name": "python",
   "nbconvert_exporter": "python",
   "pygments_lexer": "ipython3",
   "version": "3.8.8"
  },
  "orig_nbformat": 4
 },
 "nbformat": 4,
 "nbformat_minor": 2
}
