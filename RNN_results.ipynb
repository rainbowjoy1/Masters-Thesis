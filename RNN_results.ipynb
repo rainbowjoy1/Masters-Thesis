{
 "cells": [
  {
   "cell_type": "code",
   "execution_count": null,
   "metadata": {},
   "outputs": [],
   "source": [
    "model_path = r\"C:\\Users\\danie\\Desktop\\RNN3\""
   ]
  },
  {
   "cell_type": "code",
   "execution_count": null,
   "metadata": {},
   "outputs": [],
   "source": [
    "loaded_model = load_model(model_path)"
   ]
  },
  {
   "cell_type": "code",
   "execution_count": null,
   "metadata": {},
   "outputs": [],
   "source": [
    "test_words = pd.read_pickle(r\"C:\\Users\\danie\\Documents\\GitHub\\Masters-Thesis\\list_of_words\")\n",
    "test_word_2 = ['is very easy-going person', 'is very dependable person', 'is very fair person', 'is very cooperative person']\n",
    "\n",
    "#test_words = pd.read_pickle(r\"/Users/yolandaferreirofranchi/Documents/GitHub/Masters-Thesis/list_of_words\")\n",
    "col_list = test_word_2[\"feature\"].values.tolist()"
   ]
  },
  {
   "cell_type": "code",
   "execution_count": null,
   "metadata": {},
   "outputs": [],
   "source": [
    "X_new = test_word_2 #add word/list of words that we want to predict scores for \n",
    "y_pred = loaded_model.predict(X_new)"
   ]
  },
  {
   "cell_type": "code",
   "execution_count": null,
   "metadata": {},
   "outputs": [],
   "source": [
    "Y = pd.DataFrame(y_pred)\n",
    "Y.reset_index(inplace=True, drop=True)\n",
    "test_words.reset_index(inplace=True, drop=True)\n",
    "result = pd.concat([test_words, Y], axis=1)"
   ]
  },
  {
   "cell_type": "code",
   "execution_count": null,
   "metadata": {},
   "outputs": [],
   "source": [
    "pd.set_option('display.max_rows', 500)\n",
    "result = result.sort_values(by=[1],ascending=False)\n",
    "result.head(500)"
   ]
  }
 ],
 "metadata": {
  "language_info": {
   "name": "python"
  },
  "orig_nbformat": 4
 },
 "nbformat": 4,
 "nbformat_minor": 2
}
