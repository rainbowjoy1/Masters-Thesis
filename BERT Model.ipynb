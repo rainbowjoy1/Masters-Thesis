{
 "cells": [
  {
   "attachments": {},
   "cell_type": "markdown",
   "metadata": {},
   "source": [
    "This is the BERT Classifier notebook. \n",
    "\n",
    "- Ingest the full datasest seperated by sentences. (which means it needs to be divided by article num sent numnber) \n",
    "- we want to use the MDGender datset for classification along with some annotation by following the Facbook paper. (loose the AS)\n",
    "- Implement BERT"
   ]
  },
  {
   "cell_type": "code",
   "execution_count": null,
   "metadata": {},
   "outputs": [],
   "source": []
  }
 ],
 "metadata": {
  "language_info": {
   "name": "python"
  },
  "orig_nbformat": 4
 },
 "nbformat": 4,
 "nbformat_minor": 2
}
