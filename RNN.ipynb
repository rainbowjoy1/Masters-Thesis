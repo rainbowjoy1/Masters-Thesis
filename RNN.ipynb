{
 "cells": [
  {
   "cell_type": "code",
   "execution_count": 47,
   "metadata": {},
   "outputs": [],
   "source": [
    "#general \n",
    "import pandas as pd\n",
    "import numpy as np\n",
    "import os\n",
    "from sklearn import __version__ as sklearn_version\n",
    "from sklearn.model_selection import train_test_split\n",
    "\n",
    "#warnings \n",
    "import warnings \n",
    "warnings.filterwarnings(\"ignore\")\n",
    "\n",
    "#for RNN\n",
    "import tensorflow as tf\n",
    "from tensorflow.keras.callbacks import EarlyStopping\n",
    "from keras.models import load_model\n",
    "\n",
    "\n",
    "#for performance evaluation \n",
    "from sklearn.metrics import confusion_matrix\n",
    "from pretty_confusion_matrix import pp_matrix\n",
    "from sklearn.metrics import precision_recall_fscore_support\n",
    "\n",
    "#for visualization \n",
    "import matplotlib.pyplot as plt\n",
    "from wordcloud import WordCloud\n",
    "\n",
    "import pickle"
   ]
  },
  {
   "attachments": {},
   "cell_type": "markdown",
   "metadata": {},
   "source": [
    "**Versions of Packages**"
   ]
  },
  {
   "cell_type": "code",
   "execution_count": 3,
   "metadata": {},
   "outputs": [
    {
     "name": "stdout",
     "output_type": "stream",
     "text": [
      "Pandas version: 1.4.4\n",
      "Scikit-learn version: 1.2.2\n",
      "NumPy version: 1.23.5\n",
      "TensorFlow version: 2.10.0\n"
     ]
    }
   ],
   "source": [
    "print(\"Pandas version:\", pd.__version__)\n",
    "print(\"Scikit-learn version:\", sklearn_version)\n",
    "print(\"NumPy version:\", np.__version__)\n",
    "print(\"TensorFlow version:\", tf.__version__)\n",
    "#unable to find the version for pretty_conf_matrix, but maybe only one of us runs it?"
   ]
  },
  {
   "cell_type": "code",
   "execution_count": 13,
   "metadata": {},
   "outputs": [
    {
     "data": {
      "text/html": [
       "<div>\n",
       "<style scoped>\n",
       "    .dataframe tbody tr th:only-of-type {\n",
       "        vertical-align: middle;\n",
       "    }\n",
       "\n",
       "    .dataframe tbody tr th {\n",
       "        vertical-align: top;\n",
       "    }\n",
       "\n",
       "    .dataframe thead th {\n",
       "        text-align: right;\n",
       "    }\n",
       "</style>\n",
       "<table border=\"1\" class=\"dataframe\">\n",
       "  <thead>\n",
       "    <tr style=\"text-align: right;\">\n",
       "      <th></th>\n",
       "      <th>pre_processed_sent</th>\n",
       "      <th>string_rnn</th>\n",
       "      <th>male_count</th>\n",
       "      <th>female_count</th>\n",
       "      <th>Proper_noun_list</th>\n",
       "      <th>pn exists</th>\n",
       "      <th>sentences</th>\n",
       "      <th>article_id</th>\n",
       "      <th>year</th>\n",
       "      <th>col_type</th>\n",
       "    </tr>\n",
       "  </thead>\n",
       "  <tbody>\n",
       "    <tr>\n",
       "      <th>0</th>\n",
       "      <td>[say, delight, restored, bridge, back, use]</td>\n",
       "      <td>say delight restored bridge back use</td>\n",
       "      <td>1</td>\n",
       "      <td>0</td>\n",
       "      <td>[Southease]</td>\n",
       "      <td>None</td>\n",
       "      <td>Chairman of Southease Parish, Neville Harrison...</td>\n",
       "      <td>1</td>\n",
       "      <td>2010</td>\n",
       "      <td>0</td>\n",
       "    </tr>\n",
       "    <tr>\n",
       "      <th>1</th>\n",
       "      <td>[family, year, old, kill, house, fire, pay, tr...</td>\n",
       "      <td>family year old kill house fire pay tribute br...</td>\n",
       "      <td>0</td>\n",
       "      <td>2</td>\n",
       "      <td>[]</td>\n",
       "      <td>None</td>\n",
       "      <td>The family of a 34-year-old mother from Bristo...</td>\n",
       "      <td>21</td>\n",
       "      <td>2010</td>\n",
       "      <td>1</td>\n",
       "    </tr>\n",
       "    <tr>\n",
       "      <th>2</th>\n",
       "      <td>[family, say, kind, totally, dedicated]</td>\n",
       "      <td>family say kind totally dedicated</td>\n",
       "      <td>1</td>\n",
       "      <td>4</td>\n",
       "      <td>[]</td>\n",
       "      <td>None</td>\n",
       "      <td>Her family said she was kind and a totally ded...</td>\n",
       "      <td>21</td>\n",
       "      <td>2010</td>\n",
       "      <td>1</td>\n",
       "    </tr>\n",
       "    <tr>\n",
       "      <th>3</th>\n",
       "      <td>[truly, tragic, love, family, everything, give...</td>\n",
       "      <td>truly tragic love family everything give famil...</td>\n",
       "      <td>0</td>\n",
       "      <td>4</td>\n",
       "      <td>[Sara]</td>\n",
       "      <td>None</td>\n",
       "      <td>'Truly tragic'\"Sara loved her family above eve...</td>\n",
       "      <td>21</td>\n",
       "      <td>2010</td>\n",
       "      <td>1</td>\n",
       "    </tr>\n",
       "    <tr>\n",
       "      <th>4</th>\n",
       "      <td>[everybody, know, love, miss, always]</td>\n",
       "      <td>everybody know love miss always</td>\n",
       "      <td>0</td>\n",
       "      <td>3</td>\n",
       "      <td>[]</td>\n",
       "      <td>None</td>\n",
       "      <td>\"Everybody who knew her will love her and miss...</td>\n",
       "      <td>21</td>\n",
       "      <td>2010</td>\n",
       "      <td>1</td>\n",
       "    </tr>\n",
       "    <tr>\n",
       "      <th>...</th>\n",
       "      <td>...</td>\n",
       "      <td>...</td>\n",
       "      <td>...</td>\n",
       "      <td>...</td>\n",
       "      <td>...</td>\n",
       "      <td>...</td>\n",
       "      <td>...</td>\n",
       "      <td>...</td>\n",
       "      <td>...</td>\n",
       "      <td>...</td>\n",
       "    </tr>\n",
       "    <tr>\n",
       "      <th>514542</th>\n",
       "      <td>[contrast, news, conference, sound, guard, eve...</td>\n",
       "      <td>contrast news conference sound guard even slig...</td>\n",
       "      <td>2</td>\n",
       "      <td>0</td>\n",
       "      <td>[Fabio]</td>\n",
       "      <td>None</td>\n",
       "      <td>Compare and contrast - Fabio Capello's news co...</td>\n",
       "      <td>2175804</td>\n",
       "      <td>2010</td>\n",
       "      <td>0</td>\n",
       "    </tr>\n",
       "    <tr>\n",
       "      <th>514543</th>\n",
       "      <td>[goal, one, chosen, five, could, take, spot, k...</td>\n",
       "      <td>goal one chosen five could take spot kick need</td>\n",
       "      <td>2</td>\n",
       "      <td>0</td>\n",
       "      <td>[Nelson, Mandela]</td>\n",
       "      <td>True</td>\n",
       "      <td>And after his goal at the Nelson Mandela Bay S...</td>\n",
       "      <td>2175804</td>\n",
       "      <td>2010</td>\n",
       "      <td>0</td>\n",
       "    </tr>\n",
       "    <tr>\n",
       "      <th>514544</th>\n",
       "      <td>[everyone, practise, say]</td>\n",
       "      <td>everyone practise say</td>\n",
       "      <td>1</td>\n",
       "      <td>0</td>\n",
       "      <td>[]</td>\n",
       "      <td>None</td>\n",
       "      <td>\"Everyone has been practising them,\" he said.</td>\n",
       "      <td>2175804</td>\n",
       "      <td>2010</td>\n",
       "      <td>0</td>\n",
       "    </tr>\n",
       "    <tr>\n",
       "      <th>514545</th>\n",
       "      <td>[look, relax, hair, back, cornrows, mobile, tu...</td>\n",
       "      <td>look relax hair back cornrows mobile tuck righ...</td>\n",
       "      <td>4</td>\n",
       "      <td>0</td>\n",
       "      <td>[]</td>\n",
       "      <td>None</td>\n",
       "      <td>He looked relaxed, his hair back in cornrows, ...</td>\n",
       "      <td>2175804</td>\n",
       "      <td>2010</td>\n",
       "      <td>0</td>\n",
       "    </tr>\n",
       "    <tr>\n",
       "      <th>514546</th>\n",
       "      <td>[another, game, bother, rivalry, two, country]</td>\n",
       "      <td>another game bother rivalry two country</td>\n",
       "      <td>2</td>\n",
       "      <td>0</td>\n",
       "      <td>[]</td>\n",
       "      <td>None</td>\n",
       "      <td>For him, it is \"just another game\", he's not t...</td>\n",
       "      <td>2175804</td>\n",
       "      <td>2010</td>\n",
       "      <td>0</td>\n",
       "    </tr>\n",
       "  </tbody>\n",
       "</table>\n",
       "<p>514547 rows × 10 columns</p>\n",
       "</div>"
      ],
      "text/plain": [
       "                                       pre_processed_sent  \\\n",
       "0             [say, delight, restored, bridge, back, use]   \n",
       "1       [family, year, old, kill, house, fire, pay, tr...   \n",
       "2                 [family, say, kind, totally, dedicated]   \n",
       "3       [truly, tragic, love, family, everything, give...   \n",
       "4                   [everybody, know, love, miss, always]   \n",
       "...                                                   ...   \n",
       "514542  [contrast, news, conference, sound, guard, eve...   \n",
       "514543  [goal, one, chosen, five, could, take, spot, k...   \n",
       "514544                          [everyone, practise, say]   \n",
       "514545  [look, relax, hair, back, cornrows, mobile, tu...   \n",
       "514546     [another, game, bother, rivalry, two, country]   \n",
       "\n",
       "                                               string_rnn  male_count  \\\n",
       "0                    say delight restored bridge back use           1   \n",
       "1       family year old kill house fire pay tribute br...           0   \n",
       "2                       family say kind totally dedicated           1   \n",
       "3       truly tragic love family everything give famil...           0   \n",
       "4                         everybody know love miss always           0   \n",
       "...                                                   ...         ...   \n",
       "514542  contrast news conference sound guard even slig...           2   \n",
       "514543     goal one chosen five could take spot kick need           2   \n",
       "514544                              everyone practise say           1   \n",
       "514545  look relax hair back cornrows mobile tuck righ...           4   \n",
       "514546            another game bother rivalry two country           2   \n",
       "\n",
       "        female_count   Proper_noun_list pn exists  \\\n",
       "0                  0        [Southease]      None   \n",
       "1                  2                 []      None   \n",
       "2                  4                 []      None   \n",
       "3                  4             [Sara]      None   \n",
       "4                  3                 []      None   \n",
       "...              ...                ...       ...   \n",
       "514542             0            [Fabio]      None   \n",
       "514543             0  [Nelson, Mandela]      True   \n",
       "514544             0                 []      None   \n",
       "514545             0                 []      None   \n",
       "514546             0                 []      None   \n",
       "\n",
       "                                                sentences  article_id  year  \\\n",
       "0       Chairman of Southease Parish, Neville Harrison...           1  2010   \n",
       "1       The family of a 34-year-old mother from Bristo...          21  2010   \n",
       "2       Her family said she was kind and a totally ded...          21  2010   \n",
       "3       'Truly tragic'\"Sara loved her family above eve...          21  2010   \n",
       "4       \"Everybody who knew her will love her and miss...          21  2010   \n",
       "...                                                   ...         ...   ...   \n",
       "514542  Compare and contrast - Fabio Capello's news co...     2175804  2010   \n",
       "514543  And after his goal at the Nelson Mandela Bay S...     2175804  2010   \n",
       "514544      \"Everyone has been practising them,\" he said.     2175804  2010   \n",
       "514545  He looked relaxed, his hair back in cornrows, ...     2175804  2010   \n",
       "514546  For him, it is \"just another game\", he's not t...     2175804  2010   \n",
       "\n",
       "       col_type  \n",
       "0             0  \n",
       "1             1  \n",
       "2             1  \n",
       "3             1  \n",
       "4             1  \n",
       "...         ...  \n",
       "514542        0  \n",
       "514543        0  \n",
       "514544        0  \n",
       "514545        0  \n",
       "514546        0  \n",
       "\n",
       "[514547 rows x 10 columns]"
      ]
     },
     "execution_count": 13,
     "metadata": {},
     "output_type": "execute_result"
    }
   ],
   "source": [
    "#import pre-processed data from pickle \n",
    "year = \"2010\"\n",
    "file_path = \"/Users/yolandaferreirofranchi/Desktop/ThesisDatasets/\"\n",
    "file_path_2 = \"_final_rnn.pickle\"\n",
    "\n",
    "df_10 = pd.read_pickle(file_path + year + file_path_2)\n",
    "#df_09= pd.read_pickle(r\"/Users/yolandaferreirofranchi/Desktop/ThesisDatasets/2009_text_wo_names.pickle\")\n",
    "#df_11= pd.read_pickle(r\"/Users/yolandaferreirofranchi/Desktop/ThesisDatasets/2011_text_wo_names.pickle\")\n",
    "#df_12= pd.read_pickle(r\"/Users/yolandaferreirofranchi/Desktop/ThesisDatasets/2012_text_wo_names.pickle\")\n",
    "#df_13= pd.read_pickle(r\"/Users/yolandaferreirofranchi/Desktop/ThesisDatasets/2013_text_wo_names.pickle\")\n",
    "#df_14= pd.read_pickle(r\"/Users/yolandaferreirofranchi/Desktop/ThesisDatasets/2014_text_wo_names.pickle\")\n",
    "#df_15= pd.read_pickle(r\"/Users/yolandaferreirofranchi/Desktop/ThesisDatasets/2015_text_wo_names.pickle\")\n",
    "#df_16= pd.read_pickle(r\"/Users/yolandaferreirofranchi/Desktop/ThesisDatasets/2016_text_wo_names.pickle\")\n",
    "#df_17= pd.read_pickle(r\"/Users/yolandaferreirofranchi/Desktop/ThesisDatasets/2017_text_wo_names.pickle\")\n",
    "#df_18= pd.read_pickle(r\"/Users/yolandaferreirofranchi/Desktop/ThesisDatasets/2018_text_wo_names.pickle\")\n",
    "#df_19 = pd.read_pickle(r\"/Users/yolandaferreirofranchi/Desktop/ThesisDatasets/2019_text_wo_names.pickle\")\n",
    "#df_20 = pd.read_pickle(r\"/Users/yolandaferreirofranchi/Desktop/ThesisDatasets/2020_text_wo_names.pickle\")\n",
    "#df_21 = pd.read_pickle(r\"/Users/yolandaferreirofranchi/Desktop/ThesisDatasets/2021_text_wo_names.pickle\")\n",
    "#df_22 = pd.read_pickle(r\"/Users/yolandaferreirofranchi/Desktop/ThesisDatasets/2022_text_wo_names_(1).pickle\")\n",
    "df_10"
   ]
  },
  {
   "cell_type": "code",
   "execution_count": 14,
   "metadata": {},
   "outputs": [],
   "source": [
    "def absolute_count(male_col, female_col):\n",
    "    if female_col > male_col and male_col == 0:\n",
    "        return 1\n",
    "    elif male_col> female_col and female_col ==0: \n",
    "        return 0\n",
    "    else: \n",
    "        return None"
   ]
  },
  {
   "cell_type": "code",
   "execution_count": 15,
   "metadata": {},
   "outputs": [
    {
     "data": {
      "text/plain": [
       "0.0    378476\n",
       "1.0    113870\n",
       "Name: col_type, dtype: int64"
      ]
     },
     "execution_count": 15,
     "metadata": {},
     "output_type": "execute_result"
    }
   ],
   "source": [
    "#apply function to only get rows with an absolute count \n",
    "df_10['col_type'] = df_10.apply(lambda row: absolute_count(row['male_count'], row['female_count']),axis=1)\n",
    "\n",
    "#remove nulls \n",
    "df_10 = df_10[df_10[\"col_type\"].notnull()]\n",
    "\n",
    "#DOC: number of male and female columns\n",
    "df_10[\"col_type\"].value_counts()  "
   ]
  },
  {
   "attachments": {},
   "cell_type": "markdown",
   "metadata": {},
   "source": [
    "**Split the DF**"
   ]
  },
  {
   "cell_type": "code",
   "execution_count": 16,
   "metadata": {},
   "outputs": [],
   "source": [
    "# Split the df by the preprocessed \n",
    "x_train, x_test, y_train, y_test = train_test_split(df_10[\"pre_processed_sent\"], \n",
    "                                                    df_10[\"col_type\"], \n",
    "                                                    stratify = df_10[\"col_type\"])"
   ]
  },
  {
   "cell_type": "code",
   "execution_count": 17,
   "metadata": {},
   "outputs": [],
   "source": [
    "xTrain, xTest, yTrain, yTest = train_test_split(df_10[\"string_rnn\"],\n",
    "                                                df_10[\"col_type\"], \n",
    "                                                stratify = df_10[\"col_type\"])"
   ]
  },
  {
   "cell_type": "code",
   "execution_count": 18,
   "metadata": {},
   "outputs": [],
   "source": [
    "train_dataset = tf.data.Dataset.from_tensor_slices((xTrain, yTrain)) #string_rnn here \n",
    "test_dataset = tf.data.Dataset.from_tensor_slices((xTest, yTest)) #clean text "
   ]
  },
  {
   "cell_type": "code",
   "execution_count": 19,
   "metadata": {},
   "outputs": [
    {
     "name": "stdout",
     "output_type": "stream",
     "text": [
      "text:  b'biggest oversight would job ensure financing retirement pension today tomorrow add'\n",
      "label:  0.0\n",
      "text:  b'say always'\n",
      "label:  0.0\n",
      "text:  b'way solve problem use video allude device team develop'\n",
      "label:  1.0\n",
      "text:  b'people love really special evening'\n",
      "label:  0.0\n",
      "text:  b'hold various role recently work investigation death four firefighter'\n",
      "label:  1.0\n",
      "text:  b'medical unit bst seven day week end school holiday period west pier'\n",
      "label:  0.0\n",
      "text:  b'say repair control pod would mean temporarily stop drill work rig time cost day operate rig'\n",
      "label:  0.0\n"
     ]
    }
   ],
   "source": [
    "for example, gen_label in train_dataset.take(7):\n",
    "  print('text: ', example.numpy())\n",
    "  print('label: ', gen_label.numpy())"
   ]
  },
  {
   "cell_type": "code",
   "execution_count": 20,
   "metadata": {},
   "outputs": [],
   "source": [
    "buffer_size = 50000 \n",
    "batch_size = 64 # best practice\n",
    "train_dataset = train_dataset.shuffle(buffer_size).batch(batch_size).prefetch(tf.data.AUTOTUNE)\n",
    "test_dataset = test_dataset.batch(batch_size).prefetch(tf.data.AUTOTUNE)"
   ]
  },
  {
   "cell_type": "code",
   "execution_count": 21,
   "metadata": {},
   "outputs": [],
   "source": [
    "#map text features to integer sequences for all of the vocabulary\n",
    "vocab_size = 60000 #this is 1/12 of all the words in the english language \n",
    "encoder = tf.keras.layers.TextVectorization(\n",
    "    max_tokens=vocab_size)\n",
    "encoder.adapt(train_dataset.map(lambda text, label: text))"
   ]
  },
  {
   "cell_type": "code",
   "execution_count": 22,
   "metadata": {},
   "outputs": [],
   "source": [
    "encoded_vocab = np.array(encoder.get_vocabulary())\n",
    "vocab_dict = dict(enumerate(encoded_vocab))\n",
    "#vocab_dict"
   ]
  },
  {
   "attachments": {},
   "cell_type": "markdown",
   "metadata": {},
   "source": [
    "**RNN/LSTM Architecture**"
   ]
  },
  {
   "cell_type": "code",
   "execution_count": null,
   "metadata": {},
   "outputs": [],
   "source": [
    "rnn = tf.keras.Sequential([\n",
    "    encoder,\n",
    "    tf.keras.layers.Embedding(len(encoder.get_vocabulary()), 64, mask_zero=True),\n",
    "    tf.keras.layers.Bidirectional(tf.keras.layers.LSTM(64,  return_sequences=True)),\n",
    "    tf.keras.layers.Bidirectional(tf.keras.layers.LSTM(32)),\n",
    "    tf.keras.layers.Dense(64, activation='relu'),\n",
    "    tf.keras.layers.Dropout(0.5),\n",
    "    tf.keras.layers.Dense(2)\n",
    "])"
   ]
  },
  {
   "cell_type": "code",
   "execution_count": null,
   "metadata": {},
   "outputs": [],
   "source": [
    "#newmodel\n",
    "rnn1 = tf.keras.Sequential([\n",
    "    encoder,\n",
    "    tf.keras.layers.Embedding(len(encoder.get_vocabulary()), 256, mask_zero=True),\n",
    "    tf.keras.layers.Bidirectional(tf.keras.layers.LSTM(128, return_sequences=True)),\n",
    "    tf.keras.layers.Bidirectional(tf.keras.layers.LSTM(64)),\n",
    "    tf.keras.layers.Dense(128, activation='relu'),\n",
    "    tf.keras.layers.Dropout(0.5),\n",
    "    tf.keras.layers.Dense(2)\n",
    "])"
   ]
  },
  {
   "cell_type": "code",
   "execution_count": null,
   "metadata": {},
   "outputs": [],
   "source": [
    "#newmodel - BEST ONE SO FAR!!\n",
    "rnn2 = tf.keras.Sequential([\n",
    "    encoder,\n",
    "    tf.keras.layers.Embedding(len(encoder.get_vocabulary()), 256, mask_zero=True),\n",
    "    tf.keras.layers.Bidirectional(tf.keras.layers.LSTM(128, return_sequences=True)),\n",
    "    tf.keras.layers.Bidirectional(tf.keras.layers.LSTM(64)),\n",
    "    tf.keras.layers.Dense(128, activation='relu'),\n",
    "    tf.keras.layers.Dropout(0.2),\n",
    "    tf.keras.layers.Dense(2)\n",
    "])"
   ]
  },
  {
   "cell_type": "code",
   "execution_count": null,
   "metadata": {},
   "outputs": [],
   "source": [
    "#new2\n",
    "rnn3 = tf.keras.Sequential([\n",
    "    encoder,\n",
    "    tf.keras.layers.Embedding(len(encoder.get_vocabulary()), 1024, mask_zero=True),\n",
    "    tf.keras.layers.Bidirectional(tf.keras.layers.LSTM(128, return_sequences=True)),\n",
    "    tf.keras.layers.Bidirectional(tf.keras.layers.LSTM(64)),\n",
    "    tf.keras.layers.Dense(128, activation='relu'),\n",
    "    tf.keras.layers.Dropout(0.2),\n",
    "    tf.keras.layers.Dense(2)\n",
    "])"
   ]
  },
  {
   "cell_type": "code",
   "execution_count": null,
   "metadata": {},
   "outputs": [],
   "source": [
    "rnn3.summary()"
   ]
  },
  {
   "cell_type": "code",
   "execution_count": null,
   "metadata": {},
   "outputs": [],
   "source": [
    "rnn3.compile(loss=tf.keras.losses.SparseCategoricalCrossentropy(from_logits=True), \n",
    "              optimizer=tf.keras.optimizers.Adam(1e-4),\n",
    "              metrics=['accuracy'])"
   ]
  },
  {
   "cell_type": "code",
   "execution_count": null,
   "metadata": {},
   "outputs": [],
   "source": [
    "early_stop = EarlyStopping(monitor='val_loss', patience=5, verbose=1)\n",
    "fitted_model = rnn3.fit(train_dataset, epochs=3,\n",
    "                    validation_data=test_dataset, \n",
    "                    callbacks = [early_stop])"
   ]
  },
  {
   "attachments": {},
   "cell_type": "markdown",
   "metadata": {},
   "source": [
    "**Saving & Loading the Model**"
   ]
  },
  {
   "cell_type": "code",
   "execution_count": 4,
   "metadata": {},
   "outputs": [],
   "source": [
    "#save the model \n",
    "#model_path = \"/Users/yolandaferreirofranchi/Desktop/ThesisDatasets/models\"\n",
    "model_path = r\"C:\\Users\\danie\\Desktop\\RNN3\"\n",
    "#rnn3.save(model_path) #comment this out "
   ]
  },
  {
   "cell_type": "code",
   "execution_count": 6,
   "metadata": {},
   "outputs": [
    {
     "name": "stdout",
     "output_type": "stream",
     "text": [
      "1/1 [==============================] - 5s 5s/step\n"
     ]
    }
   ],
   "source": [
    "#load saved model \n",
    "loaded_model = load_model(model_path)\n",
    "\n",
    "#make predictions based on model \n",
    "\n",
    "#X_new = ['beautiful'] #add word/list of words that we want to predict scores for \n",
    "#y_pred = loaded_model.predict(X_new)"
   ]
  },
  {
   "cell_type": "code",
   "execution_count": 48,
   "metadata": {},
   "outputs": [
    {
     "ename": "NameError",
     "evalue": "name 'list_of_words' is not defined",
     "output_type": "error",
     "traceback": [
      "\u001b[1;31m---------------------------------------------------------------------------\u001b[0m",
      "\u001b[1;31mNameError\u001b[0m                                 Traceback (most recent call last)",
      "\u001b[1;32m<ipython-input-48-2097c284180e>\u001b[0m in \u001b[0;36m<module>\u001b[1;34m\u001b[0m\n\u001b[1;32m----> 1\u001b[1;33m \u001b[0mtest_words\u001b[0m \u001b[1;33m=\u001b[0m \u001b[0mpd\u001b[0m\u001b[1;33m.\u001b[0m\u001b[0mread_pickle\u001b[0m\u001b[1;33m(\u001b[0m\u001b[0mlist_of_words\u001b[0m\u001b[1;33m.\u001b[0m\u001b[0mpickle\u001b[0m\u001b[1;33m)\u001b[0m\u001b[1;33m\u001b[0m\u001b[1;33m\u001b[0m\u001b[0m\n\u001b[0m",
      "\u001b[1;31mNameError\u001b[0m: name 'list_of_words' is not defined"
     ]
    }
   ],
   "source": [
    "test_words = pd.read_pickle(list_of_words.pickle)"
   ]
  },
  {
   "cell_type": "code",
   "execution_count": 39,
   "metadata": {},
   "outputs": [
    {
     "name": "stdout",
     "output_type": "stream",
     "text": [
      "74/74 [==============================] - 1s 14ms/step\n"
     ]
    }
   ],
   "source": [
    "X_new = word_predict #add word/list of words that we want to predict scores for \n",
    "y_pred = loaded_model.predict(X_new)"
   ]
  },
  {
   "cell_type": "code",
   "execution_count": 40,
   "metadata": {},
   "outputs": [
    {
     "name": "stdout",
     "output_type": "stream",
     "text": [
      "pred score of word ['pretty', 'woman', 'beautiful', 'kind', 'abandons', 'abolishes', 'absorbs', 'abuses', 'accelerates', 'accepts', 'accesses', 'accommodates', 'accompanies', 'accomplishes', 'accords', 'accounts', 'accumulates', 'accuses', 'aches', 'achieves', 'acknowledges', 'acquaints', 'acquires', 'acquits', 'activates', 'acts', 'adapts', 'addresses', 'adds', 'adjoins', 'adjusts', 'administers', 'admires', 'admits', 'adopts', 'adores', 'adorns', 'advances', 'advertises', 'advises', 'advocates', 'affects', 'affirms', 'affixes', 'affords', 'ages', 'aggravates', 'agonizes', 'agonizes over', 'agrees', 'agrees on', 'aids', 'aims', 'alarms', 'alerts', 'alleges', 'allows', 'alters', 'ambles', 'amends', 'amuses', 'analyzes', 'anchors', 'angers', 'angles', 'animates', 'announces', 'annoys', 'answers', 'anticipates', 'apologizes', 'apologizes to', 'appals', 'appeals', 'appeals to', 'appears', 'applauds', 'applies', 'applies to', 'appoints', 'appraises', 'appreciates', 'approaches', 'approves', 'arches', 'arcs', 'argues', 'arises', 'arms', 'arouses', 'arranges', 'arrests', 'arrives', 'ascends', 'asks', 'assails', 'assaults', 'assembles', 'asserts', 'assesses', 'assigns', 'assists', 'associates', 'assumes', 'assures', 'astonishes', 'attaches', 'attaches to', 'attacks', 'attempts', 'attends', 'attracts', 'attributes', 'authorizes', 'averts', 'avoids', 'awaits', 'awakens', 'awakes', 'awards', 'babbles', 'backhands', 'backs', 'baffles', 'bags', 'bails', 'bakes', 'balances', 'balds', 'balls', 'bandages', 'bangs', 'banks', 'bans', 'barks', 'barrels', 'bars', 'bases', 'bashes', 'baths', 'bats', 'batters', 'battles', 'bawls', 'beams', 'bears', 'beats', 'beckons', 'becomes', 'beeps', 'begins', 'begs', 'behaves', 'beholds', 'belches', 'believes', 'bellows', 'belongs to', 'belts', 'bends', 'benefits', 'besieges', 'betrays', 'bets', 'betters', 'bewilders', 'bids', 'billows', 'binds', 'bites', 'blackens', 'blackmails', 'blames', 'blanches', 'blares', 'blasts', 'blazes', 'bleaches', 'bleeds', 'blends', 'blesses', 'blinds', 'blinks', 'blocks', 'bloodies', 'blots', 'blows', 'blurs', 'blurts', 'blushes', 'boards', 'boasts', 'bobs', 'boils', 'bolts', 'bombs', 'bones', 'books', 'booms', 'boosts', 'boots', 'borders', 'bores', 'borrows', 'bothers', 'bounces', 'bounds', 'bowls', 'bows', 'bows to', 'boxes', 'braces', 'brakes', 'brandishes', 'breaks', 'breathes', 'breeds', 'briefs', 'brightens', 'brims', 'brings', 'bristles', 'broadcasts', 'broadens', 'broods', 'browses', 'bruises', 'brushes', 'bubbles', 'buckles up', 'bucks', 'budges', 'buffets', 'bugs', 'builds', 'bulges', 'bumps', 'bundles', 'buries', 'burns', 'burrows', 'bursts', 'bustles', 'busts', 'buttons', 'buys', 'buzzes', 'cages', 'cakes', 'calculates', 'calls', 'calms', 'camps', 'cancels', 'caps', 'captures', 'careens', 'cares', 'caresses', 'carries', 'carves', 'cascades', 'cashes', 'casts', 'catches', 'causes', 'cautions', 'caves', 'ceases', 'celebrates', 'centers', 'centers on', 'chains', 'chalks', 'challenges', 'changes', 'chants', 'characterizes', 'charges', 'charms', 'chars', 'chases', 'chats', 'chatters', 'cheats', 'checks', 'cheers', 'chews', 'chills', 'chimes', 'chips', 'chirps', 'chokes', 'chokes on', 'chooses', 'chops', 'chuckles', 'chucks', 'chugs', 'churns', 'circles', 'circulates', 'cites', 'claims', 'clambers', 'clamps', 'claps', 'clarifies', 'clasps', 'classifies', 'clatters', 'claws', 'cleans', 'cleanses', 'clears', 'clenches', 'clicks', 'climbs', 'clings to', 'clinks', 'clips', 'cloaks', 'clocks', 'clogs', 'closes', 'clothes', 'clouds', 'clusters', 'clutches', 'clutters', 'coats', 'coaxes', 'coils', 'collapses', 'collects', 'collides', 'collides with', 'colors', 'combines', 'combs', 'comes', 'comforts', 'commands', 'commemorates', 'commences', 'comments', 'commissions', 'commits', 'communicates', 'compares', 'compels', 'compensates', 'competes', 'compiles', 'complains', 'completes', 'complicates', 'complies', 'composes', 'comprehends', 'compromises', 'conceals', 'concedes', 'conceives', 'concentrates', 'concentrates on', 'concerns', 'concludes', 'condemns', 'conducts', 'confers', 'confesses', 'confines', 'confirms', 'confiscates', 'confronts', 'confuses', 'congratulates', 'connects', 'conquers', 'considers', 'consists of', 'consoles', 'constitutes', 'constructs', 'consults', 'consumes', 'contacts', 'contains', 'contaminates', 'contemplates', 'contests', 'continues', 'contorts', 'contracts', 'contradicts', 'contrasts', 'contributes', 'controls', 'convenes', 'converges', 'converses', 'converts', 'conveys', 'convicts', 'convinces', 'convulses', 'cooks', 'cools', 'cooperates', 'coordinates', 'copies', 'cops', 'corners', 'corrects', 'corresponds', 'corresponds with', 'costs', 'coughs', 'counters', 'counts', 'courses', 'courts', 'covers', 'cowers', 'crackles', 'cracks', 'cradles', 'crams', 'cranes', 'cranks', 'crashes', 'crawls', 'creaks', 'creates', 'credits', 'creeps', 'crests', 'cries', 'cringes', 'criticizes', 'crops', 'crosses', 'crosses out', 'crouches', 'crowds', 'crows', 'crucifies', 'cruises', 'crumbles', 'crumples', 'crunches', 'crushes', 'cuddles', 'cuffs', 'cultivates', 'cups', 'cures', 'curls', 'curses', 'curtains', 'curves', 'cuts', 'dabs', 'damages', 'dances', 'dangles', 'dares', 'darkens', 'darts', 'dashes', 'dates', 'dawns', 'dazzles', 'deafens', 'deals', 'debates', 'decapitates', 'decays', 'decides', 'decks', 'declares', 'declines', 'decorates', 'decreases', 'dedicates', 'deems', 'deepens', 'defeats', 'defends', 'defers', 'defers to', 'defies', 'defines', 'deflates', 'deflects', 'delays', 'delights', 'delivers', 'demands', 'demolishes', 'demonstrates', 'denies', 'denounces', 'dents', 'departs', 'depends', 'depends on', 'depicts', 'deploys', 'deposes', 'deposits', 'depresses', 'deprives', 'derives', 'descends', 'describes', 'deserts', 'deserves', 'designates', 'designs', 'desires', 'despises', 'destroys', 'detaches', 'detains', 'detects', 'determines', 'deters', 'detonates', 'devastates', 'develops', 'devises', 'devotes', 'devours', 'diagnoses', 'dials', 'dictates', 'dies', 'digests', 'digs', 'diminishes', 'dims', 'dips', 'directs', 'disagrees', 'disappears', 'disappoints', 'disapproves of', 'disarms', 'disbelieves', 'discards', 'discharges', 'discloses', 'disconnects', 'discourages', 'discovers', 'discusses', 'disengages', 'disguises', 'disgusts', 'dishevels', 'disintegrates', 'dislodges', 'dismantles', 'dismisses', 'dismounts', 'disorients', 'dispatches', 'dispenses', 'disperses', 'displaces', 'displays', 'disposes', 'disputes', 'disrupts', 'dissipates', 'dissolves', 'distinguishes', 'distorts', 'distracts', 'distributes', 'disturbs', 'ditches', 'diverts', 'dives', 'divides', 'divorces', 'docks', 'documents', 'dodges', 'does', 'dogs', 'dominates', 'donates', 'dons', 'dooms', 'dots', 'doubles', 'doubts', 'douses', 'downs', 'dozes', 'drafts', 'drags', 'drains', 'drapes', 'draws', 'dreads', 'dreams', 'drenches', 'dresses', 'dribbles', 'dries', 'drifts', 'drills', 'drinks', 'drips', 'drives', 'drools', 'droops', 'drops', 'drowns', 'drugs', 'drums', 'ducks', 'dumps', 'dusts', 'dwarfs', 'dwells', 'earns', 'eases', 'eats', 'echoes', 'echos', 'edges', 'edits', 'educates', 'ejects', 'elaborates', 'elbows', 'elects', 'elevates', 'eliminates', 'emanates', 'embarrasses', 'embeds', 'emblazons', 'embraces', 'embroiders', 'emerges', 'emits', 'emphasizes', 'employs', 'empties', 'enables', 'enacts', 'encases', 'encircles', 'encloses', 'encounters', 'encourages', 'endangers', 'endorses', 'ends', 'endures', 'enforces', 'engages', 'engraves', 'engrosses', 'engulfs', 'enhances', 'enjoys', 'enlists', 'enrages', 'enriches', 'ensures', 'enters', 'entertains', 'entitles', 'envelops', 'envies', 'envisions', 'equips', 'erases', 'erects', 'erodes', 'erupts', 'escalates', 'escapes', 'escorts', 'establishes', 'estimates', 'etches', 'evacuates', 'evades', 'evaluates', 'evolves', 'exaggerates', 'examines', 'exasperates', 'exceeds', 'exchanges', 'excites', 'excludes', 'excuses', 'executes', 'exercises', 'exerts', 'exhales', 'exhausts', 'exists', 'exits', 'expands', 'expects', 'expels', 'experiences', 'explains', 'explodes', 'exploits', 'explores', 'exposes', 'expresses', 'extends', 'extinguishes', 'extracts', 'eyeballs', 'eyes', 'faces', 'fades', 'fails', 'faints', 'fakes', 'fakes out', 'falls', 'falters', 'fancies', 'fans', 'farts', 'fascinates', 'fashions', 'fastens', 'fasts', 'favors', 'fears', 'features', 'feeds', 'feels', 'fees', 'feigns', 'fences', 'fends off', 'fetches', 'fiddles', 'fidgets', 'fights', 'figures', 'files', 'fills', 'films', 'filters', 'finances', 'finds', 'fingers', 'finishes', 'fires', 'fires at', 'fishes for', 'fishtails', 'fits', 'fixates on', 'fixes', 'flags', 'flails', 'flames', 'flanks', 'flaps', 'flares', 'flashes', 'flattens', 'flees', 'flexes', 'flickers', 'flicks', 'flies', 'flinches', 'flings', 'flips', 'flirts', 'floats', 'floods', 'floors', 'flops', 'flows', 'flushes', 'flutters', 'focuses', 'focuses on', 'folds', 'follows', 'fondles', 'fools', 'forbids', 'forces', 'forges', 'forgets', 'forgives', 'forms', 'fosters', 'founds', 'frames', 'freaks out', 'frees', 'freezes', 'fries', 'frightens', 'frisks', 'fronts', 'frowns', 'frustrates', 'fuels', 'fulfills', 'fulfils', 'fumbles', 'fumes', 'functions', 'furnishes', 'furrows', 'fusses over', 'gags', 'gags on', 'gains', 'gallops', 'gambles', 'gaps', 'gasps', 'gathers', 'gauges', 'gawks', 'gazes', 'generates', 'gestures', 'gets', 'giggles', 'gives', 'glances', 'glares', 'glazes', 'gleams', 'glides', 'glimpses', 'glints', 'glistens', 'glitters', 'glowers', 'glows', 'glues', 'gnaws', 'goes', 'gos', 'gouges', 'governs', 'grabs', 'graduates', 'grants', 'grapples with', 'grasps', 'grazes', 'greets', 'grieves', 'grills', 'grimaces', 'grinds', 'grins', 'grips', 'grits', 'groans', 'grooms', 'gropes', 'grounds', 'groups', 'growls', 'grows', 'grumbles', 'grunts', 'guarantees', 'guards', 'guesses', 'guides', 'gulps', 'gushes', 'gyrates', 'hacks', 'hails', 'halts', 'hammers', 'hampers', 'handcuffs', 'handles', 'hands', 'hangs', 'happens', 'harasses', 'hardens', 'harms', 'hates', 'hauls', 'haunts', 'haves', 'heads', 'heals', 'heaps', 'hears', 'heats', 'heaves', 'hefts', 'heightens', 'helps', 'herds', 'hesitates', 'hides', 'highlights', 'hikes', 'hires', 'hisses', 'hitches', 'hits', 'hobbles', 'hoists', 'holds', 'hollers', 'honks', 'honors', 'hooks', 'hopes', 'hops', 'horrifies', 'houses', 'hovers', 'howls', 'huddles', 'huffs', 'hugs', 'humiliates', 'hums', 'hunches', 'hunts', 'hurls', 'hurries', 'hurtles', 'hurts', 'hushes', 'hustles', 'hyperventilates', 'hypnotizes', 'ices', 'identifies', 'idles', 'ignites', 'ignores', 'illuminates', 'illustrates', 'imagines', 'imitates', 'immerses', 'immobilizes', 'impales', 'implements', 'implies', 'implores', 'imposes', 'impresses', 'improves', 'improvises', 'inches', 'includes', 'incorporates', 'increases', 'indicates', 'induces', 'indulges', 'infects', 'inflicts', 'influences', 'informs', 'inhales', 'inherits', 'initiates', 'injects', 'injures', 'inserts', 'insists', 'insists on', 'inspects', 'inspires', 'installs', 'instals', 'instructs', 'insults', 'insures', 'integrates', 'intends', 'intensifies', 'intercepts', 'interests', 'interferes', 'interprets', 'interrogates', 'interrupts', 'intersects', 'intervenes', 'interviews', 'intimidates', 'intrigues', 'introduces', 'intrudes', 'invades', 'invents', 'investigates', 'invests', 'invites', 'invokes', 'involves', 'irritates', 'isolates', 'issues', 'jabs', 'jams', 'jars', 'jiggles', 'jogs', 'joins', 'jokes', 'jolts', 'jostles', 'jots', 'judges', 'juggles', 'jumps', 'justifies', 'juts', 'keeps', 'keys', 'kicks', 'kidnaps', 'kids', 'kills', 'kisses', 'kneels', 'knits', 'knocks', 'knots', 'knows', 'labels', 'labors', 'laces', 'lacks', 'lags', 'lands', 'laps', 'lashes', 'lasts', 'latches', 'laughs', 'launches', 'lays', 'leads', 'leafs', 'leaks', 'leans', 'leaps', 'learns', 'leaves', 'lectures', 'leers', 'lends', 'lets', 'letters', 'levels', 'licks', 'lies', 'lies to', 'lifts', 'lightens', 'lights', 'likes', 'limits', 'limps', 'lines', 'lingers', 'links', 'listens', 'lists', 'litters', 'lives', 'lives on', 'loads', 'locates', 'locks', 'lodges', 'lolls', 'looks', 'looms', 'loops', 'loosens', 'looses', 'lops', 'loses', 'lounges', 'loves', 'lowers', 'lugs', 'lumbers', 'lunges', 'lurches', 'lures', 'lurks', 'magnifies', 'mails', 'maintains', 'makes', 'manages', 'mandates', 'maneuvers', 'mangles', 'manipulates', 'mans', 'manufactures', 'marches', 'marks', 'marries', 'marvels at', 'mashes', 'masks', 'massages', 'matches', 'materializes', 'mats', 'matters', 'means', 'measures', 'mediates', 'meets', 'melts', 'memorizes', 'mends', 'mentions', 'merges', 'mesmerizes', 'messes up', 'mills', 'mimes', 'mimics', 'minds', 'mingles', 'minimizes', 'mirrors', 'misses', 'mistakes', 'misunderstands', 'mixes', 'moans', 'mobilizes', 'mocks', 'modifies', 'monitors', 'mops', 'motions to', 'motivates', 'mounts', 'mourns', 'mouths', 'moves', 'moves on', 'mows', 'muffles', 'mugs', 'mulls', 'multiplies', 'mumbles', 'munches', 'murders', 'murmurs', 'musters', 'mutes', 'mutilates', 'mutters', 'nails', 'names', 'narrows', 'navigates', 'nears', 'needs', 'neglects', 'negotiates', 'nestles', 'nibbles', 'nods', 'nods to', 'nominates', 'noses', 'notes', 'notices', 'notifies', 'nudges', 'numbers', 'nurses', 'nuzzles', 'obeys', 'objects', 'objects to', 'obliges', 'obliterates', 'obscures', 'observes', 'obsesses over', 'obstructs', 'obtains', 'occupies', 'occurs', 'offends', 'offers', 'offers to', 'omits', 'oozes', 'opens', 'operates', 'opposes', 'orders', 'organizes', 'outlaws', 'outlines', 'overcomes', 'overflows', 'overhears', 'overlaps', 'overlooks', 'oversees', 'overtakes', 'overthrows', 'overturns', 'overwhelms', 'owes', 'owns', 'paces', 'packs', 'paddles', 'pads', 'pages', 'paints', 'pals', 'panics', 'pans', 'pants', 'paralyzes', 'pardons', 'parks', 'participates', 'parts', 'passes', 'pastes', 'patches', 'patrols', 'pats', 'pauses', 'paves', 'paws', 'pays', 'pecks', 'pedals', 'peddles', 'peeks', 'peels', 'peeps', 'peers', 'pees', 'pegs', 'pelts', 'penetrates', 'perceives', 'perches', 'perfects', 'performs', 'permits', 'perplexes', 'persuades', 'peruses', 'pets', 'phones', 'photographs', 'picks', 'pictures', 'pierces', 'piles', 'pinches', 'pins', 'pitches', 'pivots', 'places', 'plagues', 'plans', 'plants', 'plasters', 'plats', 'plays', 'pleads', 'pleases', 'pledges', 'plops', 'plows', 'plucks', 'plugs in', 'plummets', 'plunges', 'pockets', 'points at', 'poises', 'poisons', 'pokes', 'polishes', 'ponders', 'pops', 'portrays', 'poses', 'positions', 'possesses', 'postpones', 'posts', 'pounces', 'pounds', 'pours', 'powers', 'practices', 'praises', 'prays', 'prays to', 'preaches', 'precedes', 'predicts', 'prefers', 'preoccupies', 'prepares', 'prescribes', 'presents', 'preserves', 'presides', 'presses', 'presumes', 'pretends', 'prevails', 'prevents', 'pricks', 'pries', 'prints', 'probes', 'proceeds', 'processes', 'proclaims', 'prods', 'produces', 'programs', 'progresses', 'prohibits', 'projects', 'promises', 'promotes', 'prompts', 'pronounces', 'propels', 'proposes', 'props', 'prosecutes', 'protects', 'protests', 'protrudes', 'proves', 'provides', 'provokes', 'prowls', 'publishes', 'puffs', 'pulls', 'pulsates', 'pulses', 'pummels', 'pumps', 'punches', 'punctuates', 'punctures', 'punishes', 'purchases', 'purrs', 'pursues', 'pushes', 'puts', 'puzzles', 'qualifies', 'questions', 'quickens', 'quiets', 'quits', 'quivers', 'quotes', 'races', 'racks up', 'radiates', 'rags', 'raids', 'rails against', 'rains', 'raises', 'rakes', 'rambles', 'rams', 'ranges', 'ranks', 'rants', 'raps', 'ratifies', 'rats on', 'rattles', 'ravages', 'raves', 'reaches', 'reacts', 'reacts to', 'readies', 'reads', 'reaffirms', 'realises', 'realizes', 'reappears', 'rearranges', 'rears', 'reasons', 'reassures', 'rebuilds', 'recalls', 'recedes', 'receives', 'recites', 'reckons', 'reclines', 'recognises', 'recognizes', 'recoils', 'recommends', 'reconciles', 'reconsiders', 'records', 'recounts', 'recovers', 'recruits', 'reduces', 'reels', 'refers', 'refills', 'reflects', 'refuses', 'regains', 'regards', 'registers', 'regrets', 'regulates', 'rehearses', 'reinforces', 'reins', 'reiterates', 'rejects', 'rejoins', 'relates to', 'relaxes', 'releases', 'relents', 'relies', 'relieves', 'relishes', 'reloads', 'remains', 'remembers', 'reminds', 'removes', 'renders', 'rends', 'renews', 'renounces', 'rents', 'reopens', 'repairs', 'repays', 'repeats', 'replaces', 'replies', 'reports', 'represents', 'repulses', 'requests', 'requires', 'rescues', 'resembles', 'resents', 'reserves', 'resigns', 'resists', 'resolves', 'respects', 'responds', 'restores', 'restrains', 'restricts', 'rests', 'results', 'results in', 'resumes', 'retains', 'retires', 'retracts', 'retreats', 'retrieves', 'returns', 'reveals', 'reverberates', 'reverses', 'reviews', 'revises', 'revives', 'revolves', 'revolves around', 'revs', 'rewards', 'ricochets', 'riddles', 'rides', 'rids', 'rifles through', 'rights', 'rigs', 'rings', 'rinses', 'ripples', 'rips', 'rises', 'risks', 'rivets', 'rivets on', 'roams', 'roars', 'roasts', 'robs', 'rockets', 'rocks', 'rolls', 'roots', 'rotates', 'rots', 'rounds', 'rouses', 'rows', 'rubs', 'ruffles', 'ruins', 'rules', 'rumbles', 'rummages', 'runs', 'rushes', 'rustles', 'rusts', 'sacks', 'sacrifices', 'saddles', 'sags', 'sails', 'salutes', 'salvages', 'satisfies', 'saunters', 'saves', 'savors', 'saws', 'says', 'scales', 'scampers', 'scans', 'scares', 'scars', 'scatters', 'schedules', 'scoffs', 'scoops', 'scoots', 'scorches', 'scores', 'scours', 'scowls', 'scrambles', 'scrapes', 'scraps', 'scratches', 'scrawls', 'screams', 'screeches', 'screens', 'scribbles', 'scrolls', 'scrubs', 'scrunches', 'scrutinizes', 'scurries', 'scuttles', 'seals', 'searches', 'sears', 'seats', 'secures', 'seduces', 'seeks', 'seems', 'sees', 'seethes', 'seizes', 'selects', 'sells', 'sends', 'senses', 'sentences', 'separates', 'serves', 'sets', 'settles', 'severs', 'sews', 'shades', 'shadows', 'shakes', 'shapes', 'shares', 'sharpens', 'shatters', 'shaves', 'sheds', 'shells', 'shelters', 'shields', 'shifts', 'shimmers', 'shines', 'shins', 'ships', 'shivers', 'shocks', 'shooes', 'shoos', 'shoots', 'shops', 'shoulders', 'shouts', 'shovels', 'shoves', 'showers', 'shows', 'shreds', 'shrieks', 'shrinks', 'shrouds', 'shrugs', 'shudders', 'shuffles', 'shushes', 'shuts', 'sickens', 'sides', 'sidesteps', 'sidles up to', 'sifts', 'sighs', 'sights', 'signals', 'signs', 'silences', 'silhouettes', 'simmers', 'singles out', 'sings', 'sinks', 'sips', 'sits', 'situates', 'sizes', 'sizzles', 'skates', 'sketches', 'skids', 'skims', 'skins', 'skips', 'skitters', 'slams', 'slants', 'slaps', 'slashes', 'slaughters', 'slays', 'sleeps', 'slices', 'slicks', 'slides', 'slings', 'slinks', 'slips', 'slithers', 'slits', 'slops', 'sloshes', 'slouches', 'slows', 'slugs', 'slumps', 'slurps', 'slurs', 'smacks', 'smashes', 'smears', 'smells', 'smiles', 'smirks', 'smokes', 'smolders', 'smooths', 'smothers', 'snags', 'snaps', 'snarls at', 'snatches', 'sneaks', 'sneers', 'sneezes', 'snickers', 'sniffs', 'snips', 'snoops', 'snores', 'snorts', 'snows', 'snuggles', 'soaks', 'soars', 'sobers', 'sobs', 'softens', 'soils', 'solicits', 'solves', 'soothes', 'sorts', 'sounds', 'spaces', 'spans', 'spares', 'sparkles', 'sparks', 'spars', 'spatters', 'speaks', 'speaks to', 'specifies', 'speeds', 'speeds up', 'spells', 'spends', 'spews', 'spies', 'spikes', 'spills', 'spins', 'spirals', 'spits at', 'splashes', 'splatters', 'splinters', 'splits', 'spoils', 'sponsors', 'spooks', 'sports', 'spots', 'sprawls', 'sprays', 'spreads', 'springs', 'sprinkles', 'sprints', 'sprouts', 'spurs', 'sputters', 'squares', 'squashes', 'squats', 'squeaks', 'squeals', 'squeezes', 'squints', 'squirms', 'squirts', 'stabilizes', 'stabs', 'stacks', 'staggers', 'stains', 'stakes', 'stalks', 'stalls', 'stamps', 'stands', 'stares', 'stars', 'startles', 'starts', 'starves', 'stashes', 'states', 'stations', 'stays', 'steadies', 'steals', 'steams', 'steels', 'steers', 'stencils', 'steps', 'sticks', 'stiffens', 'stifles', 'stimulates', 'stings', 'stinks', 'stirs', 'stitches', 'stocks', 'stomps', 'stones', 'stoops', 'stops', 'stores', 'storms', 'stows', 'straddles', 'straightens', 'strains', 'strands', 'strangles', 'strangles on', 'straps', 'strays', 'streams', 'strengthens', 'stresses', 'stretches', 'strides', 'strikes', 'strings', 'strips', 'strokes', 'strolls', 'struggles', 'struts', 'stubs', 'studies', 'stuffs', 'stumbles', 'stuns', 'subdues', 'submerges', 'submits', 'subsides', 'subtitles', 'succeeds', 'sues', 'suffers', 'suffocates', 'suggests', 'sulks', 'summons', 'superimposes', 'supervises', 'supplies', 'supports', 'supposes', 'suppresses', 'surfaces', 'surfs', 'surges', 'surprises', 'surrenders', 'surrounds', 'surveys', 'survives', 'survives on', 'suspects', 'suspends', 'sustains', 'swallows', 'swaps', 'swarms', 'swats', 'sways', 'swears', 'sweats', 'sweeps', 'swells', 'swerves', 'swigs', 'swims', 'swings', 'swipes', 'swirls', 'switches', 'swivels', 'swoops', 'tackles', 'tacks', 'tags', 'tailors', 'tails', 'takes', 'talks', 'talks to', 'tangles', 'taps', 'targets', 'tastes', 'tattooes', 'tattoos', 'taunts', 'taxis', 'teaches', 'tears', 'teases', 'teeters', 'telephones', 'tells', 'tempts', 'tends', 'tenses', 'terminates', 'terms', 'terrifies', 'testifies', 'tests', 'tethers', 'thanks', 'thaws', 'thinks', 'thins', 'thrashes', 'threads', 'threatens', 'thrills', 'throbs', 'throttles', 'throws', 'thrusts', 'thumbs', 'thumps', 'thunders', 'tickles', 'ticks off', 'tidies', 'ties', 'tightens', 'tilts', 'times', 'tings', 'tips', 'tiptoes', 'tires', 'toasts', 'tolerates', 'topples', 'tops', 'torments', 'tortures', 'tosses', 'totals', 'touches', 'towers', 'tows', 'toys with', 'traces', 'tracks', 'trades', 'trails', 'trains', 'tramples', 'transfers', 'transfixes', 'transforms', 'translates', 'transmits', 'transports', 'traps', 'trashes', 'travels', 'treads', 'treats', 'trembles', 'trickles', 'tricks', 'tries', 'triggers', 'trims', 'trips', 'trips on', 'trots', 'troubles', 'trudges', 'trusts', 'tucks', 'tugs', 'tumbles', 'tunes', 'turns', 'twinkles', 'twirls', 'twists', 'twitches', 'types', 'unbuckles', 'unbuttons', 'uncovers', 'underestimates', 'undergoes', 'undergos', 'underlies', 'undermines', 'underscores', 'understands', 'undertakes', 'undoes', 'undresses', 'undulates', 'unfolds', 'unhooks', 'unites', 'unleashes', 'unloads', 'unlocks', 'unnerves', 'unpacks', 'unravels', 'unrolls', 'unscrews', 'unties', 'unwraps', 'unzips', 'upholds', 'upsets', 'urges', 'uses', 'ushers', 'utters', 'values', 'vanishes', 'varies', 'vaults', 'veers', 'vents', 'ventures', 'verifies', 'vetoes', 'vetos', 'vibrates', 'views', 'violates', 'visits', 'voices', 'volunteers', 'votes', 'wads', 'wags', 'wails', 'waits', 'wakes', 'walks', 'walls', 'waltzes', 'wanders', 'wants', 'warms', 'warns', 'warrants', 'washes', 'wastes', 'watches', 'waters', 'wavers', 'waves', 'weakens', 'wears', 'weathers', 'weaves', 'wedges', 'weeps', 'weighs', 'welcomes', 'welds', 'wells', 'wets', 'whacks', 'wheels', 'wheezes', 'whimpers', 'whines', 'whips', 'whirls', 'whirs', 'whisks', 'whispers', 'whistles', 'whoops', 'widens', 'wields', 'wiggles', 'wills', 'winces', 'winds', 'winks', 'wins', 'wipes', 'wires', 'wishes', 'withdraws', 'withers', 'withholds', 'witnesses', 'wobbles', 'wonders', 'works', 'worries', 'worsens', 'worships', 'wounds', 'wracks', 'wraps', 'wrecks', 'wrenches', 'wrestles', 'wriggles', 'wrings', 'writes', 'writhes', 'yanks', 'yawns', 'yells', 'yelps', 'yields', 'zaps', 'zips', 'zooms', 'accepting', 'affectionate', 'agreeable', 'altruism', 'altruistic', 'attachment', 'belonging', 'benevolence', 'care-taking', 'caring', 'cheerful', 'civility', 'closeness', 'communal', 'communicative', 'compassion', 'compassionate', 'compromising', 'connected', 'connections', 'conscientious', 'considerate', 'consideration', 'cooperation', 'cooperative', 'dependable', 'dependency', 'dependent', 'duty', 'easygoing', 'enthusiastic', 'equality', 'fair', 'fair-minded', 'faithful', 'family-oriented', 'flexible', 'forgiveness', 'forgiving', 'friendliness', 'friendly', 'generous', 'gentle', 'good', 'good-natured', 'goodhearted', 'gracious', 'harmony', 'helpful', 'honest', 'honesty', 'hospitable', 'humble', 'humility', 'influence', 'interdependent', 'interpersonal', 'just', 'kind', 'love', 'loyal', 'loyalty', 'moral', 'nice', 'nurturance', 'nurturing', 'obliging', 'open-minded', 'optimistic', 'patient', 'pleasant', 'polite', 'politeness', 'popular', 'reasonable', 'reliable', 'respectful', 'self-sacrificing', 'selfless', 'sensitivity', 'sincere', 'sociable', 'social', 'supportive', 'sympathetic', 'talkative', 'team-player', 'thoughtful', 'tolerant', 'trust', 'trusting', 'trustworthy', 'truthful', 'understanding', 'universalism', 'warm', 'warmth', 'welcoming', 'well-mannered', 'wise', 'achievement', 'active', 'adamant', 'aggressive', 'ambition', 'ambitious', 'analytical', 'assert', 'assertive', 'assertiveness', 'assured', 'autonomous', 'autonomy', 'bold', 'bossy', 'brave', 'brilliant', 'capability', 'capable', 'clever', 'command', 'competence', 'competent', 'competitive', 'competitiveness', 'confidence', 'confident', 'convincing', 'creative', 'cunning', 'daring', 'decisive', 'determined', 'diligent', 'direct', 'dominant', 'dynamic', 'educated', 'effective', 'efficient', 'egocentrist', 'egoistic', 'energetic', 'exploration', 'fast', 'freedom', 'hardworking', 'imaginative', 'independence', 'independent', 'individual', 'individualistic', 'industrious', 'ingenious', 'insightful', 'intellectual', 'intelligent', 'knowledgeable', 'leader', 'logical', 'meticulous', 'organized', 'original', 'outspoken', 'perceptive', 'persistent', 'power', 'powerful', 'practical', 'proud', 'rational', 'realist', 'recognition', 'resilient', 'resourceful', 'self-assertion', 'self-confident', 'self-contained', 'self-control', 'self-direction', 'self-expansion', 'self-important', 'self-protection', 'self-reliant', 'self-sufficient', 'serious', 'sharp', 'skillful', 'skillfulness', 'smart', 'status', 'strong', 'strong-willed', 'superiority', 'tough', 'unique', 'unwavering', 'vigorous', 'well-disciplined', 'well-organized'] for the negative class is: 0.35466405749320984\n",
      "pred score of word ['pretty', 'woman', 'beautiful', 'kind', 'abandons', 'abolishes', 'absorbs', 'abuses', 'accelerates', 'accepts', 'accesses', 'accommodates', 'accompanies', 'accomplishes', 'accords', 'accounts', 'accumulates', 'accuses', 'aches', 'achieves', 'acknowledges', 'acquaints', 'acquires', 'acquits', 'activates', 'acts', 'adapts', 'addresses', 'adds', 'adjoins', 'adjusts', 'administers', 'admires', 'admits', 'adopts', 'adores', 'adorns', 'advances', 'advertises', 'advises', 'advocates', 'affects', 'affirms', 'affixes', 'affords', 'ages', 'aggravates', 'agonizes', 'agonizes over', 'agrees', 'agrees on', 'aids', 'aims', 'alarms', 'alerts', 'alleges', 'allows', 'alters', 'ambles', 'amends', 'amuses', 'analyzes', 'anchors', 'angers', 'angles', 'animates', 'announces', 'annoys', 'answers', 'anticipates', 'apologizes', 'apologizes to', 'appals', 'appeals', 'appeals to', 'appears', 'applauds', 'applies', 'applies to', 'appoints', 'appraises', 'appreciates', 'approaches', 'approves', 'arches', 'arcs', 'argues', 'arises', 'arms', 'arouses', 'arranges', 'arrests', 'arrives', 'ascends', 'asks', 'assails', 'assaults', 'assembles', 'asserts', 'assesses', 'assigns', 'assists', 'associates', 'assumes', 'assures', 'astonishes', 'attaches', 'attaches to', 'attacks', 'attempts', 'attends', 'attracts', 'attributes', 'authorizes', 'averts', 'avoids', 'awaits', 'awakens', 'awakes', 'awards', 'babbles', 'backhands', 'backs', 'baffles', 'bags', 'bails', 'bakes', 'balances', 'balds', 'balls', 'bandages', 'bangs', 'banks', 'bans', 'barks', 'barrels', 'bars', 'bases', 'bashes', 'baths', 'bats', 'batters', 'battles', 'bawls', 'beams', 'bears', 'beats', 'beckons', 'becomes', 'beeps', 'begins', 'begs', 'behaves', 'beholds', 'belches', 'believes', 'bellows', 'belongs to', 'belts', 'bends', 'benefits', 'besieges', 'betrays', 'bets', 'betters', 'bewilders', 'bids', 'billows', 'binds', 'bites', 'blackens', 'blackmails', 'blames', 'blanches', 'blares', 'blasts', 'blazes', 'bleaches', 'bleeds', 'blends', 'blesses', 'blinds', 'blinks', 'blocks', 'bloodies', 'blots', 'blows', 'blurs', 'blurts', 'blushes', 'boards', 'boasts', 'bobs', 'boils', 'bolts', 'bombs', 'bones', 'books', 'booms', 'boosts', 'boots', 'borders', 'bores', 'borrows', 'bothers', 'bounces', 'bounds', 'bowls', 'bows', 'bows to', 'boxes', 'braces', 'brakes', 'brandishes', 'breaks', 'breathes', 'breeds', 'briefs', 'brightens', 'brims', 'brings', 'bristles', 'broadcasts', 'broadens', 'broods', 'browses', 'bruises', 'brushes', 'bubbles', 'buckles up', 'bucks', 'budges', 'buffets', 'bugs', 'builds', 'bulges', 'bumps', 'bundles', 'buries', 'burns', 'burrows', 'bursts', 'bustles', 'busts', 'buttons', 'buys', 'buzzes', 'cages', 'cakes', 'calculates', 'calls', 'calms', 'camps', 'cancels', 'caps', 'captures', 'careens', 'cares', 'caresses', 'carries', 'carves', 'cascades', 'cashes', 'casts', 'catches', 'causes', 'cautions', 'caves', 'ceases', 'celebrates', 'centers', 'centers on', 'chains', 'chalks', 'challenges', 'changes', 'chants', 'characterizes', 'charges', 'charms', 'chars', 'chases', 'chats', 'chatters', 'cheats', 'checks', 'cheers', 'chews', 'chills', 'chimes', 'chips', 'chirps', 'chokes', 'chokes on', 'chooses', 'chops', 'chuckles', 'chucks', 'chugs', 'churns', 'circles', 'circulates', 'cites', 'claims', 'clambers', 'clamps', 'claps', 'clarifies', 'clasps', 'classifies', 'clatters', 'claws', 'cleans', 'cleanses', 'clears', 'clenches', 'clicks', 'climbs', 'clings to', 'clinks', 'clips', 'cloaks', 'clocks', 'clogs', 'closes', 'clothes', 'clouds', 'clusters', 'clutches', 'clutters', 'coats', 'coaxes', 'coils', 'collapses', 'collects', 'collides', 'collides with', 'colors', 'combines', 'combs', 'comes', 'comforts', 'commands', 'commemorates', 'commences', 'comments', 'commissions', 'commits', 'communicates', 'compares', 'compels', 'compensates', 'competes', 'compiles', 'complains', 'completes', 'complicates', 'complies', 'composes', 'comprehends', 'compromises', 'conceals', 'concedes', 'conceives', 'concentrates', 'concentrates on', 'concerns', 'concludes', 'condemns', 'conducts', 'confers', 'confesses', 'confines', 'confirms', 'confiscates', 'confronts', 'confuses', 'congratulates', 'connects', 'conquers', 'considers', 'consists of', 'consoles', 'constitutes', 'constructs', 'consults', 'consumes', 'contacts', 'contains', 'contaminates', 'contemplates', 'contests', 'continues', 'contorts', 'contracts', 'contradicts', 'contrasts', 'contributes', 'controls', 'convenes', 'converges', 'converses', 'converts', 'conveys', 'convicts', 'convinces', 'convulses', 'cooks', 'cools', 'cooperates', 'coordinates', 'copies', 'cops', 'corners', 'corrects', 'corresponds', 'corresponds with', 'costs', 'coughs', 'counters', 'counts', 'courses', 'courts', 'covers', 'cowers', 'crackles', 'cracks', 'cradles', 'crams', 'cranes', 'cranks', 'crashes', 'crawls', 'creaks', 'creates', 'credits', 'creeps', 'crests', 'cries', 'cringes', 'criticizes', 'crops', 'crosses', 'crosses out', 'crouches', 'crowds', 'crows', 'crucifies', 'cruises', 'crumbles', 'crumples', 'crunches', 'crushes', 'cuddles', 'cuffs', 'cultivates', 'cups', 'cures', 'curls', 'curses', 'curtains', 'curves', 'cuts', 'dabs', 'damages', 'dances', 'dangles', 'dares', 'darkens', 'darts', 'dashes', 'dates', 'dawns', 'dazzles', 'deafens', 'deals', 'debates', 'decapitates', 'decays', 'decides', 'decks', 'declares', 'declines', 'decorates', 'decreases', 'dedicates', 'deems', 'deepens', 'defeats', 'defends', 'defers', 'defers to', 'defies', 'defines', 'deflates', 'deflects', 'delays', 'delights', 'delivers', 'demands', 'demolishes', 'demonstrates', 'denies', 'denounces', 'dents', 'departs', 'depends', 'depends on', 'depicts', 'deploys', 'deposes', 'deposits', 'depresses', 'deprives', 'derives', 'descends', 'describes', 'deserts', 'deserves', 'designates', 'designs', 'desires', 'despises', 'destroys', 'detaches', 'detains', 'detects', 'determines', 'deters', 'detonates', 'devastates', 'develops', 'devises', 'devotes', 'devours', 'diagnoses', 'dials', 'dictates', 'dies', 'digests', 'digs', 'diminishes', 'dims', 'dips', 'directs', 'disagrees', 'disappears', 'disappoints', 'disapproves of', 'disarms', 'disbelieves', 'discards', 'discharges', 'discloses', 'disconnects', 'discourages', 'discovers', 'discusses', 'disengages', 'disguises', 'disgusts', 'dishevels', 'disintegrates', 'dislodges', 'dismantles', 'dismisses', 'dismounts', 'disorients', 'dispatches', 'dispenses', 'disperses', 'displaces', 'displays', 'disposes', 'disputes', 'disrupts', 'dissipates', 'dissolves', 'distinguishes', 'distorts', 'distracts', 'distributes', 'disturbs', 'ditches', 'diverts', 'dives', 'divides', 'divorces', 'docks', 'documents', 'dodges', 'does', 'dogs', 'dominates', 'donates', 'dons', 'dooms', 'dots', 'doubles', 'doubts', 'douses', 'downs', 'dozes', 'drafts', 'drags', 'drains', 'drapes', 'draws', 'dreads', 'dreams', 'drenches', 'dresses', 'dribbles', 'dries', 'drifts', 'drills', 'drinks', 'drips', 'drives', 'drools', 'droops', 'drops', 'drowns', 'drugs', 'drums', 'ducks', 'dumps', 'dusts', 'dwarfs', 'dwells', 'earns', 'eases', 'eats', 'echoes', 'echos', 'edges', 'edits', 'educates', 'ejects', 'elaborates', 'elbows', 'elects', 'elevates', 'eliminates', 'emanates', 'embarrasses', 'embeds', 'emblazons', 'embraces', 'embroiders', 'emerges', 'emits', 'emphasizes', 'employs', 'empties', 'enables', 'enacts', 'encases', 'encircles', 'encloses', 'encounters', 'encourages', 'endangers', 'endorses', 'ends', 'endures', 'enforces', 'engages', 'engraves', 'engrosses', 'engulfs', 'enhances', 'enjoys', 'enlists', 'enrages', 'enriches', 'ensures', 'enters', 'entertains', 'entitles', 'envelops', 'envies', 'envisions', 'equips', 'erases', 'erects', 'erodes', 'erupts', 'escalates', 'escapes', 'escorts', 'establishes', 'estimates', 'etches', 'evacuates', 'evades', 'evaluates', 'evolves', 'exaggerates', 'examines', 'exasperates', 'exceeds', 'exchanges', 'excites', 'excludes', 'excuses', 'executes', 'exercises', 'exerts', 'exhales', 'exhausts', 'exists', 'exits', 'expands', 'expects', 'expels', 'experiences', 'explains', 'explodes', 'exploits', 'explores', 'exposes', 'expresses', 'extends', 'extinguishes', 'extracts', 'eyeballs', 'eyes', 'faces', 'fades', 'fails', 'faints', 'fakes', 'fakes out', 'falls', 'falters', 'fancies', 'fans', 'farts', 'fascinates', 'fashions', 'fastens', 'fasts', 'favors', 'fears', 'features', 'feeds', 'feels', 'fees', 'feigns', 'fences', 'fends off', 'fetches', 'fiddles', 'fidgets', 'fights', 'figures', 'files', 'fills', 'films', 'filters', 'finances', 'finds', 'fingers', 'finishes', 'fires', 'fires at', 'fishes for', 'fishtails', 'fits', 'fixates on', 'fixes', 'flags', 'flails', 'flames', 'flanks', 'flaps', 'flares', 'flashes', 'flattens', 'flees', 'flexes', 'flickers', 'flicks', 'flies', 'flinches', 'flings', 'flips', 'flirts', 'floats', 'floods', 'floors', 'flops', 'flows', 'flushes', 'flutters', 'focuses', 'focuses on', 'folds', 'follows', 'fondles', 'fools', 'forbids', 'forces', 'forges', 'forgets', 'forgives', 'forms', 'fosters', 'founds', 'frames', 'freaks out', 'frees', 'freezes', 'fries', 'frightens', 'frisks', 'fronts', 'frowns', 'frustrates', 'fuels', 'fulfills', 'fulfils', 'fumbles', 'fumes', 'functions', 'furnishes', 'furrows', 'fusses over', 'gags', 'gags on', 'gains', 'gallops', 'gambles', 'gaps', 'gasps', 'gathers', 'gauges', 'gawks', 'gazes', 'generates', 'gestures', 'gets', 'giggles', 'gives', 'glances', 'glares', 'glazes', 'gleams', 'glides', 'glimpses', 'glints', 'glistens', 'glitters', 'glowers', 'glows', 'glues', 'gnaws', 'goes', 'gos', 'gouges', 'governs', 'grabs', 'graduates', 'grants', 'grapples with', 'grasps', 'grazes', 'greets', 'grieves', 'grills', 'grimaces', 'grinds', 'grins', 'grips', 'grits', 'groans', 'grooms', 'gropes', 'grounds', 'groups', 'growls', 'grows', 'grumbles', 'grunts', 'guarantees', 'guards', 'guesses', 'guides', 'gulps', 'gushes', 'gyrates', 'hacks', 'hails', 'halts', 'hammers', 'hampers', 'handcuffs', 'handles', 'hands', 'hangs', 'happens', 'harasses', 'hardens', 'harms', 'hates', 'hauls', 'haunts', 'haves', 'heads', 'heals', 'heaps', 'hears', 'heats', 'heaves', 'hefts', 'heightens', 'helps', 'herds', 'hesitates', 'hides', 'highlights', 'hikes', 'hires', 'hisses', 'hitches', 'hits', 'hobbles', 'hoists', 'holds', 'hollers', 'honks', 'honors', 'hooks', 'hopes', 'hops', 'horrifies', 'houses', 'hovers', 'howls', 'huddles', 'huffs', 'hugs', 'humiliates', 'hums', 'hunches', 'hunts', 'hurls', 'hurries', 'hurtles', 'hurts', 'hushes', 'hustles', 'hyperventilates', 'hypnotizes', 'ices', 'identifies', 'idles', 'ignites', 'ignores', 'illuminates', 'illustrates', 'imagines', 'imitates', 'immerses', 'immobilizes', 'impales', 'implements', 'implies', 'implores', 'imposes', 'impresses', 'improves', 'improvises', 'inches', 'includes', 'incorporates', 'increases', 'indicates', 'induces', 'indulges', 'infects', 'inflicts', 'influences', 'informs', 'inhales', 'inherits', 'initiates', 'injects', 'injures', 'inserts', 'insists', 'insists on', 'inspects', 'inspires', 'installs', 'instals', 'instructs', 'insults', 'insures', 'integrates', 'intends', 'intensifies', 'intercepts', 'interests', 'interferes', 'interprets', 'interrogates', 'interrupts', 'intersects', 'intervenes', 'interviews', 'intimidates', 'intrigues', 'introduces', 'intrudes', 'invades', 'invents', 'investigates', 'invests', 'invites', 'invokes', 'involves', 'irritates', 'isolates', 'issues', 'jabs', 'jams', 'jars', 'jiggles', 'jogs', 'joins', 'jokes', 'jolts', 'jostles', 'jots', 'judges', 'juggles', 'jumps', 'justifies', 'juts', 'keeps', 'keys', 'kicks', 'kidnaps', 'kids', 'kills', 'kisses', 'kneels', 'knits', 'knocks', 'knots', 'knows', 'labels', 'labors', 'laces', 'lacks', 'lags', 'lands', 'laps', 'lashes', 'lasts', 'latches', 'laughs', 'launches', 'lays', 'leads', 'leafs', 'leaks', 'leans', 'leaps', 'learns', 'leaves', 'lectures', 'leers', 'lends', 'lets', 'letters', 'levels', 'licks', 'lies', 'lies to', 'lifts', 'lightens', 'lights', 'likes', 'limits', 'limps', 'lines', 'lingers', 'links', 'listens', 'lists', 'litters', 'lives', 'lives on', 'loads', 'locates', 'locks', 'lodges', 'lolls', 'looks', 'looms', 'loops', 'loosens', 'looses', 'lops', 'loses', 'lounges', 'loves', 'lowers', 'lugs', 'lumbers', 'lunges', 'lurches', 'lures', 'lurks', 'magnifies', 'mails', 'maintains', 'makes', 'manages', 'mandates', 'maneuvers', 'mangles', 'manipulates', 'mans', 'manufactures', 'marches', 'marks', 'marries', 'marvels at', 'mashes', 'masks', 'massages', 'matches', 'materializes', 'mats', 'matters', 'means', 'measures', 'mediates', 'meets', 'melts', 'memorizes', 'mends', 'mentions', 'merges', 'mesmerizes', 'messes up', 'mills', 'mimes', 'mimics', 'minds', 'mingles', 'minimizes', 'mirrors', 'misses', 'mistakes', 'misunderstands', 'mixes', 'moans', 'mobilizes', 'mocks', 'modifies', 'monitors', 'mops', 'motions to', 'motivates', 'mounts', 'mourns', 'mouths', 'moves', 'moves on', 'mows', 'muffles', 'mugs', 'mulls', 'multiplies', 'mumbles', 'munches', 'murders', 'murmurs', 'musters', 'mutes', 'mutilates', 'mutters', 'nails', 'names', 'narrows', 'navigates', 'nears', 'needs', 'neglects', 'negotiates', 'nestles', 'nibbles', 'nods', 'nods to', 'nominates', 'noses', 'notes', 'notices', 'notifies', 'nudges', 'numbers', 'nurses', 'nuzzles', 'obeys', 'objects', 'objects to', 'obliges', 'obliterates', 'obscures', 'observes', 'obsesses over', 'obstructs', 'obtains', 'occupies', 'occurs', 'offends', 'offers', 'offers to', 'omits', 'oozes', 'opens', 'operates', 'opposes', 'orders', 'organizes', 'outlaws', 'outlines', 'overcomes', 'overflows', 'overhears', 'overlaps', 'overlooks', 'oversees', 'overtakes', 'overthrows', 'overturns', 'overwhelms', 'owes', 'owns', 'paces', 'packs', 'paddles', 'pads', 'pages', 'paints', 'pals', 'panics', 'pans', 'pants', 'paralyzes', 'pardons', 'parks', 'participates', 'parts', 'passes', 'pastes', 'patches', 'patrols', 'pats', 'pauses', 'paves', 'paws', 'pays', 'pecks', 'pedals', 'peddles', 'peeks', 'peels', 'peeps', 'peers', 'pees', 'pegs', 'pelts', 'penetrates', 'perceives', 'perches', 'perfects', 'performs', 'permits', 'perplexes', 'persuades', 'peruses', 'pets', 'phones', 'photographs', 'picks', 'pictures', 'pierces', 'piles', 'pinches', 'pins', 'pitches', 'pivots', 'places', 'plagues', 'plans', 'plants', 'plasters', 'plats', 'plays', 'pleads', 'pleases', 'pledges', 'plops', 'plows', 'plucks', 'plugs in', 'plummets', 'plunges', 'pockets', 'points at', 'poises', 'poisons', 'pokes', 'polishes', 'ponders', 'pops', 'portrays', 'poses', 'positions', 'possesses', 'postpones', 'posts', 'pounces', 'pounds', 'pours', 'powers', 'practices', 'praises', 'prays', 'prays to', 'preaches', 'precedes', 'predicts', 'prefers', 'preoccupies', 'prepares', 'prescribes', 'presents', 'preserves', 'presides', 'presses', 'presumes', 'pretends', 'prevails', 'prevents', 'pricks', 'pries', 'prints', 'probes', 'proceeds', 'processes', 'proclaims', 'prods', 'produces', 'programs', 'progresses', 'prohibits', 'projects', 'promises', 'promotes', 'prompts', 'pronounces', 'propels', 'proposes', 'props', 'prosecutes', 'protects', 'protests', 'protrudes', 'proves', 'provides', 'provokes', 'prowls', 'publishes', 'puffs', 'pulls', 'pulsates', 'pulses', 'pummels', 'pumps', 'punches', 'punctuates', 'punctures', 'punishes', 'purchases', 'purrs', 'pursues', 'pushes', 'puts', 'puzzles', 'qualifies', 'questions', 'quickens', 'quiets', 'quits', 'quivers', 'quotes', 'races', 'racks up', 'radiates', 'rags', 'raids', 'rails against', 'rains', 'raises', 'rakes', 'rambles', 'rams', 'ranges', 'ranks', 'rants', 'raps', 'ratifies', 'rats on', 'rattles', 'ravages', 'raves', 'reaches', 'reacts', 'reacts to', 'readies', 'reads', 'reaffirms', 'realises', 'realizes', 'reappears', 'rearranges', 'rears', 'reasons', 'reassures', 'rebuilds', 'recalls', 'recedes', 'receives', 'recites', 'reckons', 'reclines', 'recognises', 'recognizes', 'recoils', 'recommends', 'reconciles', 'reconsiders', 'records', 'recounts', 'recovers', 'recruits', 'reduces', 'reels', 'refers', 'refills', 'reflects', 'refuses', 'regains', 'regards', 'registers', 'regrets', 'regulates', 'rehearses', 'reinforces', 'reins', 'reiterates', 'rejects', 'rejoins', 'relates to', 'relaxes', 'releases', 'relents', 'relies', 'relieves', 'relishes', 'reloads', 'remains', 'remembers', 'reminds', 'removes', 'renders', 'rends', 'renews', 'renounces', 'rents', 'reopens', 'repairs', 'repays', 'repeats', 'replaces', 'replies', 'reports', 'represents', 'repulses', 'requests', 'requires', 'rescues', 'resembles', 'resents', 'reserves', 'resigns', 'resists', 'resolves', 'respects', 'responds', 'restores', 'restrains', 'restricts', 'rests', 'results', 'results in', 'resumes', 'retains', 'retires', 'retracts', 'retreats', 'retrieves', 'returns', 'reveals', 'reverberates', 'reverses', 'reviews', 'revises', 'revives', 'revolves', 'revolves around', 'revs', 'rewards', 'ricochets', 'riddles', 'rides', 'rids', 'rifles through', 'rights', 'rigs', 'rings', 'rinses', 'ripples', 'rips', 'rises', 'risks', 'rivets', 'rivets on', 'roams', 'roars', 'roasts', 'robs', 'rockets', 'rocks', 'rolls', 'roots', 'rotates', 'rots', 'rounds', 'rouses', 'rows', 'rubs', 'ruffles', 'ruins', 'rules', 'rumbles', 'rummages', 'runs', 'rushes', 'rustles', 'rusts', 'sacks', 'sacrifices', 'saddles', 'sags', 'sails', 'salutes', 'salvages', 'satisfies', 'saunters', 'saves', 'savors', 'saws', 'says', 'scales', 'scampers', 'scans', 'scares', 'scars', 'scatters', 'schedules', 'scoffs', 'scoops', 'scoots', 'scorches', 'scores', 'scours', 'scowls', 'scrambles', 'scrapes', 'scraps', 'scratches', 'scrawls', 'screams', 'screeches', 'screens', 'scribbles', 'scrolls', 'scrubs', 'scrunches', 'scrutinizes', 'scurries', 'scuttles', 'seals', 'searches', 'sears', 'seats', 'secures', 'seduces', 'seeks', 'seems', 'sees', 'seethes', 'seizes', 'selects', 'sells', 'sends', 'senses', 'sentences', 'separates', 'serves', 'sets', 'settles', 'severs', 'sews', 'shades', 'shadows', 'shakes', 'shapes', 'shares', 'sharpens', 'shatters', 'shaves', 'sheds', 'shells', 'shelters', 'shields', 'shifts', 'shimmers', 'shines', 'shins', 'ships', 'shivers', 'shocks', 'shooes', 'shoos', 'shoots', 'shops', 'shoulders', 'shouts', 'shovels', 'shoves', 'showers', 'shows', 'shreds', 'shrieks', 'shrinks', 'shrouds', 'shrugs', 'shudders', 'shuffles', 'shushes', 'shuts', 'sickens', 'sides', 'sidesteps', 'sidles up to', 'sifts', 'sighs', 'sights', 'signals', 'signs', 'silences', 'silhouettes', 'simmers', 'singles out', 'sings', 'sinks', 'sips', 'sits', 'situates', 'sizes', 'sizzles', 'skates', 'sketches', 'skids', 'skims', 'skins', 'skips', 'skitters', 'slams', 'slants', 'slaps', 'slashes', 'slaughters', 'slays', 'sleeps', 'slices', 'slicks', 'slides', 'slings', 'slinks', 'slips', 'slithers', 'slits', 'slops', 'sloshes', 'slouches', 'slows', 'slugs', 'slumps', 'slurps', 'slurs', 'smacks', 'smashes', 'smears', 'smells', 'smiles', 'smirks', 'smokes', 'smolders', 'smooths', 'smothers', 'snags', 'snaps', 'snarls at', 'snatches', 'sneaks', 'sneers', 'sneezes', 'snickers', 'sniffs', 'snips', 'snoops', 'snores', 'snorts', 'snows', 'snuggles', 'soaks', 'soars', 'sobers', 'sobs', 'softens', 'soils', 'solicits', 'solves', 'soothes', 'sorts', 'sounds', 'spaces', 'spans', 'spares', 'sparkles', 'sparks', 'spars', 'spatters', 'speaks', 'speaks to', 'specifies', 'speeds', 'speeds up', 'spells', 'spends', 'spews', 'spies', 'spikes', 'spills', 'spins', 'spirals', 'spits at', 'splashes', 'splatters', 'splinters', 'splits', 'spoils', 'sponsors', 'spooks', 'sports', 'spots', 'sprawls', 'sprays', 'spreads', 'springs', 'sprinkles', 'sprints', 'sprouts', 'spurs', 'sputters', 'squares', 'squashes', 'squats', 'squeaks', 'squeals', 'squeezes', 'squints', 'squirms', 'squirts', 'stabilizes', 'stabs', 'stacks', 'staggers', 'stains', 'stakes', 'stalks', 'stalls', 'stamps', 'stands', 'stares', 'stars', 'startles', 'starts', 'starves', 'stashes', 'states', 'stations', 'stays', 'steadies', 'steals', 'steams', 'steels', 'steers', 'stencils', 'steps', 'sticks', 'stiffens', 'stifles', 'stimulates', 'stings', 'stinks', 'stirs', 'stitches', 'stocks', 'stomps', 'stones', 'stoops', 'stops', 'stores', 'storms', 'stows', 'straddles', 'straightens', 'strains', 'strands', 'strangles', 'strangles on', 'straps', 'strays', 'streams', 'strengthens', 'stresses', 'stretches', 'strides', 'strikes', 'strings', 'strips', 'strokes', 'strolls', 'struggles', 'struts', 'stubs', 'studies', 'stuffs', 'stumbles', 'stuns', 'subdues', 'submerges', 'submits', 'subsides', 'subtitles', 'succeeds', 'sues', 'suffers', 'suffocates', 'suggests', 'sulks', 'summons', 'superimposes', 'supervises', 'supplies', 'supports', 'supposes', 'suppresses', 'surfaces', 'surfs', 'surges', 'surprises', 'surrenders', 'surrounds', 'surveys', 'survives', 'survives on', 'suspects', 'suspends', 'sustains', 'swallows', 'swaps', 'swarms', 'swats', 'sways', 'swears', 'sweats', 'sweeps', 'swells', 'swerves', 'swigs', 'swims', 'swings', 'swipes', 'swirls', 'switches', 'swivels', 'swoops', 'tackles', 'tacks', 'tags', 'tailors', 'tails', 'takes', 'talks', 'talks to', 'tangles', 'taps', 'targets', 'tastes', 'tattooes', 'tattoos', 'taunts', 'taxis', 'teaches', 'tears', 'teases', 'teeters', 'telephones', 'tells', 'tempts', 'tends', 'tenses', 'terminates', 'terms', 'terrifies', 'testifies', 'tests', 'tethers', 'thanks', 'thaws', 'thinks', 'thins', 'thrashes', 'threads', 'threatens', 'thrills', 'throbs', 'throttles', 'throws', 'thrusts', 'thumbs', 'thumps', 'thunders', 'tickles', 'ticks off', 'tidies', 'ties', 'tightens', 'tilts', 'times', 'tings', 'tips', 'tiptoes', 'tires', 'toasts', 'tolerates', 'topples', 'tops', 'torments', 'tortures', 'tosses', 'totals', 'touches', 'towers', 'tows', 'toys with', 'traces', 'tracks', 'trades', 'trails', 'trains', 'tramples', 'transfers', 'transfixes', 'transforms', 'translates', 'transmits', 'transports', 'traps', 'trashes', 'travels', 'treads', 'treats', 'trembles', 'trickles', 'tricks', 'tries', 'triggers', 'trims', 'trips', 'trips on', 'trots', 'troubles', 'trudges', 'trusts', 'tucks', 'tugs', 'tumbles', 'tunes', 'turns', 'twinkles', 'twirls', 'twists', 'twitches', 'types', 'unbuckles', 'unbuttons', 'uncovers', 'underestimates', 'undergoes', 'undergos', 'underlies', 'undermines', 'underscores', 'understands', 'undertakes', 'undoes', 'undresses', 'undulates', 'unfolds', 'unhooks', 'unites', 'unleashes', 'unloads', 'unlocks', 'unnerves', 'unpacks', 'unravels', 'unrolls', 'unscrews', 'unties', 'unwraps', 'unzips', 'upholds', 'upsets', 'urges', 'uses', 'ushers', 'utters', 'values', 'vanishes', 'varies', 'vaults', 'veers', 'vents', 'ventures', 'verifies', 'vetoes', 'vetos', 'vibrates', 'views', 'violates', 'visits', 'voices', 'volunteers', 'votes', 'wads', 'wags', 'wails', 'waits', 'wakes', 'walks', 'walls', 'waltzes', 'wanders', 'wants', 'warms', 'warns', 'warrants', 'washes', 'wastes', 'watches', 'waters', 'wavers', 'waves', 'weakens', 'wears', 'weathers', 'weaves', 'wedges', 'weeps', 'weighs', 'welcomes', 'welds', 'wells', 'wets', 'whacks', 'wheels', 'wheezes', 'whimpers', 'whines', 'whips', 'whirls', 'whirs', 'whisks', 'whispers', 'whistles', 'whoops', 'widens', 'wields', 'wiggles', 'wills', 'winces', 'winds', 'winks', 'wins', 'wipes', 'wires', 'wishes', 'withdraws', 'withers', 'withholds', 'witnesses', 'wobbles', 'wonders', 'works', 'worries', 'worsens', 'worships', 'wounds', 'wracks', 'wraps', 'wrecks', 'wrenches', 'wrestles', 'wriggles', 'wrings', 'writes', 'writhes', 'yanks', 'yawns', 'yells', 'yelps', 'yields', 'zaps', 'zips', 'zooms', 'accepting', 'affectionate', 'agreeable', 'altruism', 'altruistic', 'attachment', 'belonging', 'benevolence', 'care-taking', 'caring', 'cheerful', 'civility', 'closeness', 'communal', 'communicative', 'compassion', 'compassionate', 'compromising', 'connected', 'connections', 'conscientious', 'considerate', 'consideration', 'cooperation', 'cooperative', 'dependable', 'dependency', 'dependent', 'duty', 'easygoing', 'enthusiastic', 'equality', 'fair', 'fair-minded', 'faithful', 'family-oriented', 'flexible', 'forgiveness', 'forgiving', 'friendliness', 'friendly', 'generous', 'gentle', 'good', 'good-natured', 'goodhearted', 'gracious', 'harmony', 'helpful', 'honest', 'honesty', 'hospitable', 'humble', 'humility', 'influence', 'interdependent', 'interpersonal', 'just', 'kind', 'love', 'loyal', 'loyalty', 'moral', 'nice', 'nurturance', 'nurturing', 'obliging', 'open-minded', 'optimistic', 'patient', 'pleasant', 'polite', 'politeness', 'popular', 'reasonable', 'reliable', 'respectful', 'self-sacrificing', 'selfless', 'sensitivity', 'sincere', 'sociable', 'social', 'supportive', 'sympathetic', 'talkative', 'team-player', 'thoughtful', 'tolerant', 'trust', 'trusting', 'trustworthy', 'truthful', 'understanding', 'universalism', 'warm', 'warmth', 'welcoming', 'well-mannered', 'wise', 'achievement', 'active', 'adamant', 'aggressive', 'ambition', 'ambitious', 'analytical', 'assert', 'assertive', 'assertiveness', 'assured', 'autonomous', 'autonomy', 'bold', 'bossy', 'brave', 'brilliant', 'capability', 'capable', 'clever', 'command', 'competence', 'competent', 'competitive', 'competitiveness', 'confidence', 'confident', 'convincing', 'creative', 'cunning', 'daring', 'decisive', 'determined', 'diligent', 'direct', 'dominant', 'dynamic', 'educated', 'effective', 'efficient', 'egocentrist', 'egoistic', 'energetic', 'exploration', 'fast', 'freedom', 'hardworking', 'imaginative', 'independence', 'independent', 'individual', 'individualistic', 'industrious', 'ingenious', 'insightful', 'intellectual', 'intelligent', 'knowledgeable', 'leader', 'logical', 'meticulous', 'organized', 'original', 'outspoken', 'perceptive', 'persistent', 'power', 'powerful', 'practical', 'proud', 'rational', 'realist', 'recognition', 'resilient', 'resourceful', 'self-assertion', 'self-confident', 'self-contained', 'self-control', 'self-direction', 'self-expansion', 'self-important', 'self-protection', 'self-reliant', 'self-sufficient', 'serious', 'sharp', 'skillful', 'skillfulness', 'smart', 'status', 'strong', 'strong-willed', 'superiority', 'tough', 'unique', 'unwavering', 'vigorous', 'well-disciplined', 'well-organized'] for the positive class is: -0.3537209630012512\n"
     ]
    }
   ],
   "source": [
    "#print the predictions\n",
    "print(\"pred score of word {} for the negative class is: {}\".format(X_new, y_pred[1, 0]))\n",
    "print(\"pred score of word {} for the positive class is: {}\".format(X_new, y_pred[1, 1]))  "
   ]
  },
  {
   "cell_type": "code",
   "execution_count": 41,
   "metadata": {},
   "outputs": [],
   "source": [
    "X = pd.DataFrame(word_predict)\n",
    "Y = pd.DataFrame(y_pred)"
   ]
  },
  {
   "cell_type": "code",
   "execution_count": 42,
   "metadata": {},
   "outputs": [],
   "source": [
    "result = pd.concat([X, Y], axis=1)"
   ]
  },
  {
   "cell_type": "code",
   "execution_count": 43,
   "metadata": {},
   "outputs": [
    {
     "data": {
      "text/html": [
       "<div>\n",
       "<style scoped>\n",
       "    .dataframe tbody tr th:only-of-type {\n",
       "        vertical-align: middle;\n",
       "    }\n",
       "\n",
       "    .dataframe tbody tr th {\n",
       "        vertical-align: top;\n",
       "    }\n",
       "\n",
       "    .dataframe thead th {\n",
       "        text-align: right;\n",
       "    }\n",
       "</style>\n",
       "<table border=\"1\" class=\"dataframe\">\n",
       "  <thead>\n",
       "    <tr style=\"text-align: right;\">\n",
       "      <th></th>\n",
       "      <th>0</th>\n",
       "      <th>0</th>\n",
       "      <th>1</th>\n",
       "    </tr>\n",
       "  </thead>\n",
       "  <tbody>\n",
       "    <tr>\n",
       "      <th>0</th>\n",
       "      <td>pretty</td>\n",
       "      <td>0.122224</td>\n",
       "      <td>-0.121612</td>\n",
       "    </tr>\n",
       "    <tr>\n",
       "      <th>1</th>\n",
       "      <td>woman</td>\n",
       "      <td>0.354664</td>\n",
       "      <td>-0.353721</td>\n",
       "    </tr>\n",
       "    <tr>\n",
       "      <th>2</th>\n",
       "      <td>beautiful</td>\n",
       "      <td>-0.366656</td>\n",
       "      <td>0.447960</td>\n",
       "    </tr>\n",
       "    <tr>\n",
       "      <th>3</th>\n",
       "      <td>kind</td>\n",
       "      <td>0.018427</td>\n",
       "      <td>-0.010511</td>\n",
       "    </tr>\n",
       "    <tr>\n",
       "      <th>4</th>\n",
       "      <td>abandons</td>\n",
       "      <td>0.354664</td>\n",
       "      <td>-0.353721</td>\n",
       "    </tr>\n",
       "    <tr>\n",
       "      <th>...</th>\n",
       "      <td>...</td>\n",
       "      <td>...</td>\n",
       "      <td>...</td>\n",
       "    </tr>\n",
       "    <tr>\n",
       "      <th>2354</th>\n",
       "      <td>unique</td>\n",
       "      <td>0.366317</td>\n",
       "      <td>-0.357272</td>\n",
       "    </tr>\n",
       "    <tr>\n",
       "      <th>2355</th>\n",
       "      <td>unwavering</td>\n",
       "      <td>0.235628</td>\n",
       "      <td>-0.196230</td>\n",
       "    </tr>\n",
       "    <tr>\n",
       "      <th>2356</th>\n",
       "      <td>vigorous</td>\n",
       "      <td>1.133038</td>\n",
       "      <td>-1.116968</td>\n",
       "    </tr>\n",
       "    <tr>\n",
       "      <th>2357</th>\n",
       "      <td>well-disciplined</td>\n",
       "      <td>0.354664</td>\n",
       "      <td>-0.353721</td>\n",
       "    </tr>\n",
       "    <tr>\n",
       "      <th>2358</th>\n",
       "      <td>well-organized</td>\n",
       "      <td>0.354664</td>\n",
       "      <td>-0.353721</td>\n",
       "    </tr>\n",
       "  </tbody>\n",
       "</table>\n",
       "<p>2359 rows × 3 columns</p>\n",
       "</div>"
      ],
      "text/plain": [
       "                     0         0         1\n",
       "0               pretty  0.122224 -0.121612\n",
       "1                woman  0.354664 -0.353721\n",
       "2            beautiful -0.366656  0.447960\n",
       "3                 kind  0.018427 -0.010511\n",
       "4             abandons  0.354664 -0.353721\n",
       "...                ...       ...       ...\n",
       "2354            unique  0.366317 -0.357272\n",
       "2355        unwavering  0.235628 -0.196230\n",
       "2356          vigorous  1.133038 -1.116968\n",
       "2357  well-disciplined  0.354664 -0.353721\n",
       "2358    well-organized  0.354664 -0.353721\n",
       "\n",
       "[2359 rows x 3 columns]"
      ]
     },
     "execution_count": 43,
     "metadata": {},
     "output_type": "execute_result"
    }
   ],
   "source": [
    "result\n",
    "#danielle add the violence words from the Grievence Dictionary and label where all the words are coming from."
   ]
  },
  {
   "attachments": {},
   "cell_type": "markdown",
   "metadata": {},
   "source": [
    "**Performance Evaluation**"
   ]
  },
  {
   "cell_type": "code",
   "execution_count": 7,
   "metadata": {},
   "outputs": [],
   "source": [
    "def plot_graphs(fitted_model, metric):\n",
    "  plt.plot(fitted_model.history[metric])\n",
    "  plt.plot(fitted_model.history['val_'+metric], '')\n",
    "  plt.xlabel(\"Epochs\")\n",
    "  plt.ylabel(metric)\n",
    "  plt.legend([metric, 'val_'+metric])"
   ]
  },
  {
   "cell_type": "code",
   "execution_count": 24,
   "metadata": {},
   "outputs": [
    {
     "name": "stdout",
     "output_type": "stream",
     "text": [
      "Epoch 1/3\n",
      "   1/5770 [..............................] - ETA: 10:03:30 - loss: 0.2865 - accuracy: 0.8750"
     ]
    },
    {
     "ename": "KeyboardInterrupt",
     "evalue": "",
     "output_type": "error",
     "traceback": [
      "\u001b[0;31m---------------------------------------------------------------------------\u001b[0m",
      "\u001b[0;31mKeyboardInterrupt\u001b[0m                         Traceback (most recent call last)",
      "\u001b[0;32m/var/folders/g0/r571pkwj6973dlq1m_v76wp40000gn/T/ipykernel_6336/3813306180.py\u001b[0m in \u001b[0;36m<module>\u001b[0;34m\u001b[0m\n\u001b[1;32m      1\u001b[0m \u001b[0mplt\u001b[0m\u001b[0;34m.\u001b[0m\u001b[0mfigure\u001b[0m\u001b[0;34m(\u001b[0m\u001b[0mfigsize\u001b[0m\u001b[0;34m=\u001b[0m\u001b[0;34m(\u001b[0m\u001b[0;36m8\u001b[0m\u001b[0;34m,\u001b[0m \u001b[0;36m4\u001b[0m\u001b[0;34m)\u001b[0m\u001b[0;34m)\u001b[0m\u001b[0;34m\u001b[0m\u001b[0;34m\u001b[0m\u001b[0m\n\u001b[1;32m      2\u001b[0m \u001b[0mplt\u001b[0m\u001b[0;34m.\u001b[0m\u001b[0msubplot\u001b[0m\u001b[0;34m(\u001b[0m\u001b[0;36m1\u001b[0m\u001b[0;34m,\u001b[0m \u001b[0;36m2\u001b[0m\u001b[0;34m,\u001b[0m \u001b[0;36m1\u001b[0m\u001b[0;34m)\u001b[0m\u001b[0;34m\u001b[0m\u001b[0;34m\u001b[0m\u001b[0m\n\u001b[0;32m----> 3\u001b[0;31m plot_graphs(loaded_model.fit(train_dataset, epochs=3,\n\u001b[0m\u001b[1;32m      4\u001b[0m                     validation_data=test_dataset), 'accuracy')\n\u001b[1;32m      5\u001b[0m \u001b[0mplt\u001b[0m\u001b[0;34m.\u001b[0m\u001b[0mylim\u001b[0m\u001b[0;34m(\u001b[0m\u001b[0;32mNone\u001b[0m\u001b[0;34m,\u001b[0m \u001b[0;36m1\u001b[0m\u001b[0;34m)\u001b[0m\u001b[0;34m\u001b[0m\u001b[0;34m\u001b[0m\u001b[0m\n",
      "\u001b[0;32m~/opt/anaconda3/lib/python3.9/site-packages/keras/utils/traceback_utils.py\u001b[0m in \u001b[0;36merror_handler\u001b[0;34m(*args, **kwargs)\u001b[0m\n\u001b[1;32m     63\u001b[0m         \u001b[0mfiltered_tb\u001b[0m \u001b[0;34m=\u001b[0m \u001b[0;32mNone\u001b[0m\u001b[0;34m\u001b[0m\u001b[0;34m\u001b[0m\u001b[0m\n\u001b[1;32m     64\u001b[0m         \u001b[0;32mtry\u001b[0m\u001b[0;34m:\u001b[0m\u001b[0;34m\u001b[0m\u001b[0;34m\u001b[0m\u001b[0m\n\u001b[0;32m---> 65\u001b[0;31m             \u001b[0;32mreturn\u001b[0m \u001b[0mfn\u001b[0m\u001b[0;34m(\u001b[0m\u001b[0;34m*\u001b[0m\u001b[0margs\u001b[0m\u001b[0;34m,\u001b[0m \u001b[0;34m**\u001b[0m\u001b[0mkwargs\u001b[0m\u001b[0;34m)\u001b[0m\u001b[0;34m\u001b[0m\u001b[0;34m\u001b[0m\u001b[0m\n\u001b[0m\u001b[1;32m     66\u001b[0m         \u001b[0;32mexcept\u001b[0m \u001b[0mException\u001b[0m \u001b[0;32mas\u001b[0m \u001b[0me\u001b[0m\u001b[0;34m:\u001b[0m\u001b[0;34m\u001b[0m\u001b[0;34m\u001b[0m\u001b[0m\n\u001b[1;32m     67\u001b[0m             \u001b[0mfiltered_tb\u001b[0m \u001b[0;34m=\u001b[0m \u001b[0m_process_traceback_frames\u001b[0m\u001b[0;34m(\u001b[0m\u001b[0me\u001b[0m\u001b[0;34m.\u001b[0m\u001b[0m__traceback__\u001b[0m\u001b[0;34m)\u001b[0m\u001b[0;34m\u001b[0m\u001b[0;34m\u001b[0m\u001b[0m\n",
      "\u001b[0;32m~/opt/anaconda3/lib/python3.9/site-packages/keras/engine/training.py\u001b[0m in \u001b[0;36mfit\u001b[0;34m(self, x, y, batch_size, epochs, verbose, callbacks, validation_split, validation_data, shuffle, class_weight, sample_weight, initial_epoch, steps_per_epoch, validation_steps, validation_batch_size, validation_freq, max_queue_size, workers, use_multiprocessing)\u001b[0m\n\u001b[1;32m   1562\u001b[0m                         ):\n\u001b[1;32m   1563\u001b[0m                             \u001b[0mcallbacks\u001b[0m\u001b[0;34m.\u001b[0m\u001b[0mon_train_batch_begin\u001b[0m\u001b[0;34m(\u001b[0m\u001b[0mstep\u001b[0m\u001b[0;34m)\u001b[0m\u001b[0;34m\u001b[0m\u001b[0;34m\u001b[0m\u001b[0m\n\u001b[0;32m-> 1564\u001b[0;31m                             \u001b[0mtmp_logs\u001b[0m \u001b[0;34m=\u001b[0m \u001b[0mself\u001b[0m\u001b[0;34m.\u001b[0m\u001b[0mtrain_function\u001b[0m\u001b[0;34m(\u001b[0m\u001b[0miterator\u001b[0m\u001b[0;34m)\u001b[0m\u001b[0;34m\u001b[0m\u001b[0;34m\u001b[0m\u001b[0m\n\u001b[0m\u001b[1;32m   1565\u001b[0m                             \u001b[0;32mif\u001b[0m \u001b[0mdata_handler\u001b[0m\u001b[0;34m.\u001b[0m\u001b[0mshould_sync\u001b[0m\u001b[0;34m:\u001b[0m\u001b[0;34m\u001b[0m\u001b[0;34m\u001b[0m\u001b[0m\n\u001b[1;32m   1566\u001b[0m                                 \u001b[0mcontext\u001b[0m\u001b[0;34m.\u001b[0m\u001b[0masync_wait\u001b[0m\u001b[0;34m(\u001b[0m\u001b[0;34m)\u001b[0m\u001b[0;34m\u001b[0m\u001b[0;34m\u001b[0m\u001b[0m\n",
      "\u001b[0;32m~/opt/anaconda3/lib/python3.9/site-packages/tensorflow/python/util/traceback_utils.py\u001b[0m in \u001b[0;36merror_handler\u001b[0;34m(*args, **kwargs)\u001b[0m\n\u001b[1;32m    148\u001b[0m     \u001b[0mfiltered_tb\u001b[0m \u001b[0;34m=\u001b[0m \u001b[0;32mNone\u001b[0m\u001b[0;34m\u001b[0m\u001b[0;34m\u001b[0m\u001b[0m\n\u001b[1;32m    149\u001b[0m     \u001b[0;32mtry\u001b[0m\u001b[0;34m:\u001b[0m\u001b[0;34m\u001b[0m\u001b[0;34m\u001b[0m\u001b[0m\n\u001b[0;32m--> 150\u001b[0;31m       \u001b[0;32mreturn\u001b[0m \u001b[0mfn\u001b[0m\u001b[0;34m(\u001b[0m\u001b[0;34m*\u001b[0m\u001b[0margs\u001b[0m\u001b[0;34m,\u001b[0m \u001b[0;34m**\u001b[0m\u001b[0mkwargs\u001b[0m\u001b[0;34m)\u001b[0m\u001b[0;34m\u001b[0m\u001b[0;34m\u001b[0m\u001b[0m\n\u001b[0m\u001b[1;32m    151\u001b[0m     \u001b[0;32mexcept\u001b[0m \u001b[0mException\u001b[0m \u001b[0;32mas\u001b[0m \u001b[0me\u001b[0m\u001b[0;34m:\u001b[0m\u001b[0;34m\u001b[0m\u001b[0;34m\u001b[0m\u001b[0m\n\u001b[1;32m    152\u001b[0m       \u001b[0mfiltered_tb\u001b[0m \u001b[0;34m=\u001b[0m \u001b[0m_process_traceback_frames\u001b[0m\u001b[0;34m(\u001b[0m\u001b[0me\u001b[0m\u001b[0;34m.\u001b[0m\u001b[0m__traceback__\u001b[0m\u001b[0;34m)\u001b[0m\u001b[0;34m\u001b[0m\u001b[0;34m\u001b[0m\u001b[0m\n",
      "\u001b[0;32m~/opt/anaconda3/lib/python3.9/site-packages/tensorflow/python/eager/def_function.py\u001b[0m in \u001b[0;36m__call__\u001b[0;34m(self, *args, **kwds)\u001b[0m\n\u001b[1;32m    913\u001b[0m \u001b[0;34m\u001b[0m\u001b[0m\n\u001b[1;32m    914\u001b[0m       \u001b[0;32mwith\u001b[0m \u001b[0mOptionalXlaContext\u001b[0m\u001b[0;34m(\u001b[0m\u001b[0mself\u001b[0m\u001b[0;34m.\u001b[0m\u001b[0m_jit_compile\u001b[0m\u001b[0;34m)\u001b[0m\u001b[0;34m:\u001b[0m\u001b[0;34m\u001b[0m\u001b[0;34m\u001b[0m\u001b[0m\n\u001b[0;32m--> 915\u001b[0;31m         \u001b[0mresult\u001b[0m \u001b[0;34m=\u001b[0m \u001b[0mself\u001b[0m\u001b[0;34m.\u001b[0m\u001b[0m_call\u001b[0m\u001b[0;34m(\u001b[0m\u001b[0;34m*\u001b[0m\u001b[0margs\u001b[0m\u001b[0;34m,\u001b[0m \u001b[0;34m**\u001b[0m\u001b[0mkwds\u001b[0m\u001b[0;34m)\u001b[0m\u001b[0;34m\u001b[0m\u001b[0;34m\u001b[0m\u001b[0m\n\u001b[0m\u001b[1;32m    916\u001b[0m \u001b[0;34m\u001b[0m\u001b[0m\n\u001b[1;32m    917\u001b[0m       \u001b[0mnew_tracing_count\u001b[0m \u001b[0;34m=\u001b[0m \u001b[0mself\u001b[0m\u001b[0;34m.\u001b[0m\u001b[0mexperimental_get_tracing_count\u001b[0m\u001b[0;34m(\u001b[0m\u001b[0;34m)\u001b[0m\u001b[0;34m\u001b[0m\u001b[0;34m\u001b[0m\u001b[0m\n",
      "\u001b[0;32m~/opt/anaconda3/lib/python3.9/site-packages/tensorflow/python/eager/def_function.py\u001b[0m in \u001b[0;36m_call\u001b[0;34m(self, *args, **kwds)\u001b[0m\n\u001b[1;32m    945\u001b[0m       \u001b[0;31m# In this case we have created variables on the first call, so we run the\u001b[0m\u001b[0;34m\u001b[0m\u001b[0;34m\u001b[0m\u001b[0m\n\u001b[1;32m    946\u001b[0m       \u001b[0;31m# defunned version which is guaranteed to never create variables.\u001b[0m\u001b[0;34m\u001b[0m\u001b[0;34m\u001b[0m\u001b[0m\n\u001b[0;32m--> 947\u001b[0;31m       \u001b[0;32mreturn\u001b[0m \u001b[0mself\u001b[0m\u001b[0;34m.\u001b[0m\u001b[0m_stateless_fn\u001b[0m\u001b[0;34m(\u001b[0m\u001b[0;34m*\u001b[0m\u001b[0margs\u001b[0m\u001b[0;34m,\u001b[0m \u001b[0;34m**\u001b[0m\u001b[0mkwds\u001b[0m\u001b[0;34m)\u001b[0m  \u001b[0;31m# pylint: disable=not-callable\u001b[0m\u001b[0;34m\u001b[0m\u001b[0;34m\u001b[0m\u001b[0m\n\u001b[0m\u001b[1;32m    948\u001b[0m     \u001b[0;32melif\u001b[0m \u001b[0mself\u001b[0m\u001b[0;34m.\u001b[0m\u001b[0m_stateful_fn\u001b[0m \u001b[0;32mis\u001b[0m \u001b[0;32mnot\u001b[0m \u001b[0;32mNone\u001b[0m\u001b[0;34m:\u001b[0m\u001b[0;34m\u001b[0m\u001b[0;34m\u001b[0m\u001b[0m\n\u001b[1;32m    949\u001b[0m       \u001b[0;31m# Release the lock early so that multiple threads can perform the call\u001b[0m\u001b[0;34m\u001b[0m\u001b[0;34m\u001b[0m\u001b[0m\n",
      "\u001b[0;32m~/opt/anaconda3/lib/python3.9/site-packages/tensorflow/python/eager/function.py\u001b[0m in \u001b[0;36m__call__\u001b[0;34m(self, *args, **kwargs)\u001b[0m\n\u001b[1;32m   2494\u001b[0m       (graph_function,\n\u001b[1;32m   2495\u001b[0m        filtered_flat_args) = self._maybe_define_function(args, kwargs)\n\u001b[0;32m-> 2496\u001b[0;31m     return graph_function._call_flat(\n\u001b[0m\u001b[1;32m   2497\u001b[0m         filtered_flat_args, captured_inputs=graph_function.captured_inputs)  # pylint: disable=protected-access\n\u001b[1;32m   2498\u001b[0m \u001b[0;34m\u001b[0m\u001b[0m\n",
      "\u001b[0;32m~/opt/anaconda3/lib/python3.9/site-packages/tensorflow/python/eager/function.py\u001b[0m in \u001b[0;36m_call_flat\u001b[0;34m(self, args, captured_inputs, cancellation_manager)\u001b[0m\n\u001b[1;32m   1860\u001b[0m         and executing_eagerly):\n\u001b[1;32m   1861\u001b[0m       \u001b[0;31m# No tape is watching; skip to running the function.\u001b[0m\u001b[0;34m\u001b[0m\u001b[0;34m\u001b[0m\u001b[0m\n\u001b[0;32m-> 1862\u001b[0;31m       return self._build_call_outputs(self._inference_function.call(\n\u001b[0m\u001b[1;32m   1863\u001b[0m           ctx, args, cancellation_manager=cancellation_manager))\n\u001b[1;32m   1864\u001b[0m     forward_backward = self._select_forward_and_backward_functions(\n",
      "\u001b[0;32m~/opt/anaconda3/lib/python3.9/site-packages/tensorflow/python/eager/function.py\u001b[0m in \u001b[0;36mcall\u001b[0;34m(self, ctx, args, cancellation_manager)\u001b[0m\n\u001b[1;32m    497\u001b[0m       \u001b[0;32mwith\u001b[0m \u001b[0m_InterpolateFunctionError\u001b[0m\u001b[0;34m(\u001b[0m\u001b[0mself\u001b[0m\u001b[0;34m)\u001b[0m\u001b[0;34m:\u001b[0m\u001b[0;34m\u001b[0m\u001b[0;34m\u001b[0m\u001b[0m\n\u001b[1;32m    498\u001b[0m         \u001b[0;32mif\u001b[0m \u001b[0mcancellation_manager\u001b[0m \u001b[0;32mis\u001b[0m \u001b[0;32mNone\u001b[0m\u001b[0;34m:\u001b[0m\u001b[0;34m\u001b[0m\u001b[0;34m\u001b[0m\u001b[0m\n\u001b[0;32m--> 499\u001b[0;31m           outputs = execute.execute(\n\u001b[0m\u001b[1;32m    500\u001b[0m               \u001b[0mstr\u001b[0m\u001b[0;34m(\u001b[0m\u001b[0mself\u001b[0m\u001b[0;34m.\u001b[0m\u001b[0msignature\u001b[0m\u001b[0;34m.\u001b[0m\u001b[0mname\u001b[0m\u001b[0;34m)\u001b[0m\u001b[0;34m,\u001b[0m\u001b[0;34m\u001b[0m\u001b[0;34m\u001b[0m\u001b[0m\n\u001b[1;32m    501\u001b[0m               \u001b[0mnum_outputs\u001b[0m\u001b[0;34m=\u001b[0m\u001b[0mself\u001b[0m\u001b[0;34m.\u001b[0m\u001b[0m_num_outputs\u001b[0m\u001b[0;34m,\u001b[0m\u001b[0;34m\u001b[0m\u001b[0;34m\u001b[0m\u001b[0m\n",
      "\u001b[0;32m~/opt/anaconda3/lib/python3.9/site-packages/tensorflow/python/eager/execute.py\u001b[0m in \u001b[0;36mquick_execute\u001b[0;34m(op_name, num_outputs, inputs, attrs, ctx, name)\u001b[0m\n\u001b[1;32m     52\u001b[0m   \u001b[0;32mtry\u001b[0m\u001b[0;34m:\u001b[0m\u001b[0;34m\u001b[0m\u001b[0;34m\u001b[0m\u001b[0m\n\u001b[1;32m     53\u001b[0m     \u001b[0mctx\u001b[0m\u001b[0;34m.\u001b[0m\u001b[0mensure_initialized\u001b[0m\u001b[0;34m(\u001b[0m\u001b[0;34m)\u001b[0m\u001b[0;34m\u001b[0m\u001b[0;34m\u001b[0m\u001b[0m\n\u001b[0;32m---> 54\u001b[0;31m     tensors = pywrap_tfe.TFE_Py_Execute(ctx._handle, device_name, op_name,\n\u001b[0m\u001b[1;32m     55\u001b[0m                                         inputs, attrs, num_outputs)\n\u001b[1;32m     56\u001b[0m   \u001b[0;32mexcept\u001b[0m \u001b[0mcore\u001b[0m\u001b[0;34m.\u001b[0m\u001b[0m_NotOkStatusException\u001b[0m \u001b[0;32mas\u001b[0m \u001b[0me\u001b[0m\u001b[0;34m:\u001b[0m\u001b[0;34m\u001b[0m\u001b[0;34m\u001b[0m\u001b[0m\n",
      "\u001b[0;31mKeyboardInterrupt\u001b[0m: "
     ]
    },
    {
     "data": {
      "image/png": "[encoded data removed]",
      "text/plain": [
       "<Figure size 800x400 with 1 Axes>"
      ]
     },
     "metadata": {},
     "output_type": "display_data"
    }
   ],
   "source": [
    "plt.figure(figsize=(8, 4))\n",
    "plt.subplot(1, 2, 1)\n",
    "plot_graphs(fitted_model, 'accuracy')\n",
    "plt.ylim(None, 1)\n",
    "plt.title(\"Accuracy\")\n",
    "plt.subplot(1, 2, 2)\n",
    "plot_graphs(fitted_model, 'loss')\n",
    "plt.ylim(0, None)\n",
    "plt.title(\"Loss\")"
   ]
  },
  {
   "attachments": {},
   "cell_type": "markdown",
   "metadata": {},
   "source": [
    "**Confusion Matrix**"
   ]
  },
  {
   "cell_type": "code",
   "execution_count": null,
   "metadata": {},
   "outputs": [],
   "source": [
    "# Convert y_true and y_pred to numpy arrays\n",
    "y_true = np.concatenate([y.numpy() for _, y in test_dataset], axis=0)\n",
    "y_pred = np.concatenate([rnn3.predict(x).argmax(axis=-1) for x, _ in test_dataset], axis=0)\n",
    "\n",
    "# Compute the confusion matrix\n",
    "cm = confusion_matrix(y_true, y_pred)\n",
    "\n",
    "#define the positive class as the female class \n",
    "positive_class =1 \n",
    "\n",
    "#define counts for each element of confusion matrix\n",
    "tn, fp, fn, tp = confusion_matrix(y_true, y_pred, labels = [0, positive_class]).ravel()\n",
    "results_cm = {' ': ['True Negative', 'False Positive', 'False Negative', 'True Positive'],\n",
    "           'Counts': [tn, fp, fn, tp]}\n",
    "\n",
    "df_cm = pd.DataFrame(results_cm)\n",
    "df_cm.set_index(' ', inplace=True)\n",
    "print(df_cm)\n"
   ]
  },
  {
   "cell_type": "code",
   "execution_count": null,
   "metadata": {},
   "outputs": [],
   "source": [
    "precision, recall, f1_score, _ = precision_recall_fscore_support(y_true, y_pred, pos_label=1)\n",
    "\n",
    "print('Precision:', precision)\n",
    "print('Recall:', recall)\n",
    "print('F1 score:', f1_score)"
   ]
  },
  {
   "attachments": {},
   "cell_type": "markdown",
   "metadata": {},
   "source": [
    "**Interpretation** we prove our HP that the model is worse in all evaluation performance metrics in predicting the first class "
   ]
  },
  {
   "cell_type": "code",
   "execution_count": null,
   "metadata": {},
   "outputs": [],
   "source": [
    "#make a cute confusion matrix \n",
    "data = pd.DataFrame(cm)\n",
    "cmap = 'copper' #to change palette, look up cmap palettes\n",
    "pp_matrix(data, cmap=cmap)"
   ]
  },
  {
   "attachments": {},
   "cell_type": "markdown",
   "metadata": {},
   "source": [
    "**Coefficient Analysis**"
   ]
  },
  {
   "attachments": {},
   "cell_type": "markdown",
   "metadata": {},
   "source": [
    "***For all layers***"
   ]
  },
  {
   "cell_type": "code",
   "execution_count": null,
   "metadata": {},
   "outputs": [],
   "source": [
    "# Get the feature weights\n",
    "weights = rnn3.layers[1].get_weights()[0] #1 is what we have been using so farfor layers\n",
    "\n",
    "# Sort the feature weights\n",
    "sorted_weights = np.sort(weights, axis=0)[::-1]\n",
    "\n",
    "# Select the top 1000 features\n",
    "top_features = sorted_weights[:5000]\n",
    "\n",
    "# Select the bottom 1000 features\n",
    "bottom_features = sorted_weights[-5000:]\n",
    "\n",
    "vocab_dict = dict(enumerate(encoded_vocab))\n",
    "\n",
    "# Map the features back to words\n",
    "top_words = encoded_vocab[np.argsort(weights[:,::-1])[:5000]]\n",
    "bottom_words = encoded_vocab[np.argsort(weights)][:5000]\n",
    "\n",
    "\n",
    "# top\n",
    "s1h = pd.Series(top_words.ravel(), name='words') #ravel() to flatten \n",
    "s2h= pd.Series(top_features.ravel(), name='weights')\n",
    "df_high = pd.concat([s1h, s2h], axis = 1)\n",
    "#df_high\n",
    "\n",
    "#bottom\n",
    "#print(\"Bottom features:\")#, top_words, type(top_features))\n",
    "s1l = pd.Series(bottom_words.ravel(), name='words') #ravel() to flatten \n",
    "s2l= pd.Series(bottom_features.ravel(), name='weights')\n",
    "df_low = pd.concat([s1l, s2l], axis = 1)"
   ]
  },
  {
   "cell_type": "code",
   "execution_count": null,
   "metadata": {},
   "outputs": [],
   "source": [
    "def remove_duplicates(df, column_name):\n",
    "    unique_values = df[column_name].unique()\n",
    "    rows_to_remove = []\n",
    "    for value in unique_values:\n",
    "        rows_with_value = df[df[column_name] == value]\n",
    "        if len(rows_with_value) > 1:\n",
    "            rows_to_remove += list(rows_with_value.iloc[1:].index)\n",
    "    df = df.drop(rows_to_remove)\n",
    "    df = df.reset_index(drop=True)\n",
    "    return df\n",
    "\n",
    "df_h = remove_duplicates(df_high, 'words')\n",
    "df_l = remove_duplicates(df_low, 'words')"
   ]
  },
  {
   "cell_type": "code",
   "execution_count": null,
   "metadata": {},
   "outputs": [],
   "source": [
    "def remove_single_character_rows(df, column_name):\n",
    "    mask = df[column_name].str.len() <= 2\n",
    "    df_filtered = df[~mask]\n",
    "    return df_filtered\n",
    "\n",
    "df_h = remove_single_character_rows(df_h, 'words')\n",
    "df_l = remove_single_character_rows(df_l, 'words')\n",
    "df_l.sort_values(by = \"weights\", ascending=True)\n"
   ]
  },
  {
   "cell_type": "code",
   "execution_count": null,
   "metadata": {},
   "outputs": [],
   "source": [
    "#sort highest\n",
    "#df_sorted_h = df_high.sort_values(by = \"weights\", ascending=False)\n",
    "#df_sorted_h"
   ]
  },
  {
   "cell_type": "code",
   "execution_count": null,
   "metadata": {},
   "outputs": [],
   "source": [
    "#sort lowest\n",
    "#df_sorted_l = df_low.sort_values(by = \"weights\", ascending=True)\n",
    "#df_sorted_l.head(50)"
   ]
  },
  {
   "attachments": {},
   "cell_type": "markdown",
   "metadata": {},
   "source": [
    "**Word Cloud**"
   ]
  },
  {
   "cell_type": "code",
   "execution_count": null,
   "metadata": {},
   "outputs": [],
   "source": [
    "#format according to which list \n",
    "text = ' '.join(df_h['words'])\n",
    "\n",
    "# Create the word cloud\n",
    "wordcloud = WordCloud(width=800, height=800, background_color='white').generate(text)\n",
    "\n",
    "# Plot the word cloud\n",
    "plt.figure(figsize=(8,8), facecolor=None)\n",
    "plt.imshow(wordcloud)\n",
    "plt.axis(\"off\")\n",
    "plt.tight_layout(pad=0)\n",
    "plt.show()"
   ]
  },
  {
   "attachments": {},
   "cell_type": "markdown",
   "metadata": {},
   "source": [
    "**Code with Attention Mechanism**"
   ]
  }
 ],
 "metadata": {
  "kernelspec": {
   "display_name": "base",
   "language": "python",
   "name": "python3"
  },
  "language_info": {
   "codemirror_mode": {
    "name": "ipython",
    "version": 3
   },
   "file_extension": ".py",
   "mimetype": "text/x-python",
   "name": "python",
   "nbconvert_exporter": "python",
   "pygments_lexer": "ipython3",
   "version": "3.8.8"
  },
  "orig_nbformat": 4
 },
 "nbformat": 4,
 "nbformat_minor": 2
}
