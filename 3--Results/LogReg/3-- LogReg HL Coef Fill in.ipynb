{
 "cells": [
  {
   "cell_type": "code",
   "execution_count": 4,
   "metadata": {},
   "outputs": [],
   "source": [
    "import pandas as pd\n",
    "from functools import reduce\n",
    "import pickle\n",
    "import numpy as np\n",
    "#pandas 1.4.4\n",
    "#python version\n",
    "#"
   ]
  },
  {
   "cell_type": "code",
   "execution_count": null,
   "metadata": {},
   "outputs": [],
   "source": [
    "file_path = r\"C:\\Users\\danie\\Documents\\GitHub\\Masters-Thesis\\3--Results\\LogReg\\LogReg--Pickle HL Coef Results\"\n",
    "result = pd.read_pickle(file_path)\n",
    "words = result[\"feature\"].tolist()\n",
    "word_list = pd.DataFrame(words)"
   ]
  },
  {
   "cell_type": "code",
   "execution_count": 5,
   "metadata": {},
   "outputs": [],
   "source": [
    "open_path = \"C:/Users/danie/Desktop/Masters Thesis/Log Reg Results/\""
   ]
  },
  {
   "cell_type": "code",
   "execution_count": 6,
   "metadata": {},
   "outputs": [],
   "source": [
    "year_list = ['2010', '2011', '2012', '2013', '2014', '2015',\"2016\", \"2017\", \"2018\", \"2019\", \"2020\", \"2021\", \"2022\"]\n"
   ]
  },
  {
   "attachments": {},
   "cell_type": "markdown",
   "metadata": {},
   "source": [
    "**Getting the Coefficients out of Log Reg**"
   ]
  },
  {
   "cell_type": "code",
   "execution_count": 8,
   "metadata": {},
   "outputs": [],
   "source": [
    "for year in year_list:\n",
    "\n",
    "    with open(open_path + year +'_results.pkl', 'rb') as f:\n",
    "        results = pickle.load(f)\n",
    "\n",
    "    vocabu = results['tfidf'].vocabulary_\n",
    "    coefficients = results['model'].coef_[0]\n",
    "\n",
    "    word_coefficient_list = []\n",
    "\n",
    "    for word, index in vocabu.items():\n",
    "        coefficient = coefficients[index]\n",
    "        word_coefficient_list.append((word, coefficient))\n",
    "\n",
    "    df = pd.DataFrame(word_coefficient_list)\n",
    "\n",
    "    df.to_csv(\"LogReg CSV VOCAB_\" + year)"
   ]
  },
  {
   "cell_type": "code",
   "execution_count": null,
   "metadata": {},
   "outputs": [],
   "source": [
    "model_year = '2010'\n",
    "\n",
    "with open(open_path + model_year +'_results.pkl', 'rb') as f:\n",
    "    results = pickle.load(f)\n",
    "\n",
    "vocabu = results['tfidf'].vocabulary_\n",
    "coefficients = results['model'].coef_[0]\n",
    "\n",
    "\n",
    "print(vocabu)\n",
    "word_vector = np.zeros(len(vocabu))\n",
    "print(word_vector)\n",
    "for word in words:\n",
    "    if word in vocabu:\n",
    "        index = vocabu[word]\n",
    "        word_vector[index] = 1\n",
    "print(word_vector)\n",
    "\n",
    "coefficients = results['model'].coef_[0]\n",
    "word_coefficients = {word: coefficient for word, coefficient in zip(vocabu.keys(), coefficients)}\n",
    "\n",
    "coef_store = []\n",
    "\n",
    "for word in words:\n",
    "    if word in word_coefficients:\n",
    "        coef_store.append((f\"{word}, {word_coefficients[word]}\"))\n",
    "\n",
    "results_coef = pd.DataFrame(coef_store)\n",
    "results_coef = pd.concat([results_coef[[0]], results_coef[0].str.split(', ', expand=True)], axis=1)\n",
    "results_coef.set_axis(['drop', 'feature', model_year + '_coef'], axis='columns', inplace=True)\n",
    "df = results_coef.drop(['drop'], axis=1)\n",
    "df = df.drop_duplicates()\n"
   ]
  },
  {
   "cell_type": "code",
   "execution_count": null,
   "metadata": {},
   "outputs": [],
   "source": [
    "word_vector"
   ]
  },
  {
   "cell_type": "code",
   "execution_count": null,
   "metadata": {},
   "outputs": [],
   "source": [
    "vocabu[\"gone\"]"
   ]
  },
  {
   "cell_type": "code",
   "execution_count": null,
   "metadata": {},
   "outputs": [],
   "source": [
    "coefficients[15951]"
   ]
  },
  {
   "cell_type": "code",
   "execution_count": null,
   "metadata": {},
   "outputs": [],
   "source": [
    "results_coef"
   ]
  },
  {
   "cell_type": "code",
   "execution_count": null,
   "metadata": {},
   "outputs": [],
   "source": [
    "result"
   ]
  },
  {
   "cell_type": "code",
   "execution_count": null,
   "metadata": {},
   "outputs": [],
   "source": [
    "trial"
   ]
  },
  {
   "cell_type": "code",
   "execution_count": null,
   "metadata": {},
   "outputs": [],
   "source": [
    "for year in year_list:\n",
    "\n",
    "    with open(open_path + year +'_results.pkl', 'rb') as f:\n",
    "        results = pickle.load(f)\n",
    "\n",
    "    vocabu = results['tfidf'].vocabulary_\n",
    "\n",
    "    word_vector = np.zeros(len(vocabu))\n",
    "    for word in words:\n",
    "        if word in vocabu:\n",
    "            index = vocabu[word]\n",
    "            word_vector[index] = 1\n",
    "\n",
    "    coefficients = results['model'].coef_[0]\n",
    "    word_coefficients = {word: coefficient for word, coefficient in zip(vocabu.keys(), coefficients)}\n",
    "\n",
    "    coef_store = []\n",
    "\n",
    "    for word in words:\n",
    "        if word in word_coefficients:\n",
    "            coef_store.append((f\"{word}, {word_coefficients[word]}\"))\n",
    "\n",
    "    results_coef = pd.DataFrame(coef_store)\n",
    "    results_coef = pd.concat([results_coef[[0]], results_coef[0].str.split(', ', expand=True)], axis=1)\n",
    "    results_coef.set_axis(['drop', 'feature', year + '_coef'], axis='columns', inplace=True)\n",
    "    merged_left = results_coef.drop(['drop'], axis=1)\n",
    "\n",
    "    df = pd.merge(left = df, right = merged_left, how= 'inner', left_on=['feature'], right_on=['feature'])\n",
    "    df = df.drop_duplicates()"
   ]
  },
  {
   "cell_type": "code",
   "execution_count": null,
   "metadata": {},
   "outputs": [],
   "source": [
    "df"
   ]
  },
  {
   "cell_type": "code",
   "execution_count": null,
   "metadata": {},
   "outputs": [],
   "source": [
    "df.to_csv(\"LogReg CSV HL Complete Results\")"
   ]
  },
  {
   "cell_type": "code",
   "execution_count": null,
   "metadata": {},
   "outputs": [],
   "source": [
    "file_name = \"LogReg--Pickle HL Complete Results\"\n",
    "\n",
    "with open(file_name, 'wb') as handle:\n",
    "    pickle.dump(df, handle, protocol=pickle.HIGHEST_PROTOCOL)"
   ]
  }
 ],
 "metadata": {
  "kernelspec": {
   "display_name": "base",
   "language": "python",
   "name": "python3"
  },
  "language_info": {
   "codemirror_mode": {
    "name": "ipython",
    "version": 3
   },
   "file_extension": ".py",
   "mimetype": "text/x-python",
   "name": "python",
   "nbconvert_exporter": "python",
   "pygments_lexer": "ipython3",
   "version": "3.8.8"
  },
  "orig_nbformat": 4
 },
 "nbformat": 4,
 "nbformat_minor": 2
}
