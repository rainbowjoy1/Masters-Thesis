{
 "cells": [
  {
   "cell_type": "code",
   "execution_count": 20,
   "metadata": {},
   "outputs": [],
   "source": [
    "import pandas as pd\n",
    "from functools import reduce\n",
    "import pickle"
   ]
  },
  {
   "attachments": {},
   "cell_type": "markdown",
   "metadata": {},
   "source": [
    "Combine LogReg High results"
   ]
  },
  {
   "cell_type": "code",
   "execution_count": 21,
   "metadata": {},
   "outputs": [],
   "source": [
    "open_path = \"C:/Users/danie/Desktop/Masters Thesis/Log Reg Results/\"\n",
    "year_list = ['2011', '2012', '2013', '2014', '2015',\"2016\", \"2017\", \"2018\", \"2019\", \"2020\", \"2021\", \"2022\"]\n",
    "start_year = \"2010\""
   ]
  },
  {
   "cell_type": "code",
   "execution_count": 22,
   "metadata": {},
   "outputs": [],
   "source": [
    "high_df = pd.read_pickle(open_path + start_year + \"highest_coef\")\n",
    "high_df.rename(columns = {'coef':str(start_year) + '_c'}, inplace = True)\n",
    "high_df = high_df.drop(columns=['coef_type','year'])"
   ]
  },
  {
   "cell_type": "code",
   "execution_count": 23,
   "metadata": {},
   "outputs": [],
   "source": [
    "for year in year_list:\n",
    "    df_loop = pd.read_pickle(open_path + year + \"highest_coef\")\n",
    "    df_loop.rename(columns = {'coef':str(year) + '_c'}, inplace = True)\n",
    "    df_loop = df_loop.drop(columns=['coef_type','year'])\n",
    "    high_df = pd.merge(high_df, df_loop,on=['feature'],how='outer')"
   ]
  },
  {
   "cell_type": "code",
   "execution_count": 24,
   "metadata": {},
   "outputs": [],
   "source": [
    "low_df = pd.read_pickle(open_path + start_year + \"lowest_coef\")\n",
    "low_df.rename(columns = {'coef':str(start_year) + '_c'}, inplace = True)\n",
    "low_df = low_df.drop(columns=['coef_type','year'])"
   ]
  },
  {
   "cell_type": "code",
   "execution_count": 25,
   "metadata": {},
   "outputs": [],
   "source": [
    "for year in year_list:\n",
    "    df_loop = pd.read_pickle(open_path + year + \"lowest_coef\")\n",
    "    df_loop.rename(columns = {'coef':str(year) + '_c'}, inplace = True)\n",
    "    df_loop = df_loop.drop(columns=['coef_type','year'])\n",
    "    low_df = pd.merge(low_df, df_loop,on=['feature'],how='outer')"
   ]
  },
  {
   "cell_type": "code",
   "execution_count": 26,
   "metadata": {},
   "outputs": [
    {
     "name": "stderr",
     "output_type": "stream",
     "text": [
      "<ipython-input-26-0166a975a094>:1: FutureWarning: The frame.append method is deprecated and will be removed from pandas in a future version. Use pandas.concat instead.\n",
      "  hl_df = high_df.append(low_df)\n"
     ]
    }
   ],
   "source": [
    "hl_df = high_df.append(low_df)"
   ]
  },
  {
   "cell_type": "code",
   "execution_count": 27,
   "metadata": {},
   "outputs": [],
   "source": [
    "file_name = \"LogReg--Pickle HL Coef Results\"\n",
    "\n",
    "with open(file_name, 'wb') as handle:\n",
    "    pickle.dump(hl_df, handle, protocol=pickle.HIGHEST_PROTOCOL)"
   ]
  },
  {
   "cell_type": "code",
   "execution_count": 28,
   "metadata": {},
   "outputs": [],
   "source": [
    "hl_df.to_csv(\"LogReg--CSV HL Coef Yearly Results\")"
   ]
  }
 ],
 "metadata": {
  "kernelspec": {
   "display_name": "base",
   "language": "python",
   "name": "python3"
  },
  "language_info": {
   "codemirror_mode": {
    "name": "ipython",
    "version": 3
   },
   "file_extension": ".py",
   "mimetype": "text/x-python",
   "name": "python",
   "nbconvert_exporter": "python",
   "pygments_lexer": "ipython3",
   "version": "3.8.8"
  },
  "orig_nbformat": 4
 },
 "nbformat": 4,
 "nbformat_minor": 2
}
