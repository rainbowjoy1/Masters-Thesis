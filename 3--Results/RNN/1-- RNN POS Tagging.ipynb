{
 "cells": [
  {
   "cell_type": "code",
   "execution_count": 1,
   "metadata": {},
   "outputs": [],
   "source": [
    "import pandas as pd\n",
    "from functools import reduce\n",
    "import pickle"
   ]
  },
  {
   "cell_type": "code",
   "execution_count": 4,
   "metadata": {},
   "outputs": [],
   "source": [
    "apperance = \"Garg_apperance_words.csv\"\n",
    "\n",
    "apperance = pd.read_csv(apperance)\n",
    "\n",
    "violence = \"Violence_Grievence_Dicitonary.csv\"\n",
    "violence = pd.read_csv(violence)\n",
    "violence = violence.rename(columns={'weights':'weight'})\n"
   ]
  },
  {
   "cell_type": "code",
   "execution_count": 5,
   "metadata": {},
   "outputs": [
    {
     "name": "stderr",
     "output_type": "stream",
     "text": [
      "<ipython-input-5-8552c58f12ac>:2: FutureWarning: Passing 'suffixes' which cause duplicate columns {'source_x', 'weight_x'} in the result is deprecated and will raise a MergeError in a future version.\n",
      "  df_attempt = reduce(lambda  left,right: pd.merge(left,right,on=['feature'],how='outer'), PAC_words)\n"
     ]
    }
   ],
   "source": [
    "PAC_words = [power_agency, communality, agency, violence, apperance]\n",
    "df_attempt = reduce(lambda  left,right: pd.merge(left,right,on=['feature'],how='outer'), PAC_words)"
   ]
  },
  {
   "cell_type": "code",
   "execution_count": 13,
   "metadata": {},
   "outputs": [],
   "source": [
    "PAC_words = [power_agency, communality, agency, violence, apperance]\n",
    "result = pd.concat(PAC_words)\n",
    "result = result.drop(columns='weight')\n",
    "result = result.drop(columns='weights')"
   ]
  },
  {
   "cell_type": "code",
   "execution_count": 14,
   "metadata": {},
   "outputs": [],
   "source": [
    "result.to_csv(\"full_word_list\")"
   ]
  },
  {
   "cell_type": "code",
   "execution_count": 15,
   "metadata": {},
   "outputs": [
    {
     "data": {
      "text/html": [
       "<div>\n",
       "<style scoped>\n",
       "    .dataframe tbody tr th:only-of-type {\n",
       "        vertical-align: middle;\n",
       "    }\n",
       "\n",
       "    .dataframe tbody tr th {\n",
       "        vertical-align: top;\n",
       "    }\n",
       "\n",
       "    .dataframe thead th {\n",
       "        text-align: right;\n",
       "    }\n",
       "</style>\n",
       "<table border=\"1\" class=\"dataframe\">\n",
       "  <thead>\n",
       "    <tr style=\"text-align: right;\">\n",
       "      <th></th>\n",
       "      <th>feature</th>\n",
       "      <th>source</th>\n",
       "      <th>POS</th>\n",
       "    </tr>\n",
       "  </thead>\n",
       "  <tbody>\n",
       "    <tr>\n",
       "      <th>1878</th>\n",
       "      <td>wait</td>\n",
       "      <td>power</td>\n",
       "      <td>[(wait, NN)]</td>\n",
       "    </tr>\n",
       "    <tr>\n",
       "      <th>1932</th>\n",
       "      <td>worship</td>\n",
       "      <td>power</td>\n",
       "      <td>[(worship, NN)]</td>\n",
       "    </tr>\n",
       "    <tr>\n",
       "      <th>1951</th>\n",
       "      <td>apologize</td>\n",
       "      <td>power</td>\n",
       "      <td>[(apologize, VB)]</td>\n",
       "    </tr>\n",
       "    <tr>\n",
       "      <th>1952</th>\n",
       "      <td>assist</td>\n",
       "      <td>power</td>\n",
       "      <td>[(assist, NN)]</td>\n",
       "    </tr>\n",
       "    <tr>\n",
       "      <th>1953</th>\n",
       "      <td>behold</td>\n",
       "      <td>power</td>\n",
       "      <td>[(behold, NN)]</td>\n",
       "    </tr>\n",
       "    <tr>\n",
       "      <th>...</th>\n",
       "      <td>...</td>\n",
       "      <td>...</td>\n",
       "      <td>...</td>\n",
       "    </tr>\n",
       "    <tr>\n",
       "      <th>20</th>\n",
       "      <td>weak</td>\n",
       "      <td>Apperance</td>\n",
       "      <td>[(weak, JJ)]</td>\n",
       "    </tr>\n",
       "    <tr>\n",
       "      <th>21</th>\n",
       "      <td>thin</td>\n",
       "      <td>Apperance</td>\n",
       "      <td>[(thin, NN)]</td>\n",
       "    </tr>\n",
       "    <tr>\n",
       "      <th>22</th>\n",
       "      <td>pretty</td>\n",
       "      <td>Apperance</td>\n",
       "      <td>[(pretty, RB)]</td>\n",
       "    </tr>\n",
       "    <tr>\n",
       "      <th>23</th>\n",
       "      <td>beautiful</td>\n",
       "      <td>Apperance</td>\n",
       "      <td>[(beautiful, NN)]</td>\n",
       "    </tr>\n",
       "    <tr>\n",
       "      <th>24</th>\n",
       "      <td>strong</td>\n",
       "      <td>Apperance</td>\n",
       "      <td>[(strong, JJ)]</td>\n",
       "    </tr>\n",
       "  </tbody>\n",
       "</table>\n",
       "<p>741 rows × 3 columns</p>\n",
       "</div>"
      ],
      "text/plain": [
       "        feature     source                POS\n",
       "1878       wait      power       [(wait, NN)]\n",
       "1932    worship      power    [(worship, NN)]\n",
       "1951  apologize      power  [(apologize, VB)]\n",
       "1952     assist      power     [(assist, NN)]\n",
       "1953     behold      power     [(behold, NN)]\n",
       "...         ...        ...                ...\n",
       "20         weak  Apperance       [(weak, JJ)]\n",
       "21         thin  Apperance       [(thin, NN)]\n",
       "22       pretty  Apperance     [(pretty, RB)]\n",
       "23    beautiful  Apperance  [(beautiful, NN)]\n",
       "24       strong  Apperance     [(strong, JJ)]\n",
       "\n",
       "[741 rows x 3 columns]"
      ]
     },
     "execution_count": 15,
     "metadata": {},
     "output_type": "execute_result"
    }
   ],
   "source": [
    "from nltk import word_tokenize, pos_tag, pos_tag_sents\n",
    "import pandas as pd\n",
    "df = result\n",
    "texts = df['feature'].tolist()\n",
    "tagged_texts = pos_tag_sents(map(word_tokenize, texts))\n",
    "df['POS'] = tagged_texts\n",
    "df"
   ]
  },
  {
   "cell_type": "code",
   "execution_count": 17,
   "metadata": {},
   "outputs": [],
   "source": [
    "df3 = df.POS.apply(pd.Series)\n",
    "df3.columns = ['1']\n",
    "df3['a'] = df3['1'].str[1]\n",
    "df3['b'] = df3['1'].str[0]"
   ]
  },
  {
   "cell_type": "code",
   "execution_count": 18,
   "metadata": {},
   "outputs": [
    {
     "data": {
      "text/html": [
       "<div>\n",
       "<style scoped>\n",
       "    .dataframe tbody tr th:only-of-type {\n",
       "        vertical-align: middle;\n",
       "    }\n",
       "\n",
       "    .dataframe tbody tr th {\n",
       "        vertical-align: top;\n",
       "    }\n",
       "\n",
       "    .dataframe thead th {\n",
       "        text-align: right;\n",
       "    }\n",
       "</style>\n",
       "<table border=\"1\" class=\"dataframe\">\n",
       "  <thead>\n",
       "    <tr style=\"text-align: right;\">\n",
       "      <th></th>\n",
       "      <th>1</th>\n",
       "      <th>a</th>\n",
       "      <th>b</th>\n",
       "    </tr>\n",
       "  </thead>\n",
       "  <tbody>\n",
       "    <tr>\n",
       "      <th>1878</th>\n",
       "      <td>(wait, NN)</td>\n",
       "      <td>NN</td>\n",
       "      <td>wait</td>\n",
       "    </tr>\n",
       "    <tr>\n",
       "      <th>1932</th>\n",
       "      <td>(worship, NN)</td>\n",
       "      <td>NN</td>\n",
       "      <td>worship</td>\n",
       "    </tr>\n",
       "    <tr>\n",
       "      <th>1951</th>\n",
       "      <td>(apologize, VB)</td>\n",
       "      <td>VB</td>\n",
       "      <td>apologize</td>\n",
       "    </tr>\n",
       "    <tr>\n",
       "      <th>1952</th>\n",
       "      <td>(assist, NN)</td>\n",
       "      <td>NN</td>\n",
       "      <td>assist</td>\n",
       "    </tr>\n",
       "    <tr>\n",
       "      <th>1953</th>\n",
       "      <td>(behold, NN)</td>\n",
       "      <td>NN</td>\n",
       "      <td>behold</td>\n",
       "    </tr>\n",
       "    <tr>\n",
       "      <th>...</th>\n",
       "      <td>...</td>\n",
       "      <td>...</td>\n",
       "      <td>...</td>\n",
       "    </tr>\n",
       "    <tr>\n",
       "      <th>20</th>\n",
       "      <td>(weak, JJ)</td>\n",
       "      <td>JJ</td>\n",
       "      <td>weak</td>\n",
       "    </tr>\n",
       "    <tr>\n",
       "      <th>21</th>\n",
       "      <td>(thin, NN)</td>\n",
       "      <td>NN</td>\n",
       "      <td>thin</td>\n",
       "    </tr>\n",
       "    <tr>\n",
       "      <th>22</th>\n",
       "      <td>(pretty, RB)</td>\n",
       "      <td>RB</td>\n",
       "      <td>pretty</td>\n",
       "    </tr>\n",
       "    <tr>\n",
       "      <th>23</th>\n",
       "      <td>(beautiful, NN)</td>\n",
       "      <td>NN</td>\n",
       "      <td>beautiful</td>\n",
       "    </tr>\n",
       "    <tr>\n",
       "      <th>24</th>\n",
       "      <td>(strong, JJ)</td>\n",
       "      <td>JJ</td>\n",
       "      <td>strong</td>\n",
       "    </tr>\n",
       "  </tbody>\n",
       "</table>\n",
       "<p>741 rows × 3 columns</p>\n",
       "</div>"
      ],
      "text/plain": [
       "                    1   a          b\n",
       "1878       (wait, NN)  NN       wait\n",
       "1932    (worship, NN)  NN    worship\n",
       "1951  (apologize, VB)  VB  apologize\n",
       "1952     (assist, NN)  NN     assist\n",
       "1953     (behold, NN)  NN     behold\n",
       "...               ...  ..        ...\n",
       "20         (weak, JJ)  JJ       weak\n",
       "21         (thin, NN)  NN       thin\n",
       "22       (pretty, RB)  RB     pretty\n",
       "23    (beautiful, NN)  NN  beautiful\n",
       "24       (strong, JJ)  JJ     strong\n",
       "\n",
       "[741 rows x 3 columns]"
      ]
     },
     "execution_count": 18,
     "metadata": {},
     "output_type": "execute_result"
    }
   ],
   "source": [
    "df3"
   ]
  },
  {
   "cell_type": "code",
   "execution_count": 27,
   "metadata": {},
   "outputs": [],
   "source": [
    "new_col = pd.merge(df, df3, left_on = df3['b'], right_on= df['feature'])\n",
    "new_col = new_col.rename(columns = {'a': 'pos_tag'})\n",
    "new_col = new_col.drop(columns=['POS','1','b','key_0'])\n",
    "left = new_col['pos_tag'].str[:1]\n",
    "left = pd.DataFrame(left)\n",
    "left = left.rename(columns={'pos_tag':'pos_tag_short'})"
   ]
  },
  {
   "cell_type": "code",
   "execution_count": 30,
   "metadata": {},
   "outputs": [],
   "source": [
    "pos_tags = new_col.join(left, on=new_col.index)"
   ]
  },
  {
   "cell_type": "code",
   "execution_count": 34,
   "metadata": {},
   "outputs": [],
   "source": [
    "pos_tags['pos_tag_short'] = pos_tags['pos_tag_short'].replace({'R':'J', 'I':'N'})"
   ]
  },
  {
   "cell_type": "code",
   "execution_count": 35,
   "metadata": {},
   "outputs": [],
   "source": [
    "new_file_name =\"pos_tag_word_list\"\n",
    "\n",
    "with open(new_file_name, 'wb') as handle:\n",
    "    pickle.dump(pos_tags, handle, protocol=pickle.HIGHEST_PROTOCOL)"
   ]
  },
  {
   "cell_type": "code",
   "execution_count": 36,
   "metadata": {},
   "outputs": [
    {
     "data": {
      "text/plain": [
       "N    628\n",
       "J    111\n",
       "V     38\n",
       "Name: pos_tag_short, dtype: int64"
      ]
     },
     "execution_count": 36,
     "metadata": {},
     "output_type": "execute_result"
    }
   ],
   "source": [
    "pos_tags['pos_tag_short'].value_counts()"
   ]
  },
  {
   "attachments": {},
   "cell_type": "markdown",
   "metadata": {},
   "source": [
    "Combine LogReg High results"
   ]
  },
  {
   "cell_type": "code",
   "execution_count": null,
   "metadata": {},
   "outputs": [],
   "source": [
    "#2010\n",
    "df_10 = pd.read_pickle(\"RESULTS10_coef_high.pickle\")\n",
    "df_10.rename(columns = {'coef':'2010_c'}, inplace = True)\n",
    "df_10 = df_10.drop(columns=['coef_type','year'])\n",
    "#2011\n",
    "df_11 = pd.read_pickle(\"RESULTS11_coef_high.pickle\")\n",
    "df_11.rename(columns = {'coef':'2011_c'}, inplace = True)\n",
    "df_11 = df_11.drop(columns=['coef_type','year'])\n",
    "#2012\n",
    "df_12 = pd.read_pickle(\"RESULTS12_coef_high.pickle\")\n",
    "df_12.rename(columns = {'coef':'2012_c'}, inplace = True)\n",
    "df_12 = df_12.drop(columns=['coef_type','year'])\n",
    "#2013\n",
    "df_13 = pd.read_pickle(\"RESULTS13_coef_low.pickle\")\n",
    "df_13.rename(columns = {'coef':'2013_c'}, inplace = True)\n",
    "df_13 = df_13.drop(columns=['coef_type','year'])\n",
    "#2014\n",
    "df_14 = pd.read_pickle(\"RESULTS14_coef_high.pickle\")\n",
    "df_14.rename(columns = {'coef':'2014_c'}, inplace = True)\n",
    "df_14 = df_14.drop(columns=['coef_type','year'])\n",
    "#2015\n",
    "df_15 = pd.read_pickle(\"RESULTS15_coef_high.pickle\")\n",
    "df_15.rename(columns = {'coef':'2015_c'}, inplace = True)\n",
    "df_15 = df_15.drop(columns=['coef_type','year'])\n",
    "#2016\n",
    "df_16 = pd.read_pickle(\"RESULTS16_coef_high.pickle\")\n",
    "df_16.rename(columns = {'coef':'2016_c'}, inplace = True)\n",
    "df_16 = df_16.drop(columns=['coef_type','year'])\n",
    "#2017\n",
    "df_17 = pd.read_pickle(\"RESULTS17_coef_high.pickle\")\n",
    "df_17.rename(columns = {'coef':'2017_c'}, inplace = True)\n",
    "df_17 = df_17.drop(columns=['coef_type','year'])\n",
    "#2018\n",
    "df_18 = pd.read_pickle(\"RESULTS18_coef_high.pickle\")\n",
    "df_18.rename(columns = {'coef':'2018_c'}, inplace = True)\n",
    "df_18 = df_18.drop(columns=['coef_type','year'])\n",
    "#2019\n",
    "df_19 = pd.read_pickle(\"RESULTS19_coef_high.pickle\")\n",
    "df_19.rename(columns = {'coef':'2019_c'}, inplace = True)\n",
    "df_19 = df_19.drop(columns=['coef_type','year'])\n",
    "#2020\n",
    "df_20 = pd.read_pickle(\"RESULTS20_coef_high.pickle\")\n",
    "df_20.rename(columns = {'coef':'2020_c'}, inplace = True)\n",
    "df_20 = df_20.drop(columns=['coef_type','year'])\n",
    "#2021\n",
    "df_21 = pd.read_pickle(\"RESULTS21_coef_high.pickle\")\n",
    "df_21.rename(columns = {'coef':'2021_c'}, inplace = True)\n",
    "df_21 = df_21.drop(columns=['coef_type','year'])\n",
    "#2022\n",
    "df_22 = pd.read_pickle(\"RESULTS22_coef_high.pickle\")\n",
    "df_22.rename(columns = {'coef':'2022_c'}, inplace = True)\n",
    "df_22 = df_22.drop(columns=['coef_type','year'])"
   ]
  },
  {
   "cell_type": "code",
   "execution_count": null,
   "metadata": {},
   "outputs": [],
   "source": [
    "df_list = [df_10, df_11, df_12, df_13, df_15, df_16, df_17, df_18, df_19, df_20, df_21, df_22]\n",
    "#df = pd.merge(df_list, right on='feature', how='outer')\n",
    "\n",
    "df_merged = reduce(lambda  left,right: pd.merge(left,right,on=['feature'],how='outer'), df_list)\n",
    "df_high = pd.merge(df_merged, new_col, on='feature', how='outer')"
   ]
  },
  {
   "cell_type": "code",
   "execution_count": null,
   "metadata": {},
   "outputs": [],
   "source": [
    "#2010\n",
    "df_10 = pd.read_pickle(\"RESULTS10_coef_low.pickle\")\n",
    "df_10.rename(columns = {'coef':'2010_c'}, inplace = True)\n",
    "df_10 = df_10.drop(columns=['coef_type','year'])\n",
    "#2011\n",
    "df_11 = pd.read_pickle(\"RESULTS11_coef_low.pickle\")\n",
    "df_11.rename(columns = {'coef':'2011_c'}, inplace = True)\n",
    "df_11 = df_11.drop(columns=['coef_type','year'])\n",
    "#2012\n",
    "df_12 = pd.read_pickle(\"RESULTS12_coef_low.pickle\")\n",
    "df_12.rename(columns = {'coef':'2012_c'}, inplace = True)\n",
    "df_12 = df_12.drop(columns=['coef_type','year'])\n",
    "#2013\n",
    "df_13 = pd.read_pickle(\"RESULTS13_coef_low.pickle\")\n",
    "df_13.rename(columns = {'coef':'2013_c'}, inplace = True)\n",
    "df_13 = df_13.drop(columns=['coef_type','year'])\n",
    "#2014\n",
    "df_14 = pd.read_pickle(\"RESULTS14_coef_low.pickle\")\n",
    "df_14.rename(columns = {'coef':'2014_c'}, inplace = True)\n",
    "df_14 = df_14.drop(columns=['coef_type','year'])\n",
    "#2015\n",
    "df_15 = pd.read_pickle(\"RESULTS15_coef_low.pickle\")\n",
    "df_15.rename(columns = {'coef':'2015_c'}, inplace = True)\n",
    "df_15 = df_15.drop(columns=['coef_type','year'])\n",
    "#2016\n",
    "df_16 = pd.read_pickle(\"RESULTS16_coef_low.pickle\")\n",
    "df_16.rename(columns = {'coef':'2016_c'}, inplace = True)\n",
    "df_16 = df_16.drop(columns=['coef_type','year'])\n",
    "#2017\n",
    "df_17 = pd.read_pickle(\"RESULTS17_coef_low.pickle\")\n",
    "df_17.rename(columns = {'coef':'2017_c'}, inplace = True)\n",
    "df_17 = df_17.drop(columns=['coef_type','year'])\n",
    "#2018\n",
    "df_18 = pd.read_pickle(\"RESULTS18_coef_low.pickle\")\n",
    "df_18.rename(columns = {'coef':'2018_c'}, inplace = True)\n",
    "df_18 = df_18.drop(columns=['coef_type','year'])\n",
    "#2019\n",
    "df_19 = pd.read_pickle(\"RESULTS19_coef_low.pickle\")\n",
    "df_19.rename(columns = {'coef':'2019_c'}, inplace = True)\n",
    "df_19 = df_19.drop(columns=['coef_type','year'])\n",
    "#2020\n",
    "df_20 = pd.read_pickle(\"RESULTS20_coef_low.pickle\")\n",
    "df_20.rename(columns = {'coef':'2020_c'}, inplace = True)\n",
    "df_20 = df_20.drop(columns=['coef_type','year'])\n",
    "#2021\n",
    "df_21 = pd.read_pickle(\"RESULTS21_coef_low.pickle\")\n",
    "df_21.rename(columns = {'coef':'2021_c'}, inplace = True)\n",
    "df_21 = df_21.drop(columns=['coef_type','year'])\n",
    "#2022\n",
    "df_22 = pd.read_pickle(\"RESULTS22_coef_low.pickle\")\n",
    "df_22.rename(columns = {'coef':'2022_c'}, inplace = True)\n",
    "df_22 = df_22.drop(columns=['coef_type','year'])"
   ]
  },
  {
   "cell_type": "code",
   "execution_count": null,
   "metadata": {},
   "outputs": [],
   "source": [
    "df_list = [df_10, df_11, df_12, df_13, df_15, df_16, df_17, df_18, df_19, df_20, df_21, df_22]\n",
    "#df = pd.merge(df_list, right on='feature', how='outer')\n",
    "\n",
    "df_merged = reduce(lambda  left,right: pd.merge(left,right,on=['feature'],how='outer'), df_list)\n",
    "df_low = pd.merge(df_merged, new_col, on='feature', how='outer')"
   ]
  },
  {
   "cell_type": "code",
   "execution_count": null,
   "metadata": {},
   "outputs": [],
   "source": [
    "df_high.groupby(by=['source']).mean()"
   ]
  },
  {
   "cell_type": "code",
   "execution_count": null,
   "metadata": {},
   "outputs": [],
   "source": [
    "df_low.groupby(by=['source']).mean()"
   ]
  }
 ],
 "metadata": {
  "kernelspec": {
   "display_name": "base",
   "language": "python",
   "name": "python3"
  },
  "language_info": {
   "codemirror_mode": {
    "name": "ipython",
    "version": 3
   },
   "file_extension": ".py",
   "mimetype": "text/x-python",
   "name": "python",
   "nbconvert_exporter": "python",
   "pygments_lexer": "ipython3",
   "version": "3.8.8"
  },
  "orig_nbformat": 4
 },
 "nbformat": 4,
 "nbformat_minor": 2
}
