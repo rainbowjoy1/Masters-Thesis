{
 "cells": [
  {
   "cell_type": "code",
   "execution_count": 1,
   "metadata": {},
   "outputs": [],
   "source": [
    "import pandas as pd\n",
    "from functools import reduce\n",
    "from nltk import word_tokenize, pos_tag, pos_tag_sents\n",
    "import pickle"
   ]
  },
  {
   "cell_type": "code",
   "execution_count": 5,
   "metadata": {},
   "outputs": [],
   "source": [
    "result = pd.read_csv(r\"C:\\Users\\danie\\Documents\\GitHub\\Masters-Thesis\\Word Databases\\CSV Complete Word List.csv\")"
   ]
  },
  {
   "cell_type": "code",
   "execution_count": 6,
   "metadata": {},
   "outputs": [
    {
     "data": {
      "text/html": [
       "<div>\n",
       "<style scoped>\n",
       "    .dataframe tbody tr th:only-of-type {\n",
       "        vertical-align: middle;\n",
       "    }\n",
       "\n",
       "    .dataframe tbody tr th {\n",
       "        vertical-align: top;\n",
       "    }\n",
       "\n",
       "    .dataframe thead th {\n",
       "        text-align: right;\n",
       "    }\n",
       "</style>\n",
       "<table border=\"1\" class=\"dataframe\">\n",
       "  <thead>\n",
       "    <tr style=\"text-align: right;\">\n",
       "      <th></th>\n",
       "      <th>Unnamed: 0</th>\n",
       "      <th>feature</th>\n",
       "      <th>source</th>\n",
       "      <th>POS</th>\n",
       "    </tr>\n",
       "  </thead>\n",
       "  <tbody>\n",
       "    <tr>\n",
       "      <th>0</th>\n",
       "      <td>1878</td>\n",
       "      <td>wait</td>\n",
       "      <td>power</td>\n",
       "      <td>[(wait, NN)]</td>\n",
       "    </tr>\n",
       "    <tr>\n",
       "      <th>1</th>\n",
       "      <td>1932</td>\n",
       "      <td>worship</td>\n",
       "      <td>power</td>\n",
       "      <td>[(worship, NN)]</td>\n",
       "    </tr>\n",
       "    <tr>\n",
       "      <th>2</th>\n",
       "      <td>1951</td>\n",
       "      <td>apologize</td>\n",
       "      <td>power</td>\n",
       "      <td>[(apologize, VB)]</td>\n",
       "    </tr>\n",
       "    <tr>\n",
       "      <th>3</th>\n",
       "      <td>1952</td>\n",
       "      <td>assist</td>\n",
       "      <td>power</td>\n",
       "      <td>[(assist, NN)]</td>\n",
       "    </tr>\n",
       "    <tr>\n",
       "      <th>4</th>\n",
       "      <td>1953</td>\n",
       "      <td>behold</td>\n",
       "      <td>power</td>\n",
       "      <td>[(behold, NN)]</td>\n",
       "    </tr>\n",
       "    <tr>\n",
       "      <th>...</th>\n",
       "      <td>...</td>\n",
       "      <td>...</td>\n",
       "      <td>...</td>\n",
       "      <td>...</td>\n",
       "    </tr>\n",
       "    <tr>\n",
       "      <th>1722</th>\n",
       "      <td>981</td>\n",
       "      <td>intangibles</td>\n",
       "      <td>Occupation_489</td>\n",
       "      <td>[(intangibles, NNS)]</td>\n",
       "    </tr>\n",
       "    <tr>\n",
       "      <th>1723</th>\n",
       "      <td>982</td>\n",
       "      <td>succinct</td>\n",
       "      <td>Occupation_490</td>\n",
       "      <td>[(succinct, NN)]</td>\n",
       "    </tr>\n",
       "    <tr>\n",
       "      <th>1724</th>\n",
       "      <td>983</td>\n",
       "      <td>shouted</td>\n",
       "      <td>Occupation_491</td>\n",
       "      <td>[(shouted, VBN)]</td>\n",
       "    </tr>\n",
       "    <tr>\n",
       "      <th>1725</th>\n",
       "      <td>984</td>\n",
       "      <td>devious</td>\n",
       "      <td>Occupation_492</td>\n",
       "      <td>[(devious, JJ)]</td>\n",
       "    </tr>\n",
       "    <tr>\n",
       "      <th>1726</th>\n",
       "      <td>985</td>\n",
       "      <td>replay</td>\n",
       "      <td>Occupation_493</td>\n",
       "      <td>[(replay, NN)]</td>\n",
       "    </tr>\n",
       "  </tbody>\n",
       "</table>\n",
       "<p>1727 rows × 4 columns</p>\n",
       "</div>"
      ],
      "text/plain": [
       "      Unnamed: 0      feature          source                   POS\n",
       "0           1878         wait           power          [(wait, NN)]\n",
       "1           1932      worship           power       [(worship, NN)]\n",
       "2           1951    apologize           power     [(apologize, VB)]\n",
       "3           1952       assist           power        [(assist, NN)]\n",
       "4           1953       behold           power        [(behold, NN)]\n",
       "...          ...          ...             ...                   ...\n",
       "1722         981  intangibles  Occupation_489  [(intangibles, NNS)]\n",
       "1723         982     succinct  Occupation_490      [(succinct, NN)]\n",
       "1724         983      shouted  Occupation_491      [(shouted, VBN)]\n",
       "1725         984      devious  Occupation_492       [(devious, JJ)]\n",
       "1726         985       replay  Occupation_493        [(replay, NN)]\n",
       "\n",
       "[1727 rows x 4 columns]"
      ]
     },
     "execution_count": 6,
     "metadata": {},
     "output_type": "execute_result"
    }
   ],
   "source": [
    "df = result\n",
    "texts = df['feature'].tolist()\n",
    "tagged_texts = pos_tag_sents(map(word_tokenize, texts))\n",
    "df['POS'] = tagged_texts\n",
    "df"
   ]
  },
  {
   "cell_type": "code",
   "execution_count": 7,
   "metadata": {},
   "outputs": [],
   "source": [
    "df3 = df.POS.apply(pd.Series)\n",
    "df3.columns = ['1']\n",
    "df3['a'] = df3['1'].str[1]\n",
    "df3['b'] = df3['1'].str[0]"
   ]
  },
  {
   "cell_type": "code",
   "execution_count": 11,
   "metadata": {},
   "outputs": [
    {
     "data": {
      "text/html": [
       "<div>\n",
       "<style scoped>\n",
       "    .dataframe tbody tr th:only-of-type {\n",
       "        vertical-align: middle;\n",
       "    }\n",
       "\n",
       "    .dataframe tbody tr th {\n",
       "        vertical-align: top;\n",
       "    }\n",
       "\n",
       "    .dataframe thead th {\n",
       "        text-align: right;\n",
       "    }\n",
       "</style>\n",
       "<table border=\"1\" class=\"dataframe\">\n",
       "  <thead>\n",
       "    <tr style=\"text-align: right;\">\n",
       "      <th></th>\n",
       "      <th>1</th>\n",
       "      <th>a</th>\n",
       "      <th>b</th>\n",
       "    </tr>\n",
       "  </thead>\n",
       "  <tbody>\n",
       "    <tr>\n",
       "      <th>0</th>\n",
       "      <td>(wait, NN)</td>\n",
       "      <td>NN</td>\n",
       "      <td>wait</td>\n",
       "    </tr>\n",
       "    <tr>\n",
       "      <th>1</th>\n",
       "      <td>(worship, NN)</td>\n",
       "      <td>NN</td>\n",
       "      <td>worship</td>\n",
       "    </tr>\n",
       "    <tr>\n",
       "      <th>2</th>\n",
       "      <td>(apologize, VB)</td>\n",
       "      <td>VB</td>\n",
       "      <td>apologize</td>\n",
       "    </tr>\n",
       "    <tr>\n",
       "      <th>3</th>\n",
       "      <td>(assist, NN)</td>\n",
       "      <td>NN</td>\n",
       "      <td>assist</td>\n",
       "    </tr>\n",
       "    <tr>\n",
       "      <th>4</th>\n",
       "      <td>(behold, NN)</td>\n",
       "      <td>NN</td>\n",
       "      <td>behold</td>\n",
       "    </tr>\n",
       "    <tr>\n",
       "      <th>...</th>\n",
       "      <td>...</td>\n",
       "      <td>...</td>\n",
       "      <td>...</td>\n",
       "    </tr>\n",
       "    <tr>\n",
       "      <th>1722</th>\n",
       "      <td>(intangibles, NNS)</td>\n",
       "      <td>NNS</td>\n",
       "      <td>intangibles</td>\n",
       "    </tr>\n",
       "    <tr>\n",
       "      <th>1723</th>\n",
       "      <td>(succinct, NN)</td>\n",
       "      <td>NN</td>\n",
       "      <td>succinct</td>\n",
       "    </tr>\n",
       "    <tr>\n",
       "      <th>1724</th>\n",
       "      <td>(shouted, VBN)</td>\n",
       "      <td>VBN</td>\n",
       "      <td>shouted</td>\n",
       "    </tr>\n",
       "    <tr>\n",
       "      <th>1725</th>\n",
       "      <td>(devious, JJ)</td>\n",
       "      <td>JJ</td>\n",
       "      <td>devious</td>\n",
       "    </tr>\n",
       "    <tr>\n",
       "      <th>1726</th>\n",
       "      <td>(replay, NN)</td>\n",
       "      <td>NN</td>\n",
       "      <td>replay</td>\n",
       "    </tr>\n",
       "  </tbody>\n",
       "</table>\n",
       "<p>1727 rows × 3 columns</p>\n",
       "</div>"
      ],
      "text/plain": [
       "                       1    a            b\n",
       "0             (wait, NN)   NN         wait\n",
       "1          (worship, NN)   NN      worship\n",
       "2        (apologize, VB)   VB    apologize\n",
       "3           (assist, NN)   NN       assist\n",
       "4           (behold, NN)   NN       behold\n",
       "...                  ...  ...          ...\n",
       "1722  (intangibles, NNS)  NNS  intangibles\n",
       "1723      (succinct, NN)   NN     succinct\n",
       "1724      (shouted, VBN)  VBN      shouted\n",
       "1725       (devious, JJ)   JJ      devious\n",
       "1726        (replay, NN)   NN       replay\n",
       "\n",
       "[1727 rows x 3 columns]"
      ]
     },
     "execution_count": 11,
     "metadata": {},
     "output_type": "execute_result"
    }
   ],
   "source": [
    "df3"
   ]
  },
  {
   "cell_type": "code",
   "execution_count": 12,
   "metadata": {},
   "outputs": [
    {
     "data": {
      "text/plain": [
       "NN     1192\n",
       "NNS     242\n",
       "JJ      151\n",
       "VBG      59\n",
       "VBN      39\n",
       "RB       23\n",
       "VB        9\n",
       "JJS       3\n",
       "PRP       2\n",
       "VBZ       2\n",
       "NNP       2\n",
       "IN        1\n",
       "JJR       1\n",
       "VBD       1\n",
       "Name: a, dtype: int64"
      ]
     },
     "execution_count": 12,
     "metadata": {},
     "output_type": "execute_result"
    }
   ],
   "source": [
    "df3['a'].value_counts()"
   ]
  },
  {
   "cell_type": "code",
   "execution_count": 13,
   "metadata": {},
   "outputs": [],
   "source": [
    "new_col = pd.merge(df, df3, left_on = df3['b'], right_on= df['feature'])\n",
    "new_col = new_col.rename(columns = {'a': 'pos_tag'})\n",
    "new_col = new_col.drop(columns=['POS','1','b','key_0'])\n",
    "left = new_col['pos_tag'].str[:1]\n",
    "left = pd.DataFrame(left)\n",
    "left = left.rename(columns={'pos_tag':'pos_tag_short'})"
   ]
  },
  {
   "cell_type": "code",
   "execution_count": 14,
   "metadata": {},
   "outputs": [],
   "source": [
    "pos_tags = new_col.join(left, on=new_col.index)"
   ]
  },
  {
   "cell_type": "code",
   "execution_count": 20,
   "metadata": {},
   "outputs": [],
   "source": [
    "pos_tags['pos_tag_short'] = pos_tags['pos_tag_short'].replace({'R':'J', 'I':'N', 'P':'N'})"
   ]
  },
  {
   "cell_type": "code",
   "execution_count": 22,
   "metadata": {},
   "outputs": [
    {
     "data": {
      "text/plain": [
       "N    1509\n",
       "J     194\n",
       "V     118\n",
       "Name: pos_tag_short, dtype: int64"
      ]
     },
     "execution_count": 22,
     "metadata": {},
     "output_type": "execute_result"
    }
   ],
   "source": [
    "pos_tags['pos_tag_short'].value_counts()"
   ]
  },
  {
   "cell_type": "code",
   "execution_count": 23,
   "metadata": {},
   "outputs": [],
   "source": [
    "new_file_name =\"pos_tag_word_list\"\n",
    "\n",
    "with open(new_file_name, 'wb') as handle:\n",
    "    pickle.dump(pos_tags, handle, protocol=pickle.HIGHEST_PROTOCOL)"
   ]
  },
  {
   "cell_type": "code",
   "execution_count": 36,
   "metadata": {},
   "outputs": [
    {
     "data": {
      "text/plain": [
       "N    628\n",
       "J    111\n",
       "V     38\n",
       "Name: pos_tag_short, dtype: int64"
      ]
     },
     "execution_count": 36,
     "metadata": {},
     "output_type": "execute_result"
    }
   ],
   "source": [
    "pos_tags['pos_tag_short'].value_counts()"
   ]
  }
 ],
 "metadata": {
  "kernelspec": {
   "display_name": "base",
   "language": "python",
   "name": "python3"
  },
  "language_info": {
   "codemirror_mode": {
    "name": "ipython",
    "version": 3
   },
   "file_extension": ".py",
   "mimetype": "text/x-python",
   "name": "python",
   "nbconvert_exporter": "python",
   "pygments_lexer": "ipython3",
   "version": "3.8.8"
  },
  "orig_nbformat": 4
 },
 "nbformat": 4,
 "nbformat_minor": 2
}
