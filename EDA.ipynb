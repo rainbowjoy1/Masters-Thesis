{
 "cells": [
  {
   "cell_type": "code",
   "execution_count": 1,
   "metadata": {},
   "outputs": [],
   "source": [
    "import pandas as pd\n",
    "import seaborn as sns \n",
    "import matplotlib.pyplot as plt\n",
    "import matplotlib.patches as mpatches"
   ]
  },
  {
   "cell_type": "code",
   "execution_count": 2,
   "metadata": {},
   "outputs": [],
   "source": [
    "file_path = \"/Users/yolandaferreirofranchi/Desktop/ThesisDatasets/\"\n",
    "file_path_2 = \"_final_rnn.pickle\"\n",
    "\n",
    "df_10= pd.read_pickle(file_path + \"2010\" + file_path_2)\n",
    "df_11= pd.read_pickle(file_path + \"2011\" + file_path_2)\n",
    "df_12= pd.read_pickle(file_path + \"2012\" + file_path_2)\n",
    "df_13= pd.read_pickle(file_path + \"2013\" + file_path_2)\n",
    "df_14= pd.read_pickle(file_path + \"2014\" + file_path_2)\n",
    "df_15= pd.read_pickle(file_path + \"2015\" + file_path_2)\n",
    "df_16= pd.read_pickle(file_path + \"2016\" + file_path_2)\n",
    "df_17= pd.read_pickle(file_path + \"2017\" + file_path_2)\n",
    "df_18= pd.read_pickle(file_path + \"2018\" + file_path_2)\n",
    "df_19= pd.read_pickle(file_path + \"2019\" + file_path_2)\n",
    "df_20= pd.read_pickle(file_path + \"2020\" + file_path_2)\n",
    "df_21= pd.read_pickle(file_path + \"2021\" + file_path_2)\n",
    "df_22= pd.read_pickle(file_path + \"2022\" + file_path_2)"
   ]
  },
  {
   "cell_type": "code",
   "execution_count": 3,
   "metadata": {},
   "outputs": [],
   "source": [
    "df_all = pd.concat([df_10, df_11, df_12, df_13, df_14, df_15, df_16, df_17, df_18, df_19, df_20, df_21, df_22])"
   ]
  },
  {
   "attachments": {},
   "cell_type": "markdown",
   "metadata": {},
   "source": [
    "**Stacked Bar Chart of Sentence Count By Gender By Year**"
   ]
  },
  {
   "cell_type": "code",
   "execution_count": 5,
   "metadata": {},
   "outputs": [],
   "source": [
    "selected = df_all[[\"year\", \"col_type\"]]"
   ]
  },
  {
   "cell_type": "code",
   "execution_count": 5,
   "metadata": {},
   "outputs": [
    {
     "data": {
      "text/html": [
       "<div>\n",
       "<style scoped>\n",
       "    .dataframe tbody tr th:only-of-type {\n",
       "        vertical-align: middle;\n",
       "    }\n",
       "\n",
       "    .dataframe tbody tr th {\n",
       "        vertical-align: top;\n",
       "    }\n",
       "\n",
       "    .dataframe thead th {\n",
       "        text-align: right;\n",
       "    }\n",
       "</style>\n",
       "<table border=\"1\" class=\"dataframe\">\n",
       "  <thead>\n",
       "    <tr style=\"text-align: right;\">\n",
       "      <th></th>\n",
       "      <th>year</th>\n",
       "      <th>col_type</th>\n",
       "    </tr>\n",
       "  </thead>\n",
       "  <tbody>\n",
       "    <tr>\n",
       "      <th>0</th>\n",
       "      <td>2010</td>\n",
       "      <td>0</td>\n",
       "    </tr>\n",
       "    <tr>\n",
       "      <th>1</th>\n",
       "      <td>2010</td>\n",
       "      <td>1</td>\n",
       "    </tr>\n",
       "    <tr>\n",
       "      <th>2</th>\n",
       "      <td>2010</td>\n",
       "      <td>1</td>\n",
       "    </tr>\n",
       "    <tr>\n",
       "      <th>3</th>\n",
       "      <td>2010</td>\n",
       "      <td>1</td>\n",
       "    </tr>\n",
       "    <tr>\n",
       "      <th>4</th>\n",
       "      <td>2010</td>\n",
       "      <td>1</td>\n",
       "    </tr>\n",
       "    <tr>\n",
       "      <th>...</th>\n",
       "      <td>...</td>\n",
       "      <td>...</td>\n",
       "    </tr>\n",
       "    <tr>\n",
       "      <th>410780</th>\n",
       "      <td>2022</td>\n",
       "      <td>0</td>\n",
       "    </tr>\n",
       "    <tr>\n",
       "      <th>410781</th>\n",
       "      <td>2022</td>\n",
       "      <td>0</td>\n",
       "    </tr>\n",
       "    <tr>\n",
       "      <th>410782</th>\n",
       "      <td>2022</td>\n",
       "      <td>0</td>\n",
       "    </tr>\n",
       "    <tr>\n",
       "      <th>410783</th>\n",
       "      <td>2022</td>\n",
       "      <td>0</td>\n",
       "    </tr>\n",
       "    <tr>\n",
       "      <th>410784</th>\n",
       "      <td>2022</td>\n",
       "      <td>0</td>\n",
       "    </tr>\n",
       "  </tbody>\n",
       "</table>\n",
       "<p>10141265 rows × 2 columns</p>\n",
       "</div>"
      ],
      "text/plain": [
       "        year col_type\n",
       "0       2010        0\n",
       "1       2010        1\n",
       "2       2010        1\n",
       "3       2010        1\n",
       "4       2010        1\n",
       "...      ...      ...\n",
       "410780  2022        0\n",
       "410781  2022        0\n",
       "410782  2022        0\n",
       "410783  2022        0\n",
       "410784  2022        0\n",
       "\n",
       "[10141265 rows x 2 columns]"
      ]
     },
     "execution_count": 5,
     "metadata": {},
     "output_type": "execute_result"
    }
   ],
   "source": [
    "selected #10,141,265 sentences in total "
   ]
  },
  {
   "cell_type": "code",
   "execution_count": 6,
   "metadata": {},
   "outputs": [],
   "source": [
    "df10_m = selected[selected[\"year\"] == \"2010\"].value_counts()[0]\n",
    "df10_f = selected[selected[\"year\"] == \"2010\"].value_counts()[1]\n",
    "df11_m = selected[selected[\"year\"] == \"2011\"].value_counts()[0]\n",
    "df11_f = selected[selected[\"year\"] == \"2011\"].value_counts()[1]\n",
    "df12_m = selected[selected[\"year\"] == \"2012\"].value_counts()[0]\n",
    "df12_f = selected[selected[\"year\"] == \"2012\"].value_counts()[1]\n",
    "df13_m = selected[selected[\"year\"] == \"2013\"].value_counts()[0]\n",
    "df13_f = selected[selected[\"year\"] == \"2013\"].value_counts()[1]\n",
    "df14_m = selected[selected[\"year\"] == \"2014\"].value_counts()[0]\n",
    "df14_f = selected[selected[\"year\"] == \"2014\"].value_counts()[1]\n",
    "df15_m = selected[selected[\"year\"] == \"2015\"].value_counts()[0]\n",
    "df15_f = selected[selected[\"year\"] == \"2015\"].value_counts()[1]\n",
    "df16_m = selected[selected[\"year\"] == \"2016\"].value_counts()[0]\n",
    "df16_f = selected[selected[\"year\"] == \"2016\"].value_counts()[1]\n",
    "df17_m = selected[selected[\"year\"] == \"2017\"].value_counts()[0]\n",
    "df17_f = selected[selected[\"year\"] == \"2017\"].value_counts()[1]\n",
    "df18_m = selected[selected[\"year\"] == \"2018\"].value_counts()[0]\n",
    "df18_f = selected[selected[\"year\"] == \"2018\"].value_counts()[1]\n",
    "df19_m = selected[selected[\"year\"] == \"2019\"].value_counts()[0]\n",
    "df19_f = selected[selected[\"year\"] == \"2019\"].value_counts()[1]\n",
    "df20_m = selected[selected[\"year\"] == \"2020\"].value_counts()[0]\n",
    "df20_f = selected[selected[\"year\"] == \"2020\"].value_counts()[1]\n",
    "df21_m = selected[selected[\"year\"] == \"2021\"].value_counts()[0]\n",
    "df21_f = selected[selected[\"year\"] == \"2021\"].value_counts()[1]\n",
    "df22_m = selected[selected[\"year\"] == \"2022\"].value_counts()[0]\n",
    "df22_f = selected[selected[\"year\"] == \"2022\"].value_counts()[1]"
   ]
  },
  {
   "cell_type": "code",
   "execution_count": 7,
   "metadata": {},
   "outputs": [],
   "source": [
    "data_inputs = pd.DataFrame({ \"year\": [2010, 2010, 2011, 2011, 2012, 2012, 2013, 2013, 2014, 2014, 2015, 2015, 2016, 2016, 2017, 2017, 2018, 2018, 2019, 2019, 2020, 2020, 2021, 2021, 2022, 2022],\n",
    "                            \"gender\": [\"male\", \"female\", \"male\", \"female\", \"male\", \"female\", \"male\", \"female\", \"male\", \"female\", \"male\", \"female\", \"male\", \"female\", \"male\", \"female\", \"male\", \"female\", \"male\", \"female\", \"male\", \"female\", \"male\", \"female\", \"male\", \"female\"], \n",
    "                           \"count_gen\": [df10_m, df10_f, df11_m, df11_f, df12_m, df12_f, df13_m, df13_f, df14_m, df14_f, df15_m, df15_f, df16_m, df16_f, df17_m, df17_f, df18_m, df18_f, df19_m, df19_f, df20_m, df20_f, df21_m, df21_f, df22_m, df22_f]})"
   ]
  },
  {
   "cell_type": "code",
   "execution_count": 75,
   "metadata": {},
   "outputs": [
    {
     "data": {
      "image/png": "[encoded data removed]",
      "text/plain": [
       "<Figure size 700x500 with 1 Axes>"
      ]
     },
     "metadata": {},
     "output_type": "display_data"
    }
   ],
   "source": [
    "# set the figure size\n",
    "plt.figure(figsize=(7, 5))\n",
    "\n",
    "# top bar female\n",
    "total = data_inputs.groupby('year')['count_gen'].sum().reset_index()\n",
    "bar1 = sns.barplot(x=\"year\",  y=\"count_gen\", data=total, color='palevioletred')\n",
    "\n",
    "# bottom bar male\n",
    "a1 = data_inputs[data_inputs.gender=='male']\n",
    "bar2 = sns.barplot(x=\"year\", y=\"count_gen\", data=a1, estimator=sum, ci=None,  color='royalblue')\n",
    "bar2.set_xticklabels(bar2.get_xticklabels(), rotation=45, ha='right')\n",
    "bar2.set_xlabel(\"Year\")\n",
    "bar2.set_ylabel(\"Count of Sentences\")\n",
    "bar2.ticklabel_format(style='plain', axis='y')\n",
    "bar2.yaxis.set_major_formatter('{x:,.0f}')\n",
    "\n",
    "# add legend\n",
    "top_bar = mpatches.Patch(color='palevioletred', label='female')\n",
    "bottom_bar = mpatches.Patch(color='royalblue', label='male')\n",
    "plt.legend(handles=[top_bar, bottom_bar])\n",
    "plt.title('Count of Sentences by Year & Gender')\n",
    "\n",
    "# show the graph\n",
    "plt.show()"
   ]
  },
  {
   "attachments": {},
   "cell_type": "markdown",
   "metadata": {},
   "source": [
    "**Doughnut Plots for Gender Representation**"
   ]
  },
  {
   "cell_type": "code",
   "execution_count": 10,
   "metadata": {},
   "outputs": [
    {
     "data": {
      "image/png": "[encoded data removed]",
      "text/plain": [
       "<Figure size 640x480 with 1 Axes>"
      ]
     },
     "metadata": {},
     "output_type": "display_data"
    }
   ],
   "source": [
    "#2010\n",
    "df10_m = selected[selected[\"year\"] == \"2010\"].value_counts()[0]\n",
    "df10_f = selected[selected[\"year\"] == \"2010\"].value_counts()[1]\n",
    "\n",
    "#2022 \n",
    "df22_m = selected[selected[\"year\"] == \"2022\"].value_counts()[0]\n",
    "df22_f = selected[selected[\"year\"] == \"2022\"].value_counts()[1]\n",
    "\n",
    "gender_dist=[df22_m, df22_f]\n",
    "labels = [\"male\", \"female\"]\n",
    "\n",
    "# Create a pieplot\n",
    "#plt.pie(gender_dist, colors=[\"royalblue\", \"palevioletred\"])\n",
    "plt.pie(gender_dist, labels=labels, colors=[\"royalblue\", \"palevioletred\"], autopct='%1.1f%%', startangle=180, counterclock=False, wedgeprops={'width': 1})\n",
    "\n",
    "# add a circle at the center to transform it in a donut chart\n",
    "my_circle=plt.Circle((0,0), 0.7, color='white')\n",
    "p=plt.gcf()\n",
    "p.gca().add_artist(my_circle)\n",
    "plt.title('Breakdown of Gender Representation in Sentences in 2022')\n",
    "\n",
    "plt.show()"
   ]
  },
  {
   "attachments": {},
   "cell_type": "markdown",
   "metadata": {},
   "source": [
    "**Lollipop Plot for Female Representation in News Articles**"
   ]
  },
  {
   "cell_type": "code",
   "execution_count": 29,
   "metadata": {},
   "outputs": [],
   "source": [
    "fem_data = data_inputs[data_inputs[\"gender\"] == \"female\"]\n",
    "male_data = data_inputs[data_inputs[\"gender\"] == \"male\"]"
   ]
  },
  {
   "cell_type": "code",
   "execution_count": 24,
   "metadata": {},
   "outputs": [],
   "source": [
    "#transformations\n",
    "col_f = fem_data[\"count_gen\"]\n",
    "col_m = male_data[\"count_gen\"]\n",
    "total = col_f + col_m\n",
    "fem_data_copy = fem_data.copy()\n",
    "fem_data_copy[\"total_counts\"] = total"
   ]
  },
  {
   "cell_type": "code",
   "execution_count": 38,
   "metadata": {},
   "outputs": [],
   "source": [
    "#reset index to prevent NaNs\n",
    "dff_reset = fem_data.reset_index(drop=True)\n",
    "dfm_reset = male_data.reset_index(drop=True)\n",
    "\n",
    "# add the columns together\n",
    "result = dff_reset['count_gen'] + dfm_reset['count_gen']\n",
    "dff_reset[\"result\"] = result\n",
    "dfm_reset[\"result\"] = result\n",
    "\n",
    "#divide them \n",
    "proportion = dff_reset[\"count_gen\"].div(dff_reset[\"result\"])\n",
    "dff_reset[\"proportion\"] = proportion"
   ]
  },
  {
   "cell_type": "code",
   "execution_count": 39,
   "metadata": {},
   "outputs": [
    {
     "data": {
      "text/html": [
       "<div>\n",
       "<style scoped>\n",
       "    .dataframe tbody tr th:only-of-type {\n",
       "        vertical-align: middle;\n",
       "    }\n",
       "\n",
       "    .dataframe tbody tr th {\n",
       "        vertical-align: top;\n",
       "    }\n",
       "\n",
       "    .dataframe thead th {\n",
       "        text-align: right;\n",
       "    }\n",
       "</style>\n",
       "<table border=\"1\" class=\"dataframe\">\n",
       "  <thead>\n",
       "    <tr style=\"text-align: right;\">\n",
       "      <th></th>\n",
       "      <th>year</th>\n",
       "      <th>gender</th>\n",
       "      <th>count_gen</th>\n",
       "      <th>result</th>\n",
       "      <th>proportion</th>\n",
       "    </tr>\n",
       "  </thead>\n",
       "  <tbody>\n",
       "    <tr>\n",
       "      <th>0</th>\n",
       "      <td>2010</td>\n",
       "      <td>female</td>\n",
       "      <td>124574</td>\n",
       "      <td>514547</td>\n",
       "      <td>0.242104</td>\n",
       "    </tr>\n",
       "    <tr>\n",
       "      <th>1</th>\n",
       "      <td>2011</td>\n",
       "      <td>female</td>\n",
       "      <td>226826</td>\n",
       "      <td>930939</td>\n",
       "      <td>0.243653</td>\n",
       "    </tr>\n",
       "    <tr>\n",
       "      <th>2</th>\n",
       "      <td>2012</td>\n",
       "      <td>female</td>\n",
       "      <td>237134</td>\n",
       "      <td>961239</td>\n",
       "      <td>0.246696</td>\n",
       "    </tr>\n",
       "    <tr>\n",
       "      <th>3</th>\n",
       "      <td>2013</td>\n",
       "      <td>female</td>\n",
       "      <td>237062</td>\n",
       "      <td>932510</td>\n",
       "      <td>0.254219</td>\n",
       "    </tr>\n",
       "    <tr>\n",
       "      <th>4</th>\n",
       "      <td>2014</td>\n",
       "      <td>female</td>\n",
       "      <td>240820</td>\n",
       "      <td>914722</td>\n",
       "      <td>0.263271</td>\n",
       "    </tr>\n",
       "    <tr>\n",
       "      <th>5</th>\n",
       "      <td>2015</td>\n",
       "      <td>female</td>\n",
       "      <td>237841</td>\n",
       "      <td>879446</td>\n",
       "      <td>0.270444</td>\n",
       "    </tr>\n",
       "    <tr>\n",
       "      <th>6</th>\n",
       "      <td>2016</td>\n",
       "      <td>female</td>\n",
       "      <td>256553</td>\n",
       "      <td>852564</td>\n",
       "      <td>0.300919</td>\n",
       "    </tr>\n",
       "    <tr>\n",
       "      <th>7</th>\n",
       "      <td>2017</td>\n",
       "      <td>female</td>\n",
       "      <td>277293</td>\n",
       "      <td>859569</td>\n",
       "      <td>0.322595</td>\n",
       "    </tr>\n",
       "    <tr>\n",
       "      <th>8</th>\n",
       "      <td>2018</td>\n",
       "      <td>female</td>\n",
       "      <td>285689</td>\n",
       "      <td>842023</td>\n",
       "      <td>0.339289</td>\n",
       "    </tr>\n",
       "    <tr>\n",
       "      <th>9</th>\n",
       "      <td>2019</td>\n",
       "      <td>female</td>\n",
       "      <td>274445</td>\n",
       "      <td>817195</td>\n",
       "      <td>0.335838</td>\n",
       "    </tr>\n",
       "    <tr>\n",
       "      <th>10</th>\n",
       "      <td>2020</td>\n",
       "      <td>female</td>\n",
       "      <td>241244</td>\n",
       "      <td>721646</td>\n",
       "      <td>0.334297</td>\n",
       "    </tr>\n",
       "    <tr>\n",
       "      <th>11</th>\n",
       "      <td>2021</td>\n",
       "      <td>female</td>\n",
       "      <td>178020</td>\n",
       "      <td>504080</td>\n",
       "      <td>0.353158</td>\n",
       "    </tr>\n",
       "    <tr>\n",
       "      <th>12</th>\n",
       "      <td>2022</td>\n",
       "      <td>female</td>\n",
       "      <td>149547</td>\n",
       "      <td>410785</td>\n",
       "      <td>0.364052</td>\n",
       "    </tr>\n",
       "  </tbody>\n",
       "</table>\n",
       "</div>"
      ],
      "text/plain": [
       "    year  gender  count_gen  result  proportion\n",
       "0   2010  female     124574  514547    0.242104\n",
       "1   2011  female     226826  930939    0.243653\n",
       "2   2012  female     237134  961239    0.246696\n",
       "3   2013  female     237062  932510    0.254219\n",
       "4   2014  female     240820  914722    0.263271\n",
       "5   2015  female     237841  879446    0.270444\n",
       "6   2016  female     256553  852564    0.300919\n",
       "7   2017  female     277293  859569    0.322595\n",
       "8   2018  female     285689  842023    0.339289\n",
       "9   2019  female     274445  817195    0.335838\n",
       "10  2020  female     241244  721646    0.334297\n",
       "11  2021  female     178020  504080    0.353158\n",
       "12  2022  female     149547  410785    0.364052"
      ]
     },
     "execution_count": 39,
     "metadata": {},
     "output_type": "execute_result"
    }
   ],
   "source": [
    "dff_reset"
   ]
  },
  {
   "cell_type": "code",
   "execution_count": 41,
   "metadata": {},
   "outputs": [
    {
     "name": "stderr",
     "output_type": "stream",
     "text": [
      "/var/folders/g0/r571pkwj6973dlq1m_v76wp40000gn/T/ipykernel_4193/352838415.py:6: MatplotlibDeprecationWarning: The 'use_line_collection' parameter of stem() was deprecated in Matplotlib 3.6 and will be removed two minor releases later. If any parameter follows 'use_line_collection', they should be passed as keyword, not positionally.\n",
      "  plt.stem(dff_reset['proportion'], markerfmt = 'D', linefmt ='palevioletred', use_line_collection = True)\n"
     ]
    },
    {
     "data": {
      "text/plain": [
       "Text(0, 0.5, 'Proportion')"
      ]
     },
     "execution_count": 41,
     "metadata": {},
     "output_type": "execute_result"
    },
    {
     "data": {
      "image/png": "[encoded data removed]",
      "text/plain": [
       "<Figure size 640x480 with 1 Axes>"
      ]
     },
     "metadata": {},
     "output_type": "display_data"
    }
   ],
   "source": [
    "# Reorder it following the values:\n",
    "ordered_df = dff_reset.sort_values(by='proportion')\n",
    "my_range=range(1,len(dff_reset.index)+1)\n",
    "\n",
    "# Make the plot\n",
    "plt.stem(dff_reset['proportion'], markerfmt = 'D', linefmt ='palevioletred', use_line_collection = True)\n",
    "plt.xticks(my_range, dff_reset['year'], rotation = 45)\n",
    "plt.title(\"Proportion of Female Sentences\")\n",
    "plt.xlabel('Year')\n",
    "plt.ylabel('Proportion')\n",
    "#plt.yaxis.set_major_formatter('{x:,.0f}')"
   ]
  },
  {
   "attachments": {},
   "cell_type": "markdown",
   "metadata": {},
   "source": [
    "to add for EDA: \n",
    "- most featured words\n",
    "- vocab size decade wide "
   ]
  }
 ],
 "metadata": {
  "kernelspec": {
   "display_name": "base",
   "language": "python",
   "name": "python3"
  },
  "language_info": {
   "codemirror_mode": {
    "name": "ipython",
    "version": 3
   },
   "file_extension": ".py",
   "mimetype": "text/x-python",
   "name": "python",
   "nbconvert_exporter": "python",
   "pygments_lexer": "ipython3",
   "version": "3.9.12"
  },
  "orig_nbformat": 4
 },
 "nbformat": 4,
 "nbformat_minor": 2
}
