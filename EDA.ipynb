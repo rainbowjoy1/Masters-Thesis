{
 "cells": [
  {
   "cell_type": "code",
   "execution_count": 1,
   "metadata": {},
   "outputs": [],
   "source": [
    "import pandas as pd\n",
    "import seaborn as sns \n",
    "import matplotlib.pyplot as plt\n",
    "import matplotlib.patches as mpatches"
   ]
  },
  {
   "cell_type": "code",
   "execution_count": 2,
   "metadata": {},
   "outputs": [],
   "source": [
    "file_path = \"/Users/yolandaferreirofranchi/Desktop/ThesisDatasets/\"\n",
    "file_path_2 = \"_final_rnn.pickle\"\n",
    "\n",
    "df_10= pd.read_pickle(file_path + \"2010\" + file_path_2)\n",
    "df_11= pd.read_pickle(file_path + \"2011\" + file_path_2)\n",
    "df_12= pd.read_pickle(file_path + \"2012\" + file_path_2)\n",
    "df_13= pd.read_pickle(file_path + \"2013\" + file_path_2)\n",
    "df_14= pd.read_pickle(file_path + \"2014\" + file_path_2)\n",
    "df_15= pd.read_pickle(file_path + \"2015\" + file_path_2)\n",
    "df_16= pd.read_pickle(file_path + \"2016\" + file_path_2)\n",
    "df_17= pd.read_pickle(file_path + \"2017\" + file_path_2)\n",
    "df_18= pd.read_pickle(file_path + \"2018\" + file_path_2)\n",
    "df_19= pd.read_pickle(file_path + \"2019\" + file_path_2)\n",
    "df_20= pd.read_pickle(file_path + \"2020\" + file_path_2)\n",
    "df_21= pd.read_pickle(file_path + \"2021\" + file_path_2)\n",
    "df_22= pd.read_pickle(file_path + \"2022\" + file_path_2)"
   ]
  },
  {
   "cell_type": "code",
   "execution_count": 3,
   "metadata": {},
   "outputs": [],
   "source": [
    "df_all = pd.concat([df_10, df_11, df_12, df_13, df_14, df_15, df_16, df_17, df_18, df_19, df_20, df_21, df_22])"
   ]
  },
  {
   "attachments": {},
   "cell_type": "markdown",
   "metadata": {},
   "source": [
    "**Stacked Bar Chart of Sentence Count By Gender By Year**"
   ]
  },
  {
   "cell_type": "code",
   "execution_count": 4,
   "metadata": {},
   "outputs": [],
   "source": [
    "selected = df_all[[\"year\", \"col_type\"]]"
   ]
  },
  {
   "cell_type": "code",
   "execution_count": 5,
   "metadata": {},
   "outputs": [
    {
     "data": {
      "text/html": [
       "<div>\n",
       "<style scoped>\n",
       "    .dataframe tbody tr th:only-of-type {\n",
       "        vertical-align: middle;\n",
       "    }\n",
       "\n",
       "    .dataframe tbody tr th {\n",
       "        vertical-align: top;\n",
       "    }\n",
       "\n",
       "    .dataframe thead th {\n",
       "        text-align: right;\n",
       "    }\n",
       "</style>\n",
       "<table border=\"1\" class=\"dataframe\">\n",
       "  <thead>\n",
       "    <tr style=\"text-align: right;\">\n",
       "      <th></th>\n",
       "      <th>year</th>\n",
       "      <th>col_type</th>\n",
       "    </tr>\n",
       "  </thead>\n",
       "  <tbody>\n",
       "    <tr>\n",
       "      <th>0</th>\n",
       "      <td>2010</td>\n",
       "      <td>0</td>\n",
       "    </tr>\n",
       "    <tr>\n",
       "      <th>1</th>\n",
       "      <td>2010</td>\n",
       "      <td>1</td>\n",
       "    </tr>\n",
       "    <tr>\n",
       "      <th>2</th>\n",
       "      <td>2010</td>\n",
       "      <td>1</td>\n",
       "    </tr>\n",
       "    <tr>\n",
       "      <th>3</th>\n",
       "      <td>2010</td>\n",
       "      <td>1</td>\n",
       "    </tr>\n",
       "    <tr>\n",
       "      <th>4</th>\n",
       "      <td>2010</td>\n",
       "      <td>1</td>\n",
       "    </tr>\n",
       "    <tr>\n",
       "      <th>...</th>\n",
       "      <td>...</td>\n",
       "      <td>...</td>\n",
       "    </tr>\n",
       "    <tr>\n",
       "      <th>410780</th>\n",
       "      <td>2022</td>\n",
       "      <td>0</td>\n",
       "    </tr>\n",
       "    <tr>\n",
       "      <th>410781</th>\n",
       "      <td>2022</td>\n",
       "      <td>0</td>\n",
       "    </tr>\n",
       "    <tr>\n",
       "      <th>410782</th>\n",
       "      <td>2022</td>\n",
       "      <td>0</td>\n",
       "    </tr>\n",
       "    <tr>\n",
       "      <th>410783</th>\n",
       "      <td>2022</td>\n",
       "      <td>0</td>\n",
       "    </tr>\n",
       "    <tr>\n",
       "      <th>410784</th>\n",
       "      <td>2022</td>\n",
       "      <td>0</td>\n",
       "    </tr>\n",
       "  </tbody>\n",
       "</table>\n",
       "<p>10141265 rows × 2 columns</p>\n",
       "</div>"
      ],
      "text/plain": [
       "        year col_type\n",
       "0       2010        0\n",
       "1       2010        1\n",
       "2       2010        1\n",
       "3       2010        1\n",
       "4       2010        1\n",
       "...      ...      ...\n",
       "410780  2022        0\n",
       "410781  2022        0\n",
       "410782  2022        0\n",
       "410783  2022        0\n",
       "410784  2022        0\n",
       "\n",
       "[10141265 rows x 2 columns]"
      ]
     },
     "execution_count": 5,
     "metadata": {},
     "output_type": "execute_result"
    }
   ],
   "source": [
    "selected #10,141,265 sentences in total "
   ]
  },
  {
   "cell_type": "code",
   "execution_count": 6,
   "metadata": {},
   "outputs": [],
   "source": [
    "df10_m = selected[selected[\"year\"] == \"2010\"].value_counts()[0]\n",
    "df10_f = selected[selected[\"year\"] == \"2010\"].value_counts()[1]\n",
    "df11_m = selected[selected[\"year\"] == \"2011\"].value_counts()[0]\n",
    "df11_f = selected[selected[\"year\"] == \"2011\"].value_counts()[1]\n",
    "df12_m = selected[selected[\"year\"] == \"2012\"].value_counts()[0]\n",
    "df12_f = selected[selected[\"year\"] == \"2012\"].value_counts()[1]\n",
    "df13_m = selected[selected[\"year\"] == \"2013\"].value_counts()[0]\n",
    "df13_f = selected[selected[\"year\"] == \"2013\"].value_counts()[1]\n",
    "df14_m = selected[selected[\"year\"] == \"2014\"].value_counts()[0]\n",
    "df14_f = selected[selected[\"year\"] == \"2014\"].value_counts()[1]\n",
    "df15_m = selected[selected[\"year\"] == \"2015\"].value_counts()[0]\n",
    "df15_f = selected[selected[\"year\"] == \"2015\"].value_counts()[1]\n",
    "df16_m = selected[selected[\"year\"] == \"2016\"].value_counts()[0]\n",
    "df16_f = selected[selected[\"year\"] == \"2016\"].value_counts()[1]\n",
    "df17_m = selected[selected[\"year\"] == \"2017\"].value_counts()[0]\n",
    "df17_f = selected[selected[\"year\"] == \"2017\"].value_counts()[1]\n",
    "df18_m = selected[selected[\"year\"] == \"2018\"].value_counts()[0]\n",
    "df18_f = selected[selected[\"year\"] == \"2018\"].value_counts()[1]\n",
    "df19_m = selected[selected[\"year\"] == \"2019\"].value_counts()[0]\n",
    "df19_f = selected[selected[\"year\"] == \"2019\"].value_counts()[1]\n",
    "df20_m = selected[selected[\"year\"] == \"2020\"].value_counts()[0]\n",
    "df20_f = selected[selected[\"year\"] == \"2020\"].value_counts()[1]\n",
    "df21_m = selected[selected[\"year\"] == \"2021\"].value_counts()[0]\n",
    "df21_f = selected[selected[\"year\"] == \"2021\"].value_counts()[1]\n",
    "df22_m = selected[selected[\"year\"] == \"2022\"].value_counts()[0]\n",
    "df22_f = selected[selected[\"year\"] == \"2022\"].value_counts()[1]"
   ]
  },
  {
   "cell_type": "code",
   "execution_count": 7,
   "metadata": {},
   "outputs": [],
   "source": [
    "data_inputs = pd.DataFrame({ \"year\": [2010, 2010, 2011, 2011, 2012, 2012, 2013, 2013, 2014, 2014, 2015, 2015, 2016, 2016, 2017, 2017, 2018, 2018, 2019, 2019, 2020, 2020, 2021, 2021, 2022, 2022],\n",
    "                            \"gender\": [\"male\", \"female\", \"male\", \"female\", \"male\", \"female\", \"male\", \"female\", \"male\", \"female\", \"male\", \"female\", \"male\", \"female\", \"male\", \"female\", \"male\", \"female\", \"male\", \"female\", \"male\", \"female\", \"male\", \"female\", \"male\", \"female\"], \n",
    "                           \"count_gen\": [df10_m, df10_f, df11_m, df11_f, df12_m, df12_f, df13_m, df13_f, df14_m, df14_f, df15_m, df15_f, df16_m, df16_f, df17_m, df17_f, df18_m, df18_f, df19_m, df19_f, df20_m, df20_f, df21_m, df21_f, df22_m, df22_f]})"
   ]
  },
  {
   "cell_type": "code",
   "execution_count": 75,
   "metadata": {},
   "outputs": [
    {
     "data": {
      "image/png": "[encoded data removed]",
      "text/plain": [
       "<Figure size 700x500 with 1 Axes>"
      ]
     },
     "metadata": {},
     "output_type": "display_data"
    }
   ],
   "source": [
    "# set the figure size\n",
    "plt.figure(figsize=(7, 5))\n",
    "\n",
    "# top bar female\n",
    "total = data_inputs.groupby('year')['count_gen'].sum().reset_index()\n",
    "bar1 = sns.barplot(x=\"year\",  y=\"count_gen\", data=total, color='palevioletred')\n",
    "\n",
    "# bottom bar male\n",
    "a1 = data_inputs[data_inputs.gender=='male']\n",
    "bar2 = sns.barplot(x=\"year\", y=\"count_gen\", data=a1, estimator=sum, ci=None,  color='royalblue')\n",
    "bar2.set_xticklabels(bar2.get_xticklabels(), rotation=45, ha='right')\n",
    "bar2.set_xlabel(\"Year\")\n",
    "bar2.set_ylabel(\"Count of Sentences\")\n",
    "bar2.ticklabel_format(style='plain', axis='y')\n",
    "bar2.yaxis.set_major_formatter('{x:,.0f}')\n",
    "\n",
    "# add legend\n",
    "top_bar = mpatches.Patch(color='palevioletred', label='female')\n",
    "bottom_bar = mpatches.Patch(color='royalblue', label='male')\n",
    "plt.legend(handles=[top_bar, bottom_bar])\n",
    "plt.title('Count of Sentences by Year & Gender')\n",
    "\n",
    "# show the graph\n",
    "plt.show()"
   ]
  },
  {
   "attachments": {},
   "cell_type": "markdown",
   "metadata": {},
   "source": [
    "**Doughnut Plots for Gender Representation**"
   ]
  },
  {
   "cell_type": "code",
   "execution_count": 10,
   "metadata": {},
   "outputs": [
    {
     "data": {
      "image/png": "[encoded data removed]",
      "text/plain": [
       "<Figure size 640x480 with 1 Axes>"
      ]
     },
     "metadata": {},
     "output_type": "display_data"
    }
   ],
   "source": [
    "#2010\n",
    "df10_m = selected[selected[\"year\"] == \"2010\"].value_counts()[0]\n",
    "df10_f = selected[selected[\"year\"] == \"2010\"].value_counts()[1]\n",
    "\n",
    "#2022 \n",
    "df22_m = selected[selected[\"year\"] == \"2022\"].value_counts()[0]\n",
    "df22_f = selected[selected[\"year\"] == \"2022\"].value_counts()[1]\n",
    "\n",
    "gender_dist=[df22_m, df22_f]\n",
    "labels = [\"male\", \"female\"]\n",
    "\n",
    "# Create a pieplot\n",
    "#plt.pie(gender_dist, colors=[\"royalblue\", \"palevioletred\"])\n",
    "plt.pie(gender_dist, labels=labels, colors=[\"royalblue\", \"palevioletred\"], autopct='%1.1f%%', startangle=180, counterclock=False, wedgeprops={'width': 1})\n",
    "\n",
    "# add a circle at the center to transform it in a donut chart\n",
    "my_circle=plt.Circle((0,0), 0.7, color='white')\n",
    "p=plt.gcf()\n",
    "p.gca().add_artist(my_circle)\n",
    "plt.title('Breakdown of Gender Representation in Sentences in 2022')\n",
    "\n",
    "plt.show()"
   ]
  },
  {
   "attachments": {},
   "cell_type": "markdown",
   "metadata": {},
   "source": [
    "**Lollipop Plot for Female Representation in News Articles**"
   ]
  },
  {
   "cell_type": "code",
   "execution_count": null,
   "metadata": {},
   "outputs": [],
   "source": [
    "##Yolanda needs to recalculate proportions to make the lollipop graph proportional!"
   ]
  },
  {
   "cell_type": "code",
   "execution_count": 8,
   "metadata": {},
   "outputs": [
    {
     "data": {
      "text/html": [
       "<div>\n",
       "<style scoped>\n",
       "    .dataframe tbody tr th:only-of-type {\n",
       "        vertical-align: middle;\n",
       "    }\n",
       "\n",
       "    .dataframe tbody tr th {\n",
       "        vertical-align: top;\n",
       "    }\n",
       "\n",
       "    .dataframe thead th {\n",
       "        text-align: right;\n",
       "    }\n",
       "</style>\n",
       "<table border=\"1\" class=\"dataframe\">\n",
       "  <thead>\n",
       "    <tr style=\"text-align: right;\">\n",
       "      <th></th>\n",
       "      <th>year</th>\n",
       "      <th>gender</th>\n",
       "      <th>count_gen</th>\n",
       "    </tr>\n",
       "  </thead>\n",
       "  <tbody>\n",
       "    <tr>\n",
       "      <th>1</th>\n",
       "      <td>2010</td>\n",
       "      <td>female</td>\n",
       "      <td>124574</td>\n",
       "    </tr>\n",
       "    <tr>\n",
       "      <th>3</th>\n",
       "      <td>2011</td>\n",
       "      <td>female</td>\n",
       "      <td>226826</td>\n",
       "    </tr>\n",
       "    <tr>\n",
       "      <th>5</th>\n",
       "      <td>2012</td>\n",
       "      <td>female</td>\n",
       "      <td>237134</td>\n",
       "    </tr>\n",
       "    <tr>\n",
       "      <th>7</th>\n",
       "      <td>2013</td>\n",
       "      <td>female</td>\n",
       "      <td>237062</td>\n",
       "    </tr>\n",
       "    <tr>\n",
       "      <th>9</th>\n",
       "      <td>2014</td>\n",
       "      <td>female</td>\n",
       "      <td>240820</td>\n",
       "    </tr>\n",
       "    <tr>\n",
       "      <th>11</th>\n",
       "      <td>2015</td>\n",
       "      <td>female</td>\n",
       "      <td>237841</td>\n",
       "    </tr>\n",
       "    <tr>\n",
       "      <th>13</th>\n",
       "      <td>2016</td>\n",
       "      <td>female</td>\n",
       "      <td>256553</td>\n",
       "    </tr>\n",
       "    <tr>\n",
       "      <th>15</th>\n",
       "      <td>2017</td>\n",
       "      <td>female</td>\n",
       "      <td>277293</td>\n",
       "    </tr>\n",
       "    <tr>\n",
       "      <th>17</th>\n",
       "      <td>2018</td>\n",
       "      <td>female</td>\n",
       "      <td>285689</td>\n",
       "    </tr>\n",
       "    <tr>\n",
       "      <th>19</th>\n",
       "      <td>2019</td>\n",
       "      <td>female</td>\n",
       "      <td>274445</td>\n",
       "    </tr>\n",
       "    <tr>\n",
       "      <th>21</th>\n",
       "      <td>2020</td>\n",
       "      <td>female</td>\n",
       "      <td>241244</td>\n",
       "    </tr>\n",
       "    <tr>\n",
       "      <th>23</th>\n",
       "      <td>2021</td>\n",
       "      <td>female</td>\n",
       "      <td>178020</td>\n",
       "    </tr>\n",
       "    <tr>\n",
       "      <th>25</th>\n",
       "      <td>2022</td>\n",
       "      <td>female</td>\n",
       "      <td>149547</td>\n",
       "    </tr>\n",
       "  </tbody>\n",
       "</table>\n",
       "</div>"
      ],
      "text/plain": [
       "    year  gender  count_gen\n",
       "1   2010  female     124574\n",
       "3   2011  female     226826\n",
       "5   2012  female     237134\n",
       "7   2013  female     237062\n",
       "9   2014  female     240820\n",
       "11  2015  female     237841\n",
       "13  2016  female     256553\n",
       "15  2017  female     277293\n",
       "17  2018  female     285689\n",
       "19  2019  female     274445\n",
       "21  2020  female     241244\n",
       "23  2021  female     178020\n",
       "25  2022  female     149547"
      ]
     },
     "execution_count": 8,
     "metadata": {},
     "output_type": "execute_result"
    }
   ],
   "source": [
    "fem_data = data_inputs[data_inputs[\"gender\"] == \"female\"]\n",
    "fem_data"
   ]
  },
  {
   "cell_type": "code",
   "execution_count": 9,
   "metadata": {},
   "outputs": [
    {
     "ename": "KeyError",
     "evalue": "'proportion'",
     "output_type": "error",
     "traceback": [
      "\u001b[0;31m---------------------------------------------------------------------------\u001b[0m",
      "\u001b[0;31mKeyError\u001b[0m                                  Traceback (most recent call last)",
      "\u001b[0;32m/var/folders/g0/r571pkwj6973dlq1m_v76wp40000gn/T/ipykernel_19956/2354921445.py\u001b[0m in \u001b[0;36m<module>\u001b[0;34m\u001b[0m\n\u001b[1;32m      1\u001b[0m \u001b[0;31m# Reorder it following the values:\u001b[0m\u001b[0;34m\u001b[0m\u001b[0;34m\u001b[0m\u001b[0m\n\u001b[0;32m----> 2\u001b[0;31m \u001b[0mordered_df\u001b[0m \u001b[0;34m=\u001b[0m \u001b[0mfem_data\u001b[0m\u001b[0;34m.\u001b[0m\u001b[0msort_values\u001b[0m\u001b[0;34m(\u001b[0m\u001b[0mby\u001b[0m\u001b[0;34m=\u001b[0m\u001b[0;34m'proportion'\u001b[0m\u001b[0;34m)\u001b[0m\u001b[0;34m\u001b[0m\u001b[0;34m\u001b[0m\u001b[0m\n\u001b[0m\u001b[1;32m      3\u001b[0m \u001b[0mmy_range\u001b[0m\u001b[0;34m=\u001b[0m\u001b[0mrange\u001b[0m\u001b[0;34m(\u001b[0m\u001b[0;36m1\u001b[0m\u001b[0;34m,\u001b[0m\u001b[0mlen\u001b[0m\u001b[0;34m(\u001b[0m\u001b[0mfem_data\u001b[0m\u001b[0;34m.\u001b[0m\u001b[0mindex\u001b[0m\u001b[0;34m)\u001b[0m\u001b[0;34m+\u001b[0m\u001b[0;36m1\u001b[0m\u001b[0;34m)\u001b[0m\u001b[0;34m\u001b[0m\u001b[0;34m\u001b[0m\u001b[0m\n\u001b[1;32m      4\u001b[0m \u001b[0;34m\u001b[0m\u001b[0m\n\u001b[1;32m      5\u001b[0m \u001b[0;31m# Make the plot\u001b[0m\u001b[0;34m\u001b[0m\u001b[0;34m\u001b[0m\u001b[0m\n",
      "\u001b[0;32m~/opt/anaconda3/lib/python3.9/site-packages/pandas/util/_decorators.py\u001b[0m in \u001b[0;36mwrapper\u001b[0;34m(*args, **kwargs)\u001b[0m\n\u001b[1;32m    309\u001b[0m                     \u001b[0mstacklevel\u001b[0m\u001b[0;34m=\u001b[0m\u001b[0mstacklevel\u001b[0m\u001b[0;34m,\u001b[0m\u001b[0;34m\u001b[0m\u001b[0;34m\u001b[0m\u001b[0m\n\u001b[1;32m    310\u001b[0m                 )\n\u001b[0;32m--> 311\u001b[0;31m             \u001b[0;32mreturn\u001b[0m \u001b[0mfunc\u001b[0m\u001b[0;34m(\u001b[0m\u001b[0;34m*\u001b[0m\u001b[0margs\u001b[0m\u001b[0;34m,\u001b[0m \u001b[0;34m**\u001b[0m\u001b[0mkwargs\u001b[0m\u001b[0;34m)\u001b[0m\u001b[0;34m\u001b[0m\u001b[0;34m\u001b[0m\u001b[0m\n\u001b[0m\u001b[1;32m    312\u001b[0m \u001b[0;34m\u001b[0m\u001b[0m\n\u001b[1;32m    313\u001b[0m         \u001b[0;32mreturn\u001b[0m \u001b[0mwrapper\u001b[0m\u001b[0;34m\u001b[0m\u001b[0;34m\u001b[0m\u001b[0m\n",
      "\u001b[0;32m~/opt/anaconda3/lib/python3.9/site-packages/pandas/core/frame.py\u001b[0m in \u001b[0;36msort_values\u001b[0;34m(self, by, axis, ascending, inplace, kind, na_position, ignore_index, key)\u001b[0m\n\u001b[1;32m   6320\u001b[0m \u001b[0;34m\u001b[0m\u001b[0m\n\u001b[1;32m   6321\u001b[0m             \u001b[0mby\u001b[0m \u001b[0;34m=\u001b[0m \u001b[0mby\u001b[0m\u001b[0;34m[\u001b[0m\u001b[0;36m0\u001b[0m\u001b[0;34m]\u001b[0m\u001b[0;34m\u001b[0m\u001b[0;34m\u001b[0m\u001b[0m\n\u001b[0;32m-> 6322\u001b[0;31m             \u001b[0mk\u001b[0m \u001b[0;34m=\u001b[0m \u001b[0mself\u001b[0m\u001b[0;34m.\u001b[0m\u001b[0m_get_label_or_level_values\u001b[0m\u001b[0;34m(\u001b[0m\u001b[0mby\u001b[0m\u001b[0;34m,\u001b[0m \u001b[0maxis\u001b[0m\u001b[0;34m=\u001b[0m\u001b[0maxis\u001b[0m\u001b[0;34m)\u001b[0m\u001b[0;34m\u001b[0m\u001b[0;34m\u001b[0m\u001b[0m\n\u001b[0m\u001b[1;32m   6323\u001b[0m \u001b[0;34m\u001b[0m\u001b[0m\n\u001b[1;32m   6324\u001b[0m             \u001b[0;31m# need to rewrap column in Series to apply key function\u001b[0m\u001b[0;34m\u001b[0m\u001b[0;34m\u001b[0m\u001b[0m\n",
      "\u001b[0;32m~/opt/anaconda3/lib/python3.9/site-packages/pandas/core/generic.py\u001b[0m in \u001b[0;36m_get_label_or_level_values\u001b[0;34m(self, key, axis)\u001b[0m\n\u001b[1;32m   1838\u001b[0m             \u001b[0mvalues\u001b[0m \u001b[0;34m=\u001b[0m \u001b[0mself\u001b[0m\u001b[0;34m.\u001b[0m\u001b[0maxes\u001b[0m\u001b[0;34m[\u001b[0m\u001b[0maxis\u001b[0m\u001b[0;34m]\u001b[0m\u001b[0;34m.\u001b[0m\u001b[0mget_level_values\u001b[0m\u001b[0;34m(\u001b[0m\u001b[0mkey\u001b[0m\u001b[0;34m)\u001b[0m\u001b[0;34m.\u001b[0m\u001b[0m_values\u001b[0m\u001b[0;34m\u001b[0m\u001b[0;34m\u001b[0m\u001b[0m\n\u001b[1;32m   1839\u001b[0m         \u001b[0;32melse\u001b[0m\u001b[0;34m:\u001b[0m\u001b[0;34m\u001b[0m\u001b[0;34m\u001b[0m\u001b[0m\n\u001b[0;32m-> 1840\u001b[0;31m             \u001b[0;32mraise\u001b[0m \u001b[0mKeyError\u001b[0m\u001b[0;34m(\u001b[0m\u001b[0mkey\u001b[0m\u001b[0;34m)\u001b[0m\u001b[0;34m\u001b[0m\u001b[0;34m\u001b[0m\u001b[0m\n\u001b[0m\u001b[1;32m   1841\u001b[0m \u001b[0;34m\u001b[0m\u001b[0m\n\u001b[1;32m   1842\u001b[0m         \u001b[0;31m# Check for duplicates\u001b[0m\u001b[0;34m\u001b[0m\u001b[0;34m\u001b[0m\u001b[0m\n",
      "\u001b[0;31mKeyError\u001b[0m: 'proportion'"
     ]
    }
   ],
   "source": [
    "# Reorder it following the values:\n",
    "ordered_df = fem_data.sort_values(by='proportion')\n",
    "my_range=range(1,len(fem_data.index)+1)\n",
    "\n",
    "# Make the plot\n",
    "plt.stem(ordered_df['proportion'], markerfmt = 'D', linefmt ='palevioletred', use_line_collection = True)\n",
    "plt.xticks(my_range, ordered_df['year'], rotation = 45)\n",
    "plt.title(\"Proportion of Female Sentences\")\n",
    "plt.xlabel('Year')\n",
    "plt.ylabel('Count')\n",
    "#plt.yaxis.set_major_formatter('{x:,.0f}')"
   ]
  },
  {
   "attachments": {},
   "cell_type": "markdown",
   "metadata": {},
   "source": [
    "to add for EDA: \n",
    "- most featured words\n",
    "- vocab size decade wide "
   ]
  }
 ],
 "metadata": {
  "kernelspec": {
   "display_name": "base",
   "language": "python",
   "name": "python3"
  },
  "language_info": {
   "codemirror_mode": {
    "name": "ipython",
    "version": 3
   },
   "file_extension": ".py",
   "mimetype": "text/x-python",
   "name": "python",
   "nbconvert_exporter": "python",
   "pygments_lexer": "ipython3",
   "version": "3.9.12"
  },
  "orig_nbformat": 4
 },
 "nbformat": 4,
 "nbformat_minor": 2
}
